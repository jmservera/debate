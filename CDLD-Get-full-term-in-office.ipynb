{
  "cells": [
    {
      "cell_type": "code",
      "source": [
        "# Imports\r\n",
        "from html.parser import HTMLParser\r\n",
        "import re\r\n",
        "import requests\r\n",
        "import urllib3\r\n",
        "import html\r\n",
        "import pandas as pd"
      ],
      "outputs": [],
      "execution_count": 2,
      "metadata": {
        "gather": {
          "logged": 1668109319810
        }
      }
    },
    {
      "cell_type": "code",
      "source": [
        "\"\"\"\r\n",
        "A simple parser to extract all the text of a publication from the body.\r\n",
        "It removes any internal script and removes special characters with the str.strip function.\r\n",
        "It also gets rid of pagination (Página nnn)\r\n",
        "\"\"\"\r\n",
        "class PublicationParser(HTMLParser):\r\n",
        "    #Initializing lists\r\n",
        "    lsStartTags = list()\r\n",
        "    lsEndTags = list()\r\n",
        "    lsStartEndTags = list()\r\n",
        "    lsComments = list()\r\n",
        "    lsData=list()\r\n",
        "\r\n",
        "    # Indicates when we are inside the body tag\r\n",
        "    inBody=False\r\n",
        "    # Marker for scripts\r\n",
        "    inScript=False\r\n",
        "\r\n",
        "    #HTML Parser Methods\r\n",
        "    def handle_starttag(self, startTag, attrs):\r\n",
        "        self.lsStartTags.append(startTag)\r\n",
        "        if(startTag==\"body\"):\r\n",
        "            self.inBody=True\r\n",
        "        if(startTag==\"script\"):\r\n",
        "            self.inScript=True\r\n",
        "\r\n",
        "    def handle_endtag(self, endTag):\r\n",
        "        self.lsEndTags.append(endTag)\r\n",
        "        if(endTag==\"body\"):\r\n",
        "            self.inBody=False\r\n",
        "        elif(endTag==\"script\"):\r\n",
        "            self.inScript=False\r\n",
        "\r\n",
        "    def handle_startendtag(self,startendTag, attrs):\r\n",
        "       self.lsStartEndTags.append(startendTag)\r\n",
        "\r\n",
        "    def handle_comment(self,data):\r\n",
        "       self.lsComments.append(data)\r\n",
        "\r\n",
        "    def handle_data(self, data):\r\n",
        "        if(self.inBody and not self.inScript and data!=''):\r\n",
        "            if(not (data.startswith('Página ') or data.startswith('(Página') )):\r\n",
        "                clean=data.strip()\r\n",
        "                if(clean!=''):\r\n",
        "                    self.lsData.append(clean)\r\n"
      ],
      "outputs": [],
      "execution_count": 8,
      "metadata": {
        "jupyter": {
          "source_hidden": false,
          "outputs_hidden": false
        },
        "nteract": {
          "transient": {
            "deleting": false
          }
        },
        "gather": {
          "logged": 1668098187782
        }
      }
    },
    {
      "cell_type": "code",
      "source": [
        "term=\"XII\"\r\n",
        "#page=f\"https://www.congreso.es/publicaciones-organo?p_p_id=publicaciones&p_p_lifecycle=0&p_p_state=normal&p_p_mode=view&_publicaciones_descOrg=Pleno-y-Diputacion-Permanente&_publicaciones_legislatura={term}&_publicaciones_seccion=Congreso&_publicaciones_publicacion=D\"\r\n",
        "page=f\"https://www.congreso.es/publicaciones-organo?p_p_id=publicaciones&p_p_lifecycle=2&p_p_state=normal&p_p_mode=view&p_p_resource_id=filtrarListado&p_p_cacheability=cacheLevelPage&_publicaciones_seccion=Congreso&_publicaciones_legislatura={term}&_publicaciones_descOrg=Pleno-y-Diputacion-Permanente&_publicaciones_publicacion=D\""
      ],
      "outputs": [],
      "execution_count": 3,
      "metadata": {
        "jupyter": {
          "source_hidden": false,
          "outputs_hidden": false
        },
        "nteract": {
          "transient": {
            "deleting": false
          }
        },
        "gather": {
          "logged": 1668109321617
        }
      }
    },
    {
      "cell_type": "code",
      "source": [
        "http = urllib3.PoolManager()\r\n",
        "r=http.request(\"GET\",page)\r\n",
        "print(r.status)"
      ],
      "outputs": [
        {
          "output_type": "stream",
          "name": "stdout",
          "text": "200\n"
        }
      ],
      "execution_count": 14,
      "metadata": {
        "jupyter": {
          "source_hidden": false,
          "outputs_hidden": false
        },
        "nteract": {
          "transient": {
            "deleting": false
          }
        },
        "gather": {
          "logged": 1668098712813
        }
      }
    },
    {
      "cell_type": "code",
      "source": [
        "import json\r\n",
        "\r\n",
        "term=\"14\"\r\n",
        "pagenr=1\r\n",
        "#page=f\"https://www.congreso.es/publicaciones-organo?p_p_id=publicaciones&p_p_lifecycle=0&p_p_state=normal&p_p_mode=view&_publicaciones_descOrg=Pleno-y-Diputacion-Permanente&_publicaciones_legislatura={term}&_publicaciones_seccion=Congreso&_publicaciones_publicacion=D\"\r\n",
        "pagequery=f\"https://www.congreso.es/publicaciones-organo?p_p_id=publicaciones&p_p_lifecycle=2&p_p_state=normal&p_p_mode=view&p_p_resource_id=filtrarListado&p_p_cacheability=cacheLevelPage&_publicaciones_seccion=Congreso&_publicaciones_descOrg=Pleno-y-Diputacion-Permanente&_publicaciones_publicacion=D\"\r\n",
        "pageform={\"_publicaciones_legislatura\":term,\r\n",
        "            \"_publicaciones_comision\":'',\r\n",
        "            \"_publicaciones_seccion\":'',\r\n",
        "          \"_publicaciones_fromOrganos\":1,\r\n",
        "          \"_publicaciones_paginaActual\":pagenr\r\n",
        "}\r\n",
        "\r\n",
        "http = urllib3.PoolManager()\r\n",
        "\r\n",
        "headers = {'Content-Type': 'application/x-www-form-urlencoded; charset=UTF-8',\r\n",
        "           'accept':'application/json, text/javascript, */*; q=0.01'\r\n",
        "}\r\n",
        "#r=http.request(\"POST\",pagequery,headers=headers,data=pageform)\r\n",
        "r=http.request_encode_body('POST',pagequery,headers=headers,fields=pageform,encode_multipart=False)\r\n",
        "print(r.status)\r\n",
        "print(r.data.decode(\"utf-8\"))\r\n",
        "\r\n",
        "\r\n",
        "json.loads(r.data.decode(\"utf-8\"))\r\n",
        "#DSCD-14-PL-1-C1%20DSCD-14-PL-1.CODI.#1"
      ],
      "outputs": [
        {
          "output_type": "stream",
          "name": "stdout",
          "text": "200\n{\"documento10\":{\"diario\":\"/public_oficiales/L14/CONG/DS/PL/DSCD-14-PL-10.PDF\",\"secc\":\"CONGRESO\",\"orga\":\"Pleno\",\"encabezado\":\"DS\",\"fecha_mensaje\":\"de 19/02/2020\",\"numdoc\":\"10\",\"texto_integro\":\"/wc/abrirPopUp?CMD=VERDOC&CONF=BRSPUB.cnf&BASE=PU14&PIECE=PUWD&DOCS=1-1&FMT=PUWTXDTS.fmt&OPDEF=Y&QUERY=(D).PUBL.+Y+(Congreso).SECC.+Y+(Pleno-y-Diputacion-Permanente).ORSE.+Y+DSCD-14-PL-10.CODI.#1\",\"fecha\":\"20200219\",\"cve\":\"DSCD-14-PL-10\",\"mensaje\":\"Congreso de los Diputados, Pleno y Dip. Perm., núm. 10,\",\"seri\":\"Pleno y Diputación Permanente \",\"ndia\":\"10\",\"subi\":\"\"},\"documento20\":{\"diario\":\"/public_oficiales/L14/CONG/DS/PL/DSCD-14-PL-20.PDF\",\"secc\":\"CONGRESO\",\"orga\":\"Pleno\",\"encabezado\":\"DS\",\"fecha_mensaje\":\"de 29/04/2020\",\"numdoc\":\"20\",\"texto_integro\":\"/wc/abrirPopUp?CMD=VERDOC&CONF=BRSPUB.cnf&BASE=PU14&PIECE=PUWD&DOCS=1-1&FMT=PUWTXDTS.fmt&OPDEF=Y&QUERY=(D).PUBL.+Y+(Congreso).SECC.+Y+(Pleno-y-Diputacion-Permanente).ORSE.+Y+DSCD-14-PL-20.CODI.#1\",\"fecha\":\"20200429\",\"cve\":\"DSCD-14-PL-20\",\"mensaje\":\"Congreso de los Diputados, Pleno y Dip. Perm., núm. 20,\",\"seri\":\"Pleno y Diputación Permanente \",\"ndia\":\"20\",\"subi\":\"\"},\"legislatura\":\"XIV\",\"documento14\":{\"diario\":\"/public_oficiales/L14/CONG/DS/PL/DSCD-14-PL-14.PDF\",\"secc\":\"CONGRESO\",\"orga\":\"Pleno\",\"encabezado\":\"DS\",\"fecha_mensaje\":\"de 27/02/2020\",\"numdoc\":\"14\",\"texto_integro\":\"/wc/abrirPopUp?CMD=VERDOC&CONF=BRSPUB.cnf&BASE=PU14&PIECE=PUWD&DOCS=1-1&FMT=PUWTXDTS.fmt&OPDEF=Y&QUERY=(D).PUBL.+Y+(Congreso).SECC.+Y+(Pleno-y-Diputacion-Permanente).ORSE.+Y+DSCD-14-PL-14.CODI.#1\",\"fecha\":\"20200227\",\"cve\":\"DSCD-14-PL-14\",\"mensaje\":\"Congreso de los Diputados, Pleno y Dip. Perm., núm. 14,\",\"seri\":\"Pleno y Diputación Permanente \",\"ndia\":\"14\",\"subi\":\"\"},\"paginaActual\":1,\"publicaciones_encontradas\":\"221\",\"documento13\":{\"diario\":\"/public_oficiales/L14/CONG/DS/PL/DSCD-14-PL-13.PDF\",\"secc\":\"CONGRESO\",\"orga\":\"Pleno\",\"encabezado\":\"DS\",\"fecha_mensaje\":\"de 26/02/2020\",\"numdoc\":\"13\",\"texto_integro\":\"/wc/abrirPopUp?CMD=VERDOC&CONF=BRSPUB.cnf&BASE=PU14&PIECE=PUWD&DOCS=1-1&FMT=PUWTXDTS.fmt&OPDEF=Y&QUERY=(D).PUBL.+Y+(Congreso).SECC.+Y+(Pleno-y-Diputacion-Permanente).ORSE.+Y+DSCD-14-PL-13.CODI.#1\",\"fecha\":\"20200226\",\"cve\":\"DSCD-14-PL-13\",\"mensaje\":\"Congreso de los Diputados, Pleno y Dip. Perm., núm. 13,\",\"seri\":\"Pleno y Diputación Permanente \",\"ndia\":\"13\",\"subi\":\"\"},\"documento12\":{\"diario\":\"/public_oficiales/L14/CONG/DS/PL/DSCD-14-PL-12.PDF\",\"secc\":\"CONGRESO\",\"orga\":\"Pleno\",\"encabezado\":\"DS\",\"fecha_mensaje\":\"de 25/02/2020\",\"numdoc\":\"12\",\"texto_integro\":\"/wc/abrirPopUp?CMD=VERDOC&CONF=BRSPUB.cnf&BASE=PU14&PIECE=PUWD&DOCS=1-1&FMT=PUWTXDTS.fmt&OPDEF=Y&QUERY=(D).PUBL.+Y+(Congreso).SECC.+Y+(Pleno-y-Diputacion-Permanente).ORSE.+Y+DSCD-14-PL-12.CODI.#1\",\"fecha\":\"20200225\",\"cve\":\"DSCD-14-PL-12\",\"mensaje\":\"Congreso de los Diputados, Pleno y Dip. Perm., núm. 12,\",\"seri\":\"Pleno y Diputación Permanente \",\"ndia\":\"12\",\"subi\":\"\"},\"documento11\":{\"diario\":\"/public_oficiales/L14/CONG/DS/PL/DSCD-14-PL-11.PDF\",\"secc\":\"CONGRESO\",\"orga\":\"Pleno\",\"encabezado\":\"DS\",\"fecha_mensaje\":\"de 20/02/2020\",\"numdoc\":\"11\",\"texto_integro\":\"/wc/abrirPopUp?CMD=VERDOC&CONF=BRSPUB.cnf&BASE=PU14&PIECE=PUWD&DOCS=1-1&FMT=PUWTXDTS.fmt&OPDEF=Y&QUERY=(D).PUBL.+Y+(Congreso).SECC.+Y+(Pleno-y-Diputacion-Permanente).ORSE.+Y+DSCD-14-PL-11.CODI.#1\",\"fecha\":\"20200220\",\"cve\":\"DSCD-14-PL-11\",\"mensaje\":\"Congreso de los Diputados, Pleno y Dip. Perm., núm. 11,\",\"seri\":\"Pleno y Diputación Permanente \",\"ndia\":\"11\",\"subi\":\"\"},\"documento9\":{\"diario\":\"/public_oficiales/L14/CONG/DS/PL/DSCD-14-PL-9.PDF\",\"secc\":\"CONGRESO\",\"orga\":\"Pleno\",\"encabezado\":\"DS\",\"fecha_mensaje\":\"de 18/02/2020\",\"numdoc\":\"9\",\"texto_integro\":\"/wc/abrirPopUp?CMD=VERDOC&CONF=BRSPUB.cnf&BASE=PU14&PIECE=PUWD&DOCS=1-1&FMT=PUWTXDTS.fmt&OPDEF=Y&QUERY=(D).PUBL.+Y+(Congreso).SECC.+Y+(Pleno-y-Diputacion-Permanente).ORSE.+Y+DSCD-14-PL-9.CODI.#1\",\"fecha\":\"20200218\",\"cve\":\"DSCD-14-PL-9\",\"mensaje\":\"Congreso de los Diputados, Pleno y Dip. Perm., núm. 9,\",\"seri\":\"Pleno y Diputación Permanente \",\"ndia\":\"9\",\"subi\":\"\"},\"documento18\":{\"diario\":\"/public_oficiales/L14/CONG/DS/PL/DSCD-14-PL-18.PDF\",\"secc\":\"CONGRESO\",\"orga\":\"Pleno\",\"encabezado\":\"DS\",\"fecha_mensaje\":\"de 15/04/2020\",\"numdoc\":\"18\",\"texto_integro\":\"/wc/abrirPopUp?CMD=VERDOC&CONF=BRSPUB.cnf&BASE=PU14&PIECE=PUWD&DOCS=1-1&FMT=PUWTXDTS.fmt&OPDEF=Y&QUERY=(D).PUBL.+Y+(Congreso).SECC.+Y+(Pleno-y-Diputacion-Permanente).ORSE.+Y+DSCD-14-PL-18.CODI.#1\",\"fecha\":\"20200415\",\"cve\":\"DSCD-14-PL-18\",\"mensaje\":\"Congreso de los Diputados, Pleno y Dip. Perm., núm. 18,\",\"seri\":\"Pleno y Diputación Permanente \",\"ndia\":\"18\",\"subi\":\"\"},\"documento8\":{\"diario\":\"/public_oficiales/L14/CONG/DS/PL/DSCD-14-PL-8.PDF\",\"secc\":\"CONGRESO\",\"orga\":\"Pleno\",\"encabezado\":\"DS\",\"fecha_mensaje\":\"de 12/02/2020\",\"numdoc\":\"8\",\"texto_integro\":\"/wc/abrirPopUp?CMD=VERDOC&CONF=BRSPUB.cnf&BASE=PU14&PIECE=PUWD&DOCS=1-1&FMT=PUWTXDTS.fmt&OPDEF=Y&QUERY=(D).PUBL.+Y+(Congreso).SECC.+Y+(Pleno-y-Diputacion-Permanente).ORSE.+Y+DSCD-14-PL-8.CODI.#1\",\"fecha\":\"20200212\",\"cve\":\"DSCD-14-PL-8\",\"mensaje\":\"Congreso de los Diputados, Pleno y Dip. Perm., núm. 8,\",\"seri\":\"Pleno y Diputación Permanente \",\"ndia\":\"8\",\"subi\":\"\"},\"documento17\":{\"diario\":\"/public_oficiales/L14/CONG/DS/PL/DSCD-14-PL-17.PDF\",\"secc\":\"CONGRESO\",\"orga\":\"Pleno\",\"encabezado\":\"DS\",\"fecha_mensaje\":\"de 09/04/2020\",\"numdoc\":\"17\",\"texto_integro\":\"/wc/abrirPopUp?CMD=VERDOC&CONF=BRSPUB.cnf&BASE=PU14&PIECE=PUWD&DOCS=1-1&FMT=PUWTXDTS.fmt&OPDEF=Y&QUERY=(D).PUBL.+Y+(Congreso).SECC.+Y+(Pleno-y-Diputacion-Permanente).ORSE.+Y+DSCD-14-PL-17.CODI.#1\",\"fecha\":\"20200409\",\"cve\":\"DSCD-14-PL-17\",\"mensaje\":\"Congreso de los Diputados, Pleno y Dip. Perm., núm. 17,\",\"seri\":\"Pleno y Diputación Permanente \",\"ndia\":\"17\",\"subi\":\"\"},\"documento16\":{\"diario\":\"/public_oficiales/L14/CONG/DS/PL/DSCD-14-PL-16.PDF\",\"secc\":\"CONGRESO\",\"orga\":\"Pleno\",\"encabezado\":\"DS\",\"fecha_mensaje\":\"de 25/03/2020\",\"numdoc\":\"16\",\"texto_integro\":\"/wc/abrirPopUp?CMD=VERDOC&CONF=BRSPUB.cnf&BASE=PU14&PIECE=PUWD&DOCS=1-1&FMT=PUWTXDTS.fmt&OPDEF=Y&QUERY=(D).PUBL.+Y+(Congreso).SECC.+Y+(Pleno-y-Diputacion-Permanente).ORSE.+Y+DSCD-14-PL-16.CODI.#1\",\"fecha\":\"20200325\",\"cve\":\"DSCD-14-PL-16\",\"mensaje\":\"Congreso de los Diputados, Pleno y Dip. Perm., núm. 16,\",\"seri\":\"Pleno y Diputación Permanente \",\"ndia\":\"16\",\"subi\":\"\"},\"documento15\":{\"diario\":\"/public_oficiales/L14/CONG/DS/PL/DSCD-14-PL-15.PDF\",\"secc\":\"CONGRESO\",\"orga\":\"Pleno\",\"encabezado\":\"DS\",\"fecha_mensaje\":\"de 18/03/2020\",\"numdoc\":\"15\",\"texto_integro\":\"/wc/abrirPopUp?CMD=VERDOC&CONF=BRSPUB.cnf&BASE=PU14&PIECE=PUWD&DOCS=1-1&FMT=PUWTXDTS.fmt&OPDEF=Y&QUERY=(D).PUBL.+Y+(Congreso).SECC.+Y+(Pleno-y-Diputacion-Permanente).ORSE.+Y+DSCD-14-PL-15.CODI.#1\",\"fecha\":\"20200318\",\"cve\":\"DSCD-14-PL-15\",\"mensaje\":\"Congreso de los Diputados, Pleno y Dip. Perm., núm. 15,\",\"seri\":\"Pleno y Diputación Permanente \",\"ndia\":\"15\",\"subi\":\"\"},\"documento5\":{\"diario\":\"/public_oficiales/L14/CONG/DS/PL/DSCD-14-PL-5.PDF\",\"secc\":\"CONGRESO\",\"orga\":\"Diputación Permanente\",\"encabezado\":\"DS\",\"fecha_mensaje\":\"de 28/01/2020\",\"numdoc\":\"5\",\"texto_integro\":\"/wc/abrirPopUp?CMD=VERDOC&CONF=BRSPUB.cnf&BASE=PU14&PIECE=PUWD&DOCS=1-1&FMT=PUWTXDTS.fmt&OPDEF=Y&QUERY=(D).PUBL.+Y+(Congreso).SECC.+Y+(Pleno-y-Diputacion-Permanente).ORSE.+Y+DSCD-14-PL-5.CODI.#1\",\"fecha\":\"20200128\",\"cve\":\"DSCD-14-PL-5\",\"mensaje\":\"Congreso de los Diputados, Pleno y Dip. Perm., núm. 5,\",\"seri\":\"Pleno y Diputación Permanente \",\"ndia\":\"5\",\"subi\":\"\"},\"documento4\":{\"diario\":\"/public_oficiales/L14/CONG/DS/PL/DSCD-14-PL-4.PDF\",\"secc\":\"CONGRESO\",\"orga\":\"Pleno\",\"encabezado\":\"DS\",\"fecha_mensaje\":\"de 07/01/2020\",\"numdoc\":\"4\",\"texto_integro\":\"/wc/abrirPopUp?CMD=VERDOC&CONF=BRSPUB.cnf&BASE=PU14&PIECE=PUWD&DOCS=1-1&FMT=PUWTXDTS.fmt&OPDEF=Y&QUERY=(D).PUBL.+Y+(Congreso).SECC.+Y+(Pleno-y-Diputacion-Permanente).ORSE.+Y+DSCD-14-PL-4.CODI.#1\",\"fecha\":\"20200107\",\"cve\":\"DSCD-14-PL-4\",\"mensaje\":\"Congreso de los Diputados, Pleno y Dip. Perm., núm. 4,\",\"seri\":\"Pleno y Diputación Permanente \",\"ndia\":\"4\",\"subi\":\"\"},\"documento7\":{\"diario\":\"/public_oficiales/L14/CONG/DS/PL/DSCD-14-PL-7.PDF\",\"secc\":\"CONGRESO\",\"orga\":\"Pleno\",\"encabezado\":\"DS\",\"fecha_mensaje\":\"de 11/02/2020\",\"numdoc\":\"7\",\"texto_integro\":\"/wc/abrirPopUp?CMD=VERDOC&CONF=BRSPUB.cnf&BASE=PU14&PIECE=PUWD&DOCS=1-1&FMT=PUWTXDTS.fmt&OPDEF=Y&QUERY=(D).PUBL.+Y+(Congreso).SECC.+Y+(Pleno-y-Diputacion-Permanente).ORSE.+Y+DSCD-14-PL-7.CODI.#1\",\"fecha\":\"20200211\",\"cve\":\"DSCD-14-PL-7\",\"mensaje\":\"Congreso de los Diputados, Pleno y Dip. Perm., núm. 7,\",\"seri\":\"Pleno y Diputación Permanente \",\"ndia\":\"7\",\"subi\":\"\"},\"documento6\":{\"diario\":\"/public_oficiales/L14/CONG/DS/PL/DSCD-14-PL-6.PDF\",\"secc\":\"CONGRESO\",\"orga\":\"Pleno\",\"encabezado\":\"DS\",\"fecha_mensaje\":\"de 04/02/2020\",\"numdoc\":\"6\",\"texto_integro\":\"/wc/abrirPopUp?CMD=VERDOC&CONF=BRSPUB.cnf&BASE=PU14&PIECE=PUWD&DOCS=1-1&FMT=PUWTXDTS.fmt&OPDEF=Y&QUERY=(D).PUBL.+Y+(Congreso).SECC.+Y+(Pleno-y-Diputacion-Permanente).ORSE.+Y+DSCD-14-PL-6.CODI.#1\",\"fecha\":\"20200204\",\"cve\":\"DSCD-14-PL-6\",\"mensaje\":\"Congreso de los Diputados, Pleno y Dip. Perm., núm. 6,\",\"seri\":\"Pleno y Diputación Permanente \",\"ndia\":\"6\",\"subi\":\"\"},\"documento19\":{\"diario\":\"/public_oficiales/L14/CONG/DS/PL/DSCD-14-PL-19-C1.PDF\",\"secc\":\"CONGRESO\",\"orga\":\"Pleno\",\"encabezado\":\"DS\",\"fecha_mensaje\":\"de 22/04/2020\",\"numdoc\":\"19\",\"texto_integro\":\"/wc/abrirPopUp?CMD=VERDOC&CONF=BRSPUB.cnf&BASE=PU14&PIECE=PUWD&DOCS=1-1&FMT=PUWTXDTS.fmt&OPDEF=Y&QUERY=(D).PUBL.+Y+(Congreso).SECC.+Y+(Pleno-y-Diputacion-Permanente).ORSE.+Y+DSCD-14-PL-19-C1 DSCD-14-PL-19.CODI.#1\",\"fecha\":\"20200422\",\"cve\":\"DSCD-14-PL-19-C1\",\"mensaje\":\"Congreso de los Diputados, Pleno y Dip. Perm., núm.<br/> 19,\",\"seri\":\"Pleno y Diputación Permanente \",\"ndia\":\"19\",\"subi\":\"\"},\"documento1\":{\"diario\":\"/public_oficiales/L14/CONG/DS/PL/DSCD-14-PL-1-C1.PDF\",\"secc\":\"CONGRESO\",\"orga\":\"Pleno\",\"encabezado\":\"DS\",\"fecha_mensaje\":\"de 03/12/2019\",\"numdoc\":\"1\",\"texto_integro\":\"/wc/abrirPopUp?CMD=VERDOC&CONF=BRSPUB.cnf&BASE=PU14&PIECE=PUWD&DOCS=1-1&FMT=PUWTXDTS.fmt&OPDEF=Y&QUERY=(D).PUBL.+Y+(Congreso).SECC.+Y+(Pleno-y-Diputacion-Permanente).ORSE.+Y+DSCD-14-PL-1-C1 DSCD-14-PL-1.CODI.#1\",\"fecha\":\"20191203\",\"cve\":\"DSCD-14-PL-1-C1\",\"mensaje\":\"Congreso de los Diputados, Pleno y Dip. Perm., núm.<br/> 1,\",\"seri\":\"Pleno y Diputación Permanente \",\"ndia\":\"1\",\"subi\":\"\"},\"documento3\":{\"diario\":\"/public_oficiales/L14/CONG/DS/PL/DSCD-14-PL-3.PDF\",\"secc\":\"CONGRESO\",\"orga\":\"Pleno\",\"encabezado\":\"DS\",\"fecha_mensaje\":\"de 05/01/2020\",\"numdoc\":\"3\",\"texto_integro\":\"/wc/abrirPopUp?CMD=VERDOC&CONF=BRSPUB.cnf&BASE=PU14&PIECE=PUWD&DOCS=1-1&FMT=PUWTXDTS.fmt&OPDEF=Y&QUERY=(D).PUBL.+Y+(Congreso).SECC.+Y+(Pleno-y-Diputacion-Permanente).ORSE.+Y+DSCD-14-PL-3.CODI.#1\",\"fecha\":\"20200105\",\"cve\":\"DSCD-14-PL-3\",\"mensaje\":\"Congreso de los Diputados, Pleno y Dip. Perm., núm. 3,\",\"seri\":\"Pleno y Diputación Permanente \",\"ndia\":\"3\",\"subi\":\"\"},\"documento2\":{\"diario\":\"/public_oficiales/L14/CONG/DS/PL/DSCD-14-PL-2.PDF\",\"secc\":\"CONGRESO\",\"orga\":\"Pleno\",\"encabezado\":\"DS\",\"fecha_mensaje\":\"de 04/01/2020\",\"numdoc\":\"2\",\"texto_integro\":\"/wc/abrirPopUp?CMD=VERDOC&CONF=BRSPUB.cnf&BASE=PU14&PIECE=PUWD&DOCS=1-1&FMT=PUWTXDTS.fmt&OPDEF=Y&QUERY=(D).PUBL.+Y+(Congreso).SECC.+Y+(Pleno-y-Diputacion-Permanente).ORSE.+Y+DSCD-14-PL-2.CODI.#1\",\"fecha\":\"20200104\",\"cve\":\"DSCD-14-PL-2\",\"mensaje\":\"Congreso de los Diputados, Pleno y Dip. Perm., núm. 2,\",\"seri\":\"Pleno y Diputación Permanente \",\"ndia\":\"2\",\"subi\":\"\"},\"paginacion\":{\"opdef\":\"Y\",\"url_base\":\"/wc/servidorCGI\",\"query\":\"(D).PUBL.+Y+(Congreso).SECC.+Y+(Pleno-y-Diputacion-Permanente).ORSE.\",\"docs_ini\":\"1\",\"cmd\":\"VERLST\",\"docorder\":\"FIFO\",\"docs_fin\":\"20\",\"ftm\":\"PUWTZLST\",\"base\":\"PU14\"}}\n"
        },
        {
          "output_type": "execute_result",
          "execution_count": 14,
          "data": {
            "text/plain": "{'documento10': {'diario': '/public_oficiales/L14/CONG/DS/PL/DSCD-14-PL-10.PDF',\n  'secc': 'CONGRESO',\n  'orga': 'Pleno',\n  'encabezado': 'DS',\n  'fecha_mensaje': 'de 19/02/2020',\n  'numdoc': '10',\n  'texto_integro': '/wc/abrirPopUp?CMD=VERDOC&CONF=BRSPUB.cnf&BASE=PU14&PIECE=PUWD&DOCS=1-1&FMT=PUWTXDTS.fmt&OPDEF=Y&QUERY=(D).PUBL.+Y+(Congreso).SECC.+Y+(Pleno-y-Diputacion-Permanente).ORSE.+Y+DSCD-14-PL-10.CODI.#1',\n  'fecha': '20200219',\n  'cve': 'DSCD-14-PL-10',\n  'mensaje': 'Congreso de los Diputados, Pleno y Dip. Perm., núm. 10,',\n  'seri': 'Pleno y Diputación Permanente ',\n  'ndia': '10',\n  'subi': ''},\n 'documento20': {'diario': '/public_oficiales/L14/CONG/DS/PL/DSCD-14-PL-20.PDF',\n  'secc': 'CONGRESO',\n  'orga': 'Pleno',\n  'encabezado': 'DS',\n  'fecha_mensaje': 'de 29/04/2020',\n  'numdoc': '20',\n  'texto_integro': '/wc/abrirPopUp?CMD=VERDOC&CONF=BRSPUB.cnf&BASE=PU14&PIECE=PUWD&DOCS=1-1&FMT=PUWTXDTS.fmt&OPDEF=Y&QUERY=(D).PUBL.+Y+(Congreso).SECC.+Y+(Pleno-y-Diputacion-Permanente).ORSE.+Y+DSCD-14-PL-20.CODI.#1',\n  'fecha': '20200429',\n  'cve': 'DSCD-14-PL-20',\n  'mensaje': 'Congreso de los Diputados, Pleno y Dip. Perm., núm. 20,',\n  'seri': 'Pleno y Diputación Permanente ',\n  'ndia': '20',\n  'subi': ''},\n 'legislatura': 'XIV',\n 'documento14': {'diario': '/public_oficiales/L14/CONG/DS/PL/DSCD-14-PL-14.PDF',\n  'secc': 'CONGRESO',\n  'orga': 'Pleno',\n  'encabezado': 'DS',\n  'fecha_mensaje': 'de 27/02/2020',\n  'numdoc': '14',\n  'texto_integro': '/wc/abrirPopUp?CMD=VERDOC&CONF=BRSPUB.cnf&BASE=PU14&PIECE=PUWD&DOCS=1-1&FMT=PUWTXDTS.fmt&OPDEF=Y&QUERY=(D).PUBL.+Y+(Congreso).SECC.+Y+(Pleno-y-Diputacion-Permanente).ORSE.+Y+DSCD-14-PL-14.CODI.#1',\n  'fecha': '20200227',\n  'cve': 'DSCD-14-PL-14',\n  'mensaje': 'Congreso de los Diputados, Pleno y Dip. Perm., núm. 14,',\n  'seri': 'Pleno y Diputación Permanente ',\n  'ndia': '14',\n  'subi': ''},\n 'paginaActual': 1,\n 'publicaciones_encontradas': '221',\n 'documento13': {'diario': '/public_oficiales/L14/CONG/DS/PL/DSCD-14-PL-13.PDF',\n  'secc': 'CONGRESO',\n  'orga': 'Pleno',\n  'encabezado': 'DS',\n  'fecha_mensaje': 'de 26/02/2020',\n  'numdoc': '13',\n  'texto_integro': '/wc/abrirPopUp?CMD=VERDOC&CONF=BRSPUB.cnf&BASE=PU14&PIECE=PUWD&DOCS=1-1&FMT=PUWTXDTS.fmt&OPDEF=Y&QUERY=(D).PUBL.+Y+(Congreso).SECC.+Y+(Pleno-y-Diputacion-Permanente).ORSE.+Y+DSCD-14-PL-13.CODI.#1',\n  'fecha': '20200226',\n  'cve': 'DSCD-14-PL-13',\n  'mensaje': 'Congreso de los Diputados, Pleno y Dip. Perm., núm. 13,',\n  'seri': 'Pleno y Diputación Permanente ',\n  'ndia': '13',\n  'subi': ''},\n 'documento12': {'diario': '/public_oficiales/L14/CONG/DS/PL/DSCD-14-PL-12.PDF',\n  'secc': 'CONGRESO',\n  'orga': 'Pleno',\n  'encabezado': 'DS',\n  'fecha_mensaje': 'de 25/02/2020',\n  'numdoc': '12',\n  'texto_integro': '/wc/abrirPopUp?CMD=VERDOC&CONF=BRSPUB.cnf&BASE=PU14&PIECE=PUWD&DOCS=1-1&FMT=PUWTXDTS.fmt&OPDEF=Y&QUERY=(D).PUBL.+Y+(Congreso).SECC.+Y+(Pleno-y-Diputacion-Permanente).ORSE.+Y+DSCD-14-PL-12.CODI.#1',\n  'fecha': '20200225',\n  'cve': 'DSCD-14-PL-12',\n  'mensaje': 'Congreso de los Diputados, Pleno y Dip. Perm., núm. 12,',\n  'seri': 'Pleno y Diputación Permanente ',\n  'ndia': '12',\n  'subi': ''},\n 'documento11': {'diario': '/public_oficiales/L14/CONG/DS/PL/DSCD-14-PL-11.PDF',\n  'secc': 'CONGRESO',\n  'orga': 'Pleno',\n  'encabezado': 'DS',\n  'fecha_mensaje': 'de 20/02/2020',\n  'numdoc': '11',\n  'texto_integro': '/wc/abrirPopUp?CMD=VERDOC&CONF=BRSPUB.cnf&BASE=PU14&PIECE=PUWD&DOCS=1-1&FMT=PUWTXDTS.fmt&OPDEF=Y&QUERY=(D).PUBL.+Y+(Congreso).SECC.+Y+(Pleno-y-Diputacion-Permanente).ORSE.+Y+DSCD-14-PL-11.CODI.#1',\n  'fecha': '20200220',\n  'cve': 'DSCD-14-PL-11',\n  'mensaje': 'Congreso de los Diputados, Pleno y Dip. Perm., núm. 11,',\n  'seri': 'Pleno y Diputación Permanente ',\n  'ndia': '11',\n  'subi': ''},\n 'documento9': {'diario': '/public_oficiales/L14/CONG/DS/PL/DSCD-14-PL-9.PDF',\n  'secc': 'CONGRESO',\n  'orga': 'Pleno',\n  'encabezado': 'DS',\n  'fecha_mensaje': 'de 18/02/2020',\n  'numdoc': '9',\n  'texto_integro': '/wc/abrirPopUp?CMD=VERDOC&CONF=BRSPUB.cnf&BASE=PU14&PIECE=PUWD&DOCS=1-1&FMT=PUWTXDTS.fmt&OPDEF=Y&QUERY=(D).PUBL.+Y+(Congreso).SECC.+Y+(Pleno-y-Diputacion-Permanente).ORSE.+Y+DSCD-14-PL-9.CODI.#1',\n  'fecha': '20200218',\n  'cve': 'DSCD-14-PL-9',\n  'mensaje': 'Congreso de los Diputados, Pleno y Dip. Perm., núm. 9,',\n  'seri': 'Pleno y Diputación Permanente ',\n  'ndia': '9',\n  'subi': ''},\n 'documento18': {'diario': '/public_oficiales/L14/CONG/DS/PL/DSCD-14-PL-18.PDF',\n  'secc': 'CONGRESO',\n  'orga': 'Pleno',\n  'encabezado': 'DS',\n  'fecha_mensaje': 'de 15/04/2020',\n  'numdoc': '18',\n  'texto_integro': '/wc/abrirPopUp?CMD=VERDOC&CONF=BRSPUB.cnf&BASE=PU14&PIECE=PUWD&DOCS=1-1&FMT=PUWTXDTS.fmt&OPDEF=Y&QUERY=(D).PUBL.+Y+(Congreso).SECC.+Y+(Pleno-y-Diputacion-Permanente).ORSE.+Y+DSCD-14-PL-18.CODI.#1',\n  'fecha': '20200415',\n  'cve': 'DSCD-14-PL-18',\n  'mensaje': 'Congreso de los Diputados, Pleno y Dip. Perm., núm. 18,',\n  'seri': 'Pleno y Diputación Permanente ',\n  'ndia': '18',\n  'subi': ''},\n 'documento8': {'diario': '/public_oficiales/L14/CONG/DS/PL/DSCD-14-PL-8.PDF',\n  'secc': 'CONGRESO',\n  'orga': 'Pleno',\n  'encabezado': 'DS',\n  'fecha_mensaje': 'de 12/02/2020',\n  'numdoc': '8',\n  'texto_integro': '/wc/abrirPopUp?CMD=VERDOC&CONF=BRSPUB.cnf&BASE=PU14&PIECE=PUWD&DOCS=1-1&FMT=PUWTXDTS.fmt&OPDEF=Y&QUERY=(D).PUBL.+Y+(Congreso).SECC.+Y+(Pleno-y-Diputacion-Permanente).ORSE.+Y+DSCD-14-PL-8.CODI.#1',\n  'fecha': '20200212',\n  'cve': 'DSCD-14-PL-8',\n  'mensaje': 'Congreso de los Diputados, Pleno y Dip. Perm., núm. 8,',\n  'seri': 'Pleno y Diputación Permanente ',\n  'ndia': '8',\n  'subi': ''},\n 'documento17': {'diario': '/public_oficiales/L14/CONG/DS/PL/DSCD-14-PL-17.PDF',\n  'secc': 'CONGRESO',\n  'orga': 'Pleno',\n  'encabezado': 'DS',\n  'fecha_mensaje': 'de 09/04/2020',\n  'numdoc': '17',\n  'texto_integro': '/wc/abrirPopUp?CMD=VERDOC&CONF=BRSPUB.cnf&BASE=PU14&PIECE=PUWD&DOCS=1-1&FMT=PUWTXDTS.fmt&OPDEF=Y&QUERY=(D).PUBL.+Y+(Congreso).SECC.+Y+(Pleno-y-Diputacion-Permanente).ORSE.+Y+DSCD-14-PL-17.CODI.#1',\n  'fecha': '20200409',\n  'cve': 'DSCD-14-PL-17',\n  'mensaje': 'Congreso de los Diputados, Pleno y Dip. Perm., núm. 17,',\n  'seri': 'Pleno y Diputación Permanente ',\n  'ndia': '17',\n  'subi': ''},\n 'documento16': {'diario': '/public_oficiales/L14/CONG/DS/PL/DSCD-14-PL-16.PDF',\n  'secc': 'CONGRESO',\n  'orga': 'Pleno',\n  'encabezado': 'DS',\n  'fecha_mensaje': 'de 25/03/2020',\n  'numdoc': '16',\n  'texto_integro': '/wc/abrirPopUp?CMD=VERDOC&CONF=BRSPUB.cnf&BASE=PU14&PIECE=PUWD&DOCS=1-1&FMT=PUWTXDTS.fmt&OPDEF=Y&QUERY=(D).PUBL.+Y+(Congreso).SECC.+Y+(Pleno-y-Diputacion-Permanente).ORSE.+Y+DSCD-14-PL-16.CODI.#1',\n  'fecha': '20200325',\n  'cve': 'DSCD-14-PL-16',\n  'mensaje': 'Congreso de los Diputados, Pleno y Dip. Perm., núm. 16,',\n  'seri': 'Pleno y Diputación Permanente ',\n  'ndia': '16',\n  'subi': ''},\n 'documento15': {'diario': '/public_oficiales/L14/CONG/DS/PL/DSCD-14-PL-15.PDF',\n  'secc': 'CONGRESO',\n  'orga': 'Pleno',\n  'encabezado': 'DS',\n  'fecha_mensaje': 'de 18/03/2020',\n  'numdoc': '15',\n  'texto_integro': '/wc/abrirPopUp?CMD=VERDOC&CONF=BRSPUB.cnf&BASE=PU14&PIECE=PUWD&DOCS=1-1&FMT=PUWTXDTS.fmt&OPDEF=Y&QUERY=(D).PUBL.+Y+(Congreso).SECC.+Y+(Pleno-y-Diputacion-Permanente).ORSE.+Y+DSCD-14-PL-15.CODI.#1',\n  'fecha': '20200318',\n  'cve': 'DSCD-14-PL-15',\n  'mensaje': 'Congreso de los Diputados, Pleno y Dip. Perm., núm. 15,',\n  'seri': 'Pleno y Diputación Permanente ',\n  'ndia': '15',\n  'subi': ''},\n 'documento5': {'diario': '/public_oficiales/L14/CONG/DS/PL/DSCD-14-PL-5.PDF',\n  'secc': 'CONGRESO',\n  'orga': 'Diputación Permanente',\n  'encabezado': 'DS',\n  'fecha_mensaje': 'de 28/01/2020',\n  'numdoc': '5',\n  'texto_integro': '/wc/abrirPopUp?CMD=VERDOC&CONF=BRSPUB.cnf&BASE=PU14&PIECE=PUWD&DOCS=1-1&FMT=PUWTXDTS.fmt&OPDEF=Y&QUERY=(D).PUBL.+Y+(Congreso).SECC.+Y+(Pleno-y-Diputacion-Permanente).ORSE.+Y+DSCD-14-PL-5.CODI.#1',\n  'fecha': '20200128',\n  'cve': 'DSCD-14-PL-5',\n  'mensaje': 'Congreso de los Diputados, Pleno y Dip. Perm., núm. 5,',\n  'seri': 'Pleno y Diputación Permanente ',\n  'ndia': '5',\n  'subi': ''},\n 'documento4': {'diario': '/public_oficiales/L14/CONG/DS/PL/DSCD-14-PL-4.PDF',\n  'secc': 'CONGRESO',\n  'orga': 'Pleno',\n  'encabezado': 'DS',\n  'fecha_mensaje': 'de 07/01/2020',\n  'numdoc': '4',\n  'texto_integro': '/wc/abrirPopUp?CMD=VERDOC&CONF=BRSPUB.cnf&BASE=PU14&PIECE=PUWD&DOCS=1-1&FMT=PUWTXDTS.fmt&OPDEF=Y&QUERY=(D).PUBL.+Y+(Congreso).SECC.+Y+(Pleno-y-Diputacion-Permanente).ORSE.+Y+DSCD-14-PL-4.CODI.#1',\n  'fecha': '20200107',\n  'cve': 'DSCD-14-PL-4',\n  'mensaje': 'Congreso de los Diputados, Pleno y Dip. Perm., núm. 4,',\n  'seri': 'Pleno y Diputación Permanente ',\n  'ndia': '4',\n  'subi': ''},\n 'documento7': {'diario': '/public_oficiales/L14/CONG/DS/PL/DSCD-14-PL-7.PDF',\n  'secc': 'CONGRESO',\n  'orga': 'Pleno',\n  'encabezado': 'DS',\n  'fecha_mensaje': 'de 11/02/2020',\n  'numdoc': '7',\n  'texto_integro': '/wc/abrirPopUp?CMD=VERDOC&CONF=BRSPUB.cnf&BASE=PU14&PIECE=PUWD&DOCS=1-1&FMT=PUWTXDTS.fmt&OPDEF=Y&QUERY=(D).PUBL.+Y+(Congreso).SECC.+Y+(Pleno-y-Diputacion-Permanente).ORSE.+Y+DSCD-14-PL-7.CODI.#1',\n  'fecha': '20200211',\n  'cve': 'DSCD-14-PL-7',\n  'mensaje': 'Congreso de los Diputados, Pleno y Dip. Perm., núm. 7,',\n  'seri': 'Pleno y Diputación Permanente ',\n  'ndia': '7',\n  'subi': ''},\n 'documento6': {'diario': '/public_oficiales/L14/CONG/DS/PL/DSCD-14-PL-6.PDF',\n  'secc': 'CONGRESO',\n  'orga': 'Pleno',\n  'encabezado': 'DS',\n  'fecha_mensaje': 'de 04/02/2020',\n  'numdoc': '6',\n  'texto_integro': '/wc/abrirPopUp?CMD=VERDOC&CONF=BRSPUB.cnf&BASE=PU14&PIECE=PUWD&DOCS=1-1&FMT=PUWTXDTS.fmt&OPDEF=Y&QUERY=(D).PUBL.+Y+(Congreso).SECC.+Y+(Pleno-y-Diputacion-Permanente).ORSE.+Y+DSCD-14-PL-6.CODI.#1',\n  'fecha': '20200204',\n  'cve': 'DSCD-14-PL-6',\n  'mensaje': 'Congreso de los Diputados, Pleno y Dip. Perm., núm. 6,',\n  'seri': 'Pleno y Diputación Permanente ',\n  'ndia': '6',\n  'subi': ''},\n 'documento19': {'diario': '/public_oficiales/L14/CONG/DS/PL/DSCD-14-PL-19-C1.PDF',\n  'secc': 'CONGRESO',\n  'orga': 'Pleno',\n  'encabezado': 'DS',\n  'fecha_mensaje': 'de 22/04/2020',\n  'numdoc': '19',\n  'texto_integro': '/wc/abrirPopUp?CMD=VERDOC&CONF=BRSPUB.cnf&BASE=PU14&PIECE=PUWD&DOCS=1-1&FMT=PUWTXDTS.fmt&OPDEF=Y&QUERY=(D).PUBL.+Y+(Congreso).SECC.+Y+(Pleno-y-Diputacion-Permanente).ORSE.+Y+DSCD-14-PL-19-C1 DSCD-14-PL-19.CODI.#1',\n  'fecha': '20200422',\n  'cve': 'DSCD-14-PL-19-C1',\n  'mensaje': 'Congreso de los Diputados, Pleno y Dip. Perm., núm.<br/> 19,',\n  'seri': 'Pleno y Diputación Permanente ',\n  'ndia': '19',\n  'subi': ''},\n 'documento1': {'diario': '/public_oficiales/L14/CONG/DS/PL/DSCD-14-PL-1-C1.PDF',\n  'secc': 'CONGRESO',\n  'orga': 'Pleno',\n  'encabezado': 'DS',\n  'fecha_mensaje': 'de 03/12/2019',\n  'numdoc': '1',\n  'texto_integro': '/wc/abrirPopUp?CMD=VERDOC&CONF=BRSPUB.cnf&BASE=PU14&PIECE=PUWD&DOCS=1-1&FMT=PUWTXDTS.fmt&OPDEF=Y&QUERY=(D).PUBL.+Y+(Congreso).SECC.+Y+(Pleno-y-Diputacion-Permanente).ORSE.+Y+DSCD-14-PL-1-C1 DSCD-14-PL-1.CODI.#1',\n  'fecha': '20191203',\n  'cve': 'DSCD-14-PL-1-C1',\n  'mensaje': 'Congreso de los Diputados, Pleno y Dip. Perm., núm.<br/> 1,',\n  'seri': 'Pleno y Diputación Permanente ',\n  'ndia': '1',\n  'subi': ''},\n 'documento3': {'diario': '/public_oficiales/L14/CONG/DS/PL/DSCD-14-PL-3.PDF',\n  'secc': 'CONGRESO',\n  'orga': 'Pleno',\n  'encabezado': 'DS',\n  'fecha_mensaje': 'de 05/01/2020',\n  'numdoc': '3',\n  'texto_integro': '/wc/abrirPopUp?CMD=VERDOC&CONF=BRSPUB.cnf&BASE=PU14&PIECE=PUWD&DOCS=1-1&FMT=PUWTXDTS.fmt&OPDEF=Y&QUERY=(D).PUBL.+Y+(Congreso).SECC.+Y+(Pleno-y-Diputacion-Permanente).ORSE.+Y+DSCD-14-PL-3.CODI.#1',\n  'fecha': '20200105',\n  'cve': 'DSCD-14-PL-3',\n  'mensaje': 'Congreso de los Diputados, Pleno y Dip. Perm., núm. 3,',\n  'seri': 'Pleno y Diputación Permanente ',\n  'ndia': '3',\n  'subi': ''},\n 'documento2': {'diario': '/public_oficiales/L14/CONG/DS/PL/DSCD-14-PL-2.PDF',\n  'secc': 'CONGRESO',\n  'orga': 'Pleno',\n  'encabezado': 'DS',\n  'fecha_mensaje': 'de 04/01/2020',\n  'numdoc': '2',\n  'texto_integro': '/wc/abrirPopUp?CMD=VERDOC&CONF=BRSPUB.cnf&BASE=PU14&PIECE=PUWD&DOCS=1-1&FMT=PUWTXDTS.fmt&OPDEF=Y&QUERY=(D).PUBL.+Y+(Congreso).SECC.+Y+(Pleno-y-Diputacion-Permanente).ORSE.+Y+DSCD-14-PL-2.CODI.#1',\n  'fecha': '20200104',\n  'cve': 'DSCD-14-PL-2',\n  'mensaje': 'Congreso de los Diputados, Pleno y Dip. Perm., núm. 2,',\n  'seri': 'Pleno y Diputación Permanente ',\n  'ndia': '2',\n  'subi': ''},\n 'paginacion': {'opdef': 'Y',\n  'url_base': '/wc/servidorCGI',\n  'query': '(D).PUBL.+Y+(Congreso).SECC.+Y+(Pleno-y-Diputacion-Permanente).ORSE.',\n  'docs_ini': '1',\n  'cmd': 'VERLST',\n  'docorder': 'FIFO',\n  'docs_fin': '20',\n  'ftm': 'PUWTZLST',\n  'base': 'PU14'}}"
          },
          "metadata": {}
        }
      ],
      "execution_count": 14,
      "metadata": {
        "jupyter": {
          "source_hidden": false,
          "outputs_hidden": false
        },
        "nteract": {
          "transient": {
            "deleting": false
          }
        },
        "gather": {
          "logged": 1668114754445
        }
      }
    },
    {
      "cell_type": "code",
      "source": [
        "pagenr=5\r\n",
        "pageform={\"_publicaciones_legislatura\":term,\r\n",
        "           \"_publicaciones_comision\":'',\r\n",
        "           \"_publicaciones_seccion\":'',\r\n",
        "          \"_publicaciones_fromOrganos\":1,\r\n",
        "          \"_publicaciones_paginaActual\":pagenr\r\n",
        "}\r\n",
        "\r\n",
        "import urllib.parse\r\n",
        "\r\n",
        "print(urllib.parse.urlencode(pageform))\r\n",
        "\"/wc/abrirPopUp?CMD=VERDOC&CONF=BRSPUB.cnf&BASE=PU12&PIECE=PU12&DOCS=1-1&FMT=PUWTXDTS.fmt&OPDEF=Y&QUERY=(D).PUBL.+Y+(Congreso).SECC.+Y+(Pleno-y-Diputacion-Permanente).ORSE.+Y+DSCD-12-PL-39.CODI.#1\"\r\n",
        "LINK=\"https://www.congreso.es/busqueda-de-publicaciones?p_p_id=publicaciones&p_p_lifecycle=0&p_p_state=normal&p_p_mode=view&_publicaciones_mode=mostrarTextoIntegro&_publicaciones_legislatura=XIV&_publicaciones_texto=&_publicaciones_id_texto=BOCG_D_14_4_18.CODI.#1\""
      ],
      "outputs": [
        {
          "output_type": "error",
          "ename": "SyntaxError",
          "evalue": "invalid syntax (2811566127.py, line 12)",
          "traceback": [
            "\u001b[0;36m  Input \u001b[0;32mIn [10]\u001b[0;36m\u001b[0m\n\u001b[0;31m    wc/abrirPopUp?CMD=VERDOC&CONF=BRSPUB.cnf&BASE=PU12&PIECE=PU12&DOCS=1-1&FMT=PUWTXDTS.fmt&OPDEF=Y&QUERY=(D).PUBL.+Y+(Congreso).SECC.+Y+(Pleno-y-Diputacion-Permanente).ORSE.+Y+DSCD-12-PL-39.CODI.#1()\u001b[0m\n\u001b[0m                 ^\u001b[0m\n\u001b[0;31mSyntaxError\u001b[0m\u001b[0;31m:\u001b[0m invalid syntax\n"
          ]
        }
      ],
      "execution_count": 10,
      "metadata": {
        "jupyter": {
          "source_hidden": false,
          "outputs_hidden": false
        },
        "nteract": {
          "transient": {
            "deleting": false
          }
        },
        "gather": {
          "logged": 1668338023366
        }
      }
    },
    {
      "cell_type": "code",
      "source": [],
      "outputs": [],
      "execution_count": null,
      "metadata": {
        "jupyter": {
          "source_hidden": false,
          "outputs_hidden": false
        },
        "nteract": {
          "transient": {
            "deleting": false
          }
        }
      }
    }
  ],
  "metadata": {
    "kernelspec": {
      "name": "python38-azureml",
      "language": "python",
      "display_name": "Python 3.8 - AzureML"
    },
    "language_info": {
      "name": "python",
      "version": "3.8.5",
      "mimetype": "text/x-python",
      "codemirror_mode": {
        "name": "ipython",
        "version": 3
      },
      "pygments_lexer": "ipython3",
      "nbconvert_exporter": "python",
      "file_extension": ".py"
    },
    "kernel_info": {
      "name": "python38-azureml"
    },
    "nteract": {
      "version": "nteract-front-end@1.0.0"
    },
    "microsoft": {
      "host": {
        "AzureML": {
          "notebookHasBeenCompleted": true
        }
      }
    }
  },
  "nbformat": 4,
  "nbformat_minor": 2
}