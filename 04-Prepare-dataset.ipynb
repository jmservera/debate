{
  "cells": [
    {
      "cell_type": "code",
      "source": [
        "#https://huggingface.co/docs/datasets/v1.11.0/add_dataset.html\r\n",
        "\r\n",
        "import pandas as pd\r\n",
        "import re\r\n",
        "\r\n",
        "# prepare dataset\r\n",
        "df=pd.read_csv('../rajoy.csv')\r\n",
        "sentences=df[\"Text\"].to_list()\r\n",
        "# splits sentences using marks\r\n",
        "split_stc=[re.split('(\\.\\s|\\?|\\!|;)',str(s)) for s in sentences]\r\n",
        "stcs=[]\r\n",
        "# joins with the mark again\r\n",
        "for l in split_stc:\r\n",
        "    liter=iter(l)\r\n",
        "    stcs.append([h + next(liter,'') for h in liter])\r\n",
        "\r\n",
        "# unflatten\r\n",
        "sentences=[n.strip() for s in stcs for n in s if len(n.strip())>1]"
      ],
      "outputs": [],
      "execution_count": 3,
      "metadata": {
        "gather": {
          "logged": 1668782671837
        }
      }
    },
    {
      "cell_type": "code",
      "source": [
        "from datasets import load_dataset\r\n",
        "\r\n",
        "df=pd.DataFrame(sentences,columns=[\"text\"])\r\n",
        "df.to_json('../rajoy.json', orient=\"records\", lines=\"true\")\r\n",
        "rajoy_ds=load_dataset('json',data_files='../rajoy.json')"
      ],
      "outputs": [
        {
          "output_type": "stream",
          "name": "stdout",
          "text": "Downloading and preparing dataset json/default to /home/azureuser/.cache/huggingface/datasets/json/default-ab1bdadc4b0b248c/0.0.0/da492aad5680612e4028e7f6ddc04b1dfcec4b64db470ed7cc5f2bb265b9b6b5...\n"
        },
        {
          "output_type": "display_data",
          "data": {
            "text/plain": "Downloading data files:   0%|          | 0/1 [00:00<?, ?it/s]",
            "application/vnd.jupyter.widget-view+json": {
              "version_major": 2,
              "version_minor": 0,
              "model_id": "545a3f11cd9a424796be88a715b00149"
            }
          },
          "metadata": {}
        },
        {
          "output_type": "display_data",
          "data": {
            "text/plain": "Extracting data files:   0%|          | 0/1 [00:00<?, ?it/s]",
            "application/vnd.jupyter.widget-view+json": {
              "version_major": 2,
              "version_minor": 0,
              "model_id": "b2791b7a0e5e4c869b2b2b743120d597"
            }
          },
          "metadata": {}
        },
        {
          "output_type": "display_data",
          "data": {
            "text/plain": "0 tables [00:00, ? tables/s]",
            "application/vnd.jupyter.widget-view+json": {
              "version_major": 2,
              "version_minor": 0,
              "model_id": "d99806b3bc4845758f9fad001b9fc0f8"
            }
          },
          "metadata": {}
        },
        {
          "output_type": "stream",
          "name": "stdout",
          "text": "Dataset json downloaded and prepared to /home/azureuser/.cache/huggingface/datasets/json/default-ab1bdadc4b0b248c/0.0.0/da492aad5680612e4028e7f6ddc04b1dfcec4b64db470ed7cc5f2bb265b9b6b5. Subsequent calls will reuse this data.\n"
        },
        {
          "output_type": "display_data",
          "data": {
            "text/plain": "  0%|          | 0/1 [00:00<?, ?it/s]",
            "application/vnd.jupyter.widget-view+json": {
              "version_major": 2,
              "version_minor": 0,
              "model_id": "16a89b9d906f48449f66a5086d547cbd"
            }
          },
          "metadata": {}
        },
        {
          "output_type": "stream",
          "name": "stderr",
          "text": "Using custom data configuration default-ab1bdadc4b0b248c\n"
        }
      ],
      "execution_count": 4,
      "metadata": {
        "jupyter": {
          "source_hidden": false,
          "outputs_hidden": false
        },
        "nteract": {
          "transient": {
            "deleting": false
          }
        },
        "gather": {
          "logged": 1668782677027
        }
      }
    },
    {
      "cell_type": "code",
      "source": [],
      "outputs": [],
      "execution_count": null,
      "metadata": {
        "jupyter": {
          "source_hidden": false,
          "outputs_hidden": false
        },
        "nteract": {
          "transient": {
            "deleting": false
          }
        }
      }
    }
  ],
  "metadata": {
    "kernelspec": {
      "name": "python38-azureml",
      "language": "python",
      "display_name": "Python 3.8 - AzureML"
    },
    "language_info": {
      "name": "python",
      "version": "3.8.5",
      "mimetype": "text/x-python",
      "codemirror_mode": {
        "name": "ipython",
        "version": 3
      },
      "pygments_lexer": "ipython3",
      "nbconvert_exporter": "python",
      "file_extension": ".py"
    },
    "kernel_info": {
      "name": "python38-azureml"
    },
    "microsoft": {
      "host": {
        "AzureML": {
          "notebookHasBeenCompleted": true
        }
      }
    },
    "nteract": {
      "version": "nteract-front-end@1.0.0"
    }
  },
  "nbformat": 4,
  "nbformat_minor": 2
}