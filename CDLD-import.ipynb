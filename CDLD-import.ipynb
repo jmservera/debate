{
  "cells": [
    {
      "cell_type": "markdown",
      "metadata": {
        "nteract": {
          "transient": {
            "deleting": false
          }
        }
      },
      "source": [
        "# Data import from the \"Congreso de los Diputados\" website\n",
        "\n",
        "This process is focused on extracting the political debates that happened in the congress and tag every intervention with the name of the politician. The main objective is to create a corpora for political profiles that can be used to train an ML Transformer."
      ]
    },
    {
      "cell_type": "code",
      "execution_count": 2,
      "metadata": {
        "gather": {
          "logged": 1668039224762
        },
        "jupyter": {
          "outputs_hidden": false,
          "source_hidden": false
        },
        "nteract": {
          "transient": {
            "deleting": false
          }
        }
      },
      "outputs": [],
      "source": [
        "# Imports\n",
        "from html.parser import HTMLParser\n",
        "import re\n",
        "import requests\n",
        "import urllib3\n",
        "import html\n",
        "import pandas as pd\n",
        "\n",
        "# constants\n",
        "page = 'https://www.congreso.es/busqueda-de-publicaciones?p_p_id=publicaciones&p_p_lifecycle=0&p_p_state=normal&p_p_mode=view&_publicaciones_mode=mostrarTextoIntegro&_publicaciones_legislatura=XII&_publicaciones_id_texto=(DSCD-12-PL-4.CODI.)#(P%C3%A1gina12)'\n"
      ]
    },
    {
      "cell_type": "code",
      "execution_count": 3,
      "metadata": {
        "jupyter": {
          "outputs_hidden": false,
          "source_hidden": false
        },
        "nteract": {
          "transient": {
            "deleting": false
          }
        }
      },
      "outputs": [],
      "source": [
        "pages=[\n",
        "    \"https://www.congreso.es/busqueda-de-publicaciones?p_p_id=publicaciones&p_p_lifecycle=0&p_p_state=normal&p_p_mode=view&_publicaciones_mode=mostrarTextoIntegro&_publicaciones_legislatura=XIV&_publicaciones_texto=&_publicaciones_id_texto=DSCD-14-PL-1-C1%20DSCD-14-PL-1.CODI.#1\",\n",
        "    \"https://www.congreso.es/busqueda-de-publicaciones?p_p_id=publicaciones&p_p_lifecycle=0&p_p_state=normal&p_p_mode=view&_publicaciones_mode=mostrarTextoIntegro&_publicaciones_legislatura=XIV&_publicaciones_texto=&_publicaciones_id_texto=DS_P_14_1.CODI.#1\"\n",
        "\n",
        "]"
      ]
    },
    {
      "cell_type": "code",
      "execution_count": 4,
      "metadata": {
        "gather": {
          "logged": 1668039224892
        },
        "jupyter": {
          "outputs_hidden": false,
          "source_hidden": false
        },
        "nteract": {
          "transient": {
            "deleting": false
          }
        }
      },
      "outputs": [],
      "source": [
        "\"\"\"\n",
        "A simple parser to extract all the text of a publication from the body.\n",
        "It removes any internal script and removes special characters with the str.strip function.\n",
        "It also gets rid of pagination (Página nnn)\n",
        "\"\"\"\n",
        "class PublicationParser(HTMLParser):\n",
        "    #Initializing lists\n",
        "    lsStartTags = list()\n",
        "    lsEndTags = list()\n",
        "    lsStartEndTags = list()\n",
        "    lsComments = list()\n",
        "    lsData=list()\n",
        "\n",
        "    # Indicates when we are inside the body tag\n",
        "    inBody=False\n",
        "    # Marker for scripts\n",
        "    inScript=False\n",
        "\n",
        "    #HTML Parser Methods\n",
        "    def handle_starttag(self, startTag, attrs):\n",
        "        self.lsStartTags.append(startTag)\n",
        "        if(startTag==\"body\"):\n",
        "            self.inBody=True\n",
        "        if(startTag==\"script\"):\n",
        "            self.inScript=True\n",
        "\n",
        "    def handle_endtag(self, endTag):\n",
        "        self.lsEndTags.append(endTag)\n",
        "        if(endTag==\"body\"):\n",
        "            self.inBody=False\n",
        "        elif(endTag==\"script\"):\n",
        "            self.inScript=False\n",
        "\n",
        "    def handle_startendtag(self,startendTag, attrs):\n",
        "       self.lsStartEndTags.append(startendTag)\n",
        "\n",
        "    def handle_comment(self,data):\n",
        "       self.lsComments.append(data)\n",
        "\n",
        "    def handle_data(self, data):\n",
        "        if(self.inBody and not self.inScript and data!=''):\n",
        "            if(not (data.startswith('Página ') or data.startswith('(Página') )):\n",
        "                self.lsData.append(data.strip())\n",
        "\n",
        "           \n"
      ]
    },
    {
      "cell_type": "code",
      "execution_count": 5,
      "metadata": {
        "gather": {
          "logged": 1668039227576
        },
        "jupyter": {
          "outputs_hidden": false,
          "source_hidden": false
        },
        "nteract": {
          "transient": {
            "deleting": false
          }
        }
      },
      "outputs": [
        {
          "name": "stdout",
          "output_type": "stream",
          "text": [
            "200\n"
          ]
        }
      ],
      "source": [
        "# TODO: a process to scrap all the debates, by now we point to a specific one for testing the code\n",
        "\n",
        "http = urllib3.PoolManager()\n",
        "r=http.request(\"GET\",page)\n",
        "print(r.status)"
      ]
    },
    {
      "cell_type": "markdown",
      "metadata": {
        "nteract": {
          "transient": {
            "deleting": false
          }
        }
      },
      "source": [
        "## Main body extractor\n",
        "\n",
        "Gets the body and finds the start of the debate by looking at the first appearance of the word PRESIDENT*, because when someone speaks its name appears in capital letters and in the case of the chamber president the words PRESIDENTE or PRESIDENTA are used. This appearance usually indicates the start of the interventions."
      ]
    },
    {
      "cell_type": "code",
      "execution_count": 6,
      "metadata": {
        "gather": {
          "logged": 1668039227690
        },
        "jupyter": {
          "outputs_hidden": false,
          "source_hidden": false
        },
        "nteract": {
          "transient": {
            "deleting": false
          }
        }
      },
      "outputs": [
        {
          "name": "stdout",
          "output_type": "stream",
          "text": [
            "La señora PRESIDENTA: Se reanuda la sesión. Comenzamos con los turnos de intervención de los grupos parlamentarios. Como saben sus señorías, estos intervendrán en orden de mayor a menor, tomando la palabra en último lugar el grupo parlamentario al que pertenece el candidato a la Presidencia del Gobierno. Finalizadas las intervenciones de los grupos parlamentarios, se procederá a la votación, que, como saben, será pública por llamamiento, de acuerdo con los artículos 85 y 86 del Reglamento. Por el Grupo Parlamentario Socialista, tiene la palabra el señor Sánchez Pérez-Castejón. El señor SÁNCHEZ PÉREZ-CASTEJÓN: Gracias, presidenta. Señorías, buenos días. Señor candidato, seré claro y directo. El Grupo Parlamentario Socialista votará en contra de su candidatura a la Presidencia del Gobierno, y lo vamos a hacer con total y absoluto convencimiento, por coherencia con nuestro ideario político, por el compromiso adquirido con nuestros votantes y por el bien de nuestro país (Aplausos), porque España necesita con urgencia un Gobierno, no un mal Gobierno. España necesita con urgencia un Gobierno que haga posible una recuperación económica que sea justa y acabe con el mal Gobierno de los continuados incumplimientos presupuestarios y el agotamiento de los recursos acumulados durante años de esfuerzo de todos los españoles. España necesita un Gobierno que recupere el derecho a un trabajo digno y acabe con el mal Gobierno que ha promulgado una reforma laboral que ha condenado el presente y el futuro de millones de españoles. España necesita un Gobierno que devuelva a la sanidad pública, a la educación, a las pensiones, a la dependencia, el indispensable compromiso público que su mal Gobierno ha despreciado durante estos años. España necesita un Gobierno que persiga, castigue e impida la extendida corrupción política instaurada en torno suyo, señor candidato, y que suma al Gobierno con evidente alevosía, amparado y protegido durante estos años. (Aplausos). Señorías, España necesita un Gobierno que resuelva la crisis territorial que sufrimos; un Gobierno que crea en las instituciones públicas, que les dote de los medios necesarios para desarrollar sus funciones y les garantice la necesaria independencia que su mal Gobierno ha eliminado como práctica cotidiana. En definitiva, señorías, España necesita un Gobierno que recupere los derechos y libertades cercenados por el mal Gobierno que ha impuesto durante estos últimos años un recorte y una amputación de derechos y liberta\n"
          ]
        }
      ],
      "source": [
        "parser=PublicationParser()\n",
        "parser.feed(r.data.decode(\"utf-8\"))\n",
        "\n",
        "def findStart(ls:list)->int:\n",
        "    result=[]\n",
        "    index=0\n",
        "    for line in ls:\n",
        "        if \"PRESIDENT\" in line:\n",
        "            return index\n",
        "        index+=1\n",
        "    return -1\n",
        "\n",
        "index=findStart(parser.lsData)\n",
        "if(index>=0):\n",
        "    text=' '.join(parser.lsData[index:])\n",
        "    print(text[:2500])\n",
        "else:\n",
        "    \"Error: PRESIDENT not found\""
      ]
    },
    {
      "cell_type": "code",
      "execution_count": 7,
      "metadata": {
        "gather": {
          "logged": 1668039227828
        },
        "jupyter": {
          "outputs_hidden": false,
          "source_hidden": false
        },
        "nteract": {
          "transient": {
            "deleting": false
          }
        }
      },
      "outputs": [
        {
          "data": {
            "text/plain": [
              "['PRESIDENTA:',\n",
              " 'SÁNCHEZ PÉREZ-CASTEJÓN:',\n",
              " 'PRESIDENTA:',\n",
              " 'PRESIDENTA:',\n",
              " 'SÁNCHEZ PÉREZ-CASTEJÓN:',\n",
              " 'PRESIDENTA:',\n",
              " 'PRESIDENTA:',\n",
              " 'PRESIDENTA:',\n",
              " 'SÁNCHEZ PÉREZ-CASTEJÓN:',\n",
              " 'PRESIDENTA:',\n",
              " 'SÁNCHEZ PÉREZ-CASTEJÓN:',\n",
              " 'PRESIDENTA:',\n",
              " 'SÁNCHEZ PÉREZ-CASTEJÓN:',\n",
              " 'PRESIDENTA:',\n",
              " 'PRESIDENTA:',\n",
              " 'IGLESIAS TURRIÓN:',\n",
              " 'PRESIDENTA:',\n",
              " 'IGLESIAS TURRIÓN:',\n",
              " 'PRESIDENTA:',\n",
              " 'IGLESIAS TURRIÓN:',\n",
              " 'PRESIDENTA:',\n",
              " 'DOMÈNECH SAMPERE:',\n",
              " 'PRESIDENTA:',\n",
              " 'GARZÓN ESPINOSA:',\n",
              " 'PRESIDENTA:',\n",
              " 'FERNÁNDEZ GÓMEZ:',\n",
              " 'PRESIDENTA:',\n",
              " 'PRESIDENTA:',\n",
              " 'IGLESIAS TURRIÓN:',\n",
              " 'PRESIDENTA:',\n",
              " 'PRESIDENTA:',\n",
              " 'IGLESIAS TURRIÓN:',\n",
              " 'PRESIDENTA:',\n",
              " 'PRESIDENTA:',\n",
              " 'PRESIDENTA:',\n",
              " 'RIVERA DÍAZ:',\n",
              " 'PRESIDENTA:',\n",
              " 'RIVERA DÍAZ:',\n",
              " 'PRESIDENTA:',\n",
              " 'PRESIDENTA:',\n",
              " 'RIVERA DÍAZ:',\n",
              " 'PRESIDENTA:',\n",
              " 'RIVERA DÍAZ:',\n",
              " 'PRESIDENTA:',\n",
              " 'PRESIDENTA:',\n",
              " 'RIVERA DÍAZ:',\n",
              " 'PRESIDENTA:',\n",
              " 'PRESIDENTA:',\n",
              " 'TARDÀ I COMA:',\n",
              " 'PSOE:',\n",
              " 'PRESIDENTA:',\n",
              " 'PRESIDENTA:',\n",
              " 'TARDÀ I COMA:',\n",
              " 'PRESIDENTA:',\n",
              " 'TARDÀ I COMA:',\n",
              " 'PRESIDENTA:',\n",
              " 'TARDÀ I COMA:',\n",
              " 'PRESIDENTA:',\n",
              " 'PRESIDENTA:',\n",
              " 'TARDÀ I COMA:',\n",
              " 'PRESIDENTA:',\n",
              " 'PRESIDENTA:',\n",
              " 'ESTEBAN BRAVO:',\n",
              " 'PRESIDENTA:',\n",
              " 'PRESIDENTA:',\n",
              " 'ESTEBAN BRAVO:',\n",
              " 'PRESIDENTA:',\n",
              " 'PRESIDENTA:',\n",
              " 'ESTEBAN BRAVO:',\n",
              " 'PRESIDENTA:',\n",
              " 'PRESIDENTA:',\n",
              " 'ESTEBAN BRAVO:',\n",
              " 'PRESIDENTA:',\n",
              " 'PRESIDENTA:',\n",
              " 'HOMS MOLIST:',\n",
              " 'PRESIDENTA:',\n",
              " 'BALDOVÍ RODA:',\n",
              " 'PRESIDENTA:',\n",
              " 'BEITIALARRANGOITIA LIZARRALDE:',\n",
              " 'PRESIDENTA:',\n",
              " 'BEITIALARRANGOITIA LIZARRALDE:',\n",
              " 'PRESIDENTA:',\n",
              " 'ALLI MARTÍNEZ:',\n",
              " 'PRESIDENTA:',\n",
              " 'MARTÍNEZ OBLANCA:',\n",
              " 'PRESIDENTA:',\n",
              " 'ORAMAS GONZÁLEZ-MORO:',\n",
              " 'PRESIDENTA:',\n",
              " 'QUEVEDO ITURBE:',\n",
              " 'PRESIDENTA:',\n",
              " 'PRESIDENTA:',\n",
              " 'HOMS MOLIST:',\n",
              " 'PRESIDENTA:',\n",
              " 'BALDOVÍ RODA:',\n",
              " 'PRESIDENTA:',\n",
              " 'BEITIALARRANGOITIA LIZARRALDE:',\n",
              " 'PRESIDENTA:',\n",
              " 'ALLI MARTÍNEZ:',\n",
              " 'PRESIDENTA:',\n",
              " 'MARTÍNEZ OBLANCA:',\n",
              " 'PRESIDENTA:',\n",
              " 'ORAMAS GONZÁLEZ-MORO:',\n",
              " 'PRESIDENTA:',\n",
              " 'QUEVEDO ITURBE:',\n",
              " 'PRESIDENTA:',\n",
              " 'PRESIDENTA:',\n",
              " 'HERNANDO FRAILE:',\n",
              " 'PRESIDENTA:',\n",
              " 'HERNANDO FRAILE:',\n",
              " 'PRESIDENTA:',\n",
              " 'PRESIDENTA:',\n",
              " 'PRESIDENTA:',\n",
              " 'PRESIDENTA:',\n",
              " 'PRESIDENTA:']"
            ]
          },
          "execution_count": 7,
          "metadata": {},
          "output_type": "execute_result"
        }
      ],
      "source": [
        "regexfinder='(?:(?:[A-ZÀ-Ü])(?:-|\\s)?)+:'\n",
        "re.findall(regexfinder,text,re.U|re.M)"
      ]
    },
    {
      "cell_type": "code",
      "execution_count": 8,
      "metadata": {
        "gather": {
          "logged": 1668039227954
        },
        "jupyter": {
          "outputs_hidden": false,
          "source_hidden": false
        },
        "nteract": {
          "transient": {
            "deleting": false
          }
        }
      },
      "outputs": [],
      "source": [
        "# Gets all the indexes of finding an all-caps name (with spaces and special chars)\n",
        "# followed by a colon symbol. This is the indicator a candidate starts talking\n",
        "indexes=[(m.start(0),m.end(0)) for m in re.finditer(regexfinder,text, re.U|re.M)]"
      ]
    },
    {
      "cell_type": "code",
      "execution_count": 9,
      "metadata": {
        "gather": {
          "logged": 1668039228291
        },
        "jupyter": {
          "outputs_hidden": false,
          "source_hidden": false
        },
        "nteract": {
          "transient": {
            "deleting": false
          }
        }
      },
      "outputs": [],
      "source": [
        "sentences=pd.DataFrame(columns=['Name','Text'])\n",
        "last=len(indexes)-1\n",
        "for i in range(len(indexes)):\n",
        "    name=text[indexes[i][0]:indexes[i][1]-1]   \n",
        "\n",
        "    firstIdx=indexes[i][1]+1\n",
        "    if(i<last):\n",
        "        lastIdx=indexes[i+1][0]\n",
        "        while(text[lastIdx]!='.'):\n",
        "            lastIdx=lastIdx-1\n",
        "            if(lastIdx==-1):\n",
        "                break\n",
        "    else:\n",
        "        lastIdx=len(text)\n",
        "    sentence=text[firstIdx:lastIdx]\n",
        "    sentences.loc[len(sentences)]=[name,sentence]"
      ]
    },
    {
      "cell_type": "code",
      "execution_count": 12,
      "metadata": {
        "gather": {
          "logged": 1668039228435
        },
        "jupyter": {
          "outputs_hidden": false,
          "source_hidden": false
        },
        "nteract": {
          "transient": {
            "deleting": false
          }
        }
      },
      "outputs": [],
      "source": [
        "sentences.to_csv('data/debates.csv',index=False)"
      ]
    },
    {
      "cell_type": "code",
      "execution_count": 11,
      "metadata": {
        "gather": {
          "logged": 1668039228598
        },
        "jupyter": {
          "outputs_hidden": false,
          "source_hidden": false
        },
        "nteract": {
          "transient": {
            "deleting": false
          }
        }
      },
      "outputs": [
        {
          "data": {
            "text/html": [
              "<div>\n",
              "<style scoped>\n",
              "    .dataframe tbody tr th:only-of-type {\n",
              "        vertical-align: middle;\n",
              "    }\n",
              "\n",
              "    .dataframe tbody tr th {\n",
              "        vertical-align: top;\n",
              "    }\n",
              "\n",
              "    .dataframe thead th {\n",
              "        text-align: right;\n",
              "    }\n",
              "</style>\n",
              "<table border=\"1\" class=\"dataframe\">\n",
              "  <thead>\n",
              "    <tr style=\"text-align: right;\">\n",
              "      <th></th>\n",
              "      <th>Name</th>\n",
              "      <th>Text</th>\n",
              "    </tr>\n",
              "  </thead>\n",
              "  <tbody>\n",
              "    <tr>\n",
              "      <th>0</th>\n",
              "      <td>PRESIDENTA</td>\n",
              "      <td>Se reanuda la sesión. Comenzamos con los turno...</td>\n",
              "    </tr>\n",
              "    <tr>\n",
              "      <th>1</th>\n",
              "      <td>SÁNCHEZ PÉREZ-CASTEJÓN</td>\n",
              "      <td>Gracias, presidenta. Señorías, buenos días. Se...</td>\n",
              "    </tr>\n",
              "    <tr>\n",
              "      <th>2</th>\n",
              "      <td>PRESIDENTA</td>\n",
              "      <td>Tiene la palabra el candidato a la Presidencia...</td>\n",
              "    </tr>\n",
              "    <tr>\n",
              "      <th>3</th>\n",
              "      <td>PRESIDENTA</td>\n",
              "      <td>Por el Grupo Parlamentario Socialista, tiene l...</td>\n",
              "    </tr>\n",
              "    <tr>\n",
              "      <th>4</th>\n",
              "      <td>SÁNCHEZ PÉREZ-CASTEJÓN</td>\n",
              "      <td>Gracias, presidenta. Señor Rajoy, no se confun...</td>\n",
              "    </tr>\n",
              "    <tr>\n",
              "      <th>...</th>\n",
              "      <td>...</td>\n",
              "      <td>...</td>\n",
              "    </tr>\n",
              "    <tr>\n",
              "      <th>109</th>\n",
              "      <td>PRESIDENTA</td>\n",
              "      <td>Muchas gracias. Tiene la palabra el candidato ...</td>\n",
              "    </tr>\n",
              "    <tr>\n",
              "      <th>110</th>\n",
              "      <td>PRESIDENTA</td>\n",
              "      <td>Muchas gracias. Señorías, en tres minutos come...</td>\n",
              "    </tr>\n",
              "    <tr>\n",
              "      <th>111</th>\n",
              "      <td>PRESIDENTA</td>\n",
              "      <td>Señorías, ocupen sus escaños. Una vez concluid...</td>\n",
              "    </tr>\n",
              "    <tr>\n",
              "      <th>112</th>\n",
              "      <td>PRESIDENTA</td>\n",
              "      <td>¿Hay alguna señora o señor diputado que no hay...</td>\n",
              "    </tr>\n",
              "    <tr>\n",
              "      <th>113</th>\n",
              "      <td>PRESIDENTA</td>\n",
              "      <td>No habiendo alcanzado el candidato propuesto l...</td>\n",
              "    </tr>\n",
              "  </tbody>\n",
              "</table>\n",
              "<p>114 rows × 2 columns</p>\n",
              "</div>"
            ],
            "text/plain": [
              "                       Name                                               Text\n",
              "0                PRESIDENTA  Se reanuda la sesión. Comenzamos con los turno...\n",
              "1    SÁNCHEZ PÉREZ-CASTEJÓN  Gracias, presidenta. Señorías, buenos días. Se...\n",
              "2                PRESIDENTA  Tiene la palabra el candidato a la Presidencia...\n",
              "3                PRESIDENTA  Por el Grupo Parlamentario Socialista, tiene l...\n",
              "4    SÁNCHEZ PÉREZ-CASTEJÓN  Gracias, presidenta. Señor Rajoy, no se confun...\n",
              "..                      ...                                                ...\n",
              "109              PRESIDENTA  Muchas gracias. Tiene la palabra el candidato ...\n",
              "110              PRESIDENTA  Muchas gracias. Señorías, en tres minutos come...\n",
              "111              PRESIDENTA  Señorías, ocupen sus escaños. Una vez concluid...\n",
              "112              PRESIDENTA  ¿Hay alguna señora o señor diputado que no hay...\n",
              "113              PRESIDENTA  No habiendo alcanzado el candidato propuesto l...\n",
              "\n",
              "[114 rows x 2 columns]"
            ]
          },
          "execution_count": 11,
          "metadata": {},
          "output_type": "execute_result"
        }
      ],
      "source": [
        "sentences"
      ]
    }
  ],
  "metadata": {
    "kernel_info": {
      "name": "python38-azureml"
    },
    "kernelspec": {
      "display_name": "Python 3.10.5 ('.venv': venv)",
      "language": "python",
      "name": "python3"
    },
    "language_info": {
      "codemirror_mode": {
        "name": "ipython",
        "version": 3
      },
      "file_extension": ".py",
      "mimetype": "text/x-python",
      "name": "python",
      "nbconvert_exporter": "python",
      "pygments_lexer": "ipython3",
      "version": "3.10.5"
    },
    "microsoft": {
      "host": {
        "AzureML": {
          "notebookHasBeenCompleted": true
        }
      }
    },
    "nteract": {
      "version": "nteract-front-end@1.0.0"
    },
    "vscode": {
      "interpreter": {
        "hash": "77df4a96c0be8bd891423502f384941e461f81b0e784fdbc8bb136153927d3d2"
      }
    }
  },
  "nbformat": 4,
  "nbformat_minor": 2
}
