{
  "cells": [
    {
      "cell_type": "markdown",
      "source": [
        "# Data import from the \"Congreso de los Diputados\" website\r\n",
        "\r\n",
        "This process is focused on extracting the political debates that happened in the congress and tag every intervention with the name of the politician. The main objective is to create a corpora for political profiles that can be used to train an ML Transformer."
      ],
      "metadata": {
        "nteract": {
          "transient": {
            "deleting": false
          }
        }
      }
    },
    {
      "cell_type": "code",
      "source": [
        "# Imports\r\n",
        "from html.parser import HTMLParser\r\n",
        "import re\r\n",
        "import requests\r\n",
        "import urllib3\r\n",
        "import html\r\n",
        "import pandas as pd\r\n",
        "\r\n",
        "# constants\r\n",
        "page = 'https://www.congreso.es/busqueda-de-publicaciones?p_p_id=publicaciones&p_p_lifecycle=0&p_p_state=normal&p_p_mode=view&_publicaciones_mode=mostrarTextoIntegro&_publicaciones_legislatura=XII&_publicaciones_id_texto=(DSCD-12-PL-4.CODI.)#(P%C3%A1gina12)'\r\n"
      ],
      "outputs": [],
      "execution_count": 1,
      "metadata": {
        "jupyter": {
          "source_hidden": false,
          "outputs_hidden": false
        },
        "nteract": {
          "transient": {
            "deleting": false
          }
        },
        "gather": {
          "logged": 1668039224762
        }
      }
    },
    {
      "cell_type": "code",
      "source": [
        "pages=[\r\n",
        "    \"https://www.congreso.es/busqueda-de-publicaciones?p_p_id=publicaciones&p_p_lifecycle=0&p_p_state=normal&p_p_mode=view&_publicaciones_mode=mostrarTextoIntegro&_publicaciones_legislatura=XIV&_publicaciones_texto=&_publicaciones_id_texto=DSCD-14-PL-1-C1%20DSCD-14-PL-1.CODI.#1\",\r\n",
        "    \"https://www.congreso.es/busqueda-de-publicaciones?p_p_id=publicaciones&p_p_lifecycle=0&p_p_state=normal&p_p_mode=view&_publicaciones_mode=mostrarTextoIntegro&_publicaciones_legislatura=XIV&_publicaciones_texto=&_publicaciones_id_texto=DS_P_14_1.CODI.#1\"\r\n",
        "\r\n",
        "]"
      ],
      "outputs": [],
      "execution_count": null,
      "metadata": {
        "jupyter": {
          "source_hidden": false,
          "outputs_hidden": false
        },
        "nteract": {
          "transient": {
            "deleting": false
          }
        }
      }
    },
    {
      "cell_type": "code",
      "source": [
        "\"\"\"\r\n",
        "A simple parser to extract all the text of a publication from the body.\r\n",
        "It removes any internal script and removes special characters with the str.strip function.\r\n",
        "It also gets rid of pagination (Página nnn)\r\n",
        "\"\"\"\r\n",
        "class PublicationParser(HTMLParser):\r\n",
        "    #Initializing lists\r\n",
        "    lsStartTags = list()\r\n",
        "    lsEndTags = list()\r\n",
        "    lsStartEndTags = list()\r\n",
        "    lsComments = list()\r\n",
        "    lsData=list()\r\n",
        "\r\n",
        "    # Indicates when we are inside the body tag\r\n",
        "    inBody=False\r\n",
        "    # Marker for scripts\r\n",
        "    inScript=False\r\n",
        "\r\n",
        "    #HTML Parser Methods\r\n",
        "    def handle_starttag(self, startTag, attrs):\r\n",
        "        self.lsStartTags.append(startTag)\r\n",
        "        if(startTag==\"body\"):\r\n",
        "            self.inBody=True\r\n",
        "        if(startTag==\"script\"):\r\n",
        "            self.inScript=True\r\n",
        "\r\n",
        "    def handle_endtag(self, endTag):\r\n",
        "        self.lsEndTags.append(endTag)\r\n",
        "        if(endTag==\"body\"):\r\n",
        "            self.inBody=False\r\n",
        "        elif(endTag==\"script\"):\r\n",
        "            self.inScript=False\r\n",
        "\r\n",
        "    def handle_startendtag(self,startendTag, attrs):\r\n",
        "       self.lsStartEndTags.append(startendTag)\r\n",
        "\r\n",
        "    def handle_comment(self,data):\r\n",
        "       self.lsComments.append(data)\r\n",
        "\r\n",
        "    def handle_data(self, data):\r\n",
        "        if(self.inBody and not self.inScript and data!=''):\r\n",
        "            if(not (data.startswith('Página ') or data.startswith('(Página') )):\r\n",
        "                self.lsData.append(data.strip())\r\n",
        "\r\n",
        "           \r\n"
      ],
      "outputs": [],
      "execution_count": 2,
      "metadata": {
        "jupyter": {
          "source_hidden": false,
          "outputs_hidden": false
        },
        "nteract": {
          "transient": {
            "deleting": false
          }
        },
        "gather": {
          "logged": 1668039224892
        }
      }
    },
    {
      "cell_type": "code",
      "source": [
        "# TODO: a process to scrap all the debates, by now we point to a specific one for testing the code\r\n",
        "\r\n",
        "http = urllib3.PoolManager()\r\n",
        "r=http.request(\"GET\",page)\r\n",
        "print(r.status)"
      ],
      "outputs": [
        {
          "output_type": "stream",
          "name": "stdout",
          "text": "200\n"
        }
      ],
      "execution_count": 3,
      "metadata": {
        "jupyter": {
          "source_hidden": false,
          "outputs_hidden": false
        },
        "nteract": {
          "transient": {
            "deleting": false
          }
        },
        "gather": {
          "logged": 1668039227576
        }
      }
    },
    {
      "cell_type": "markdown",
      "source": [
        "## Main body extractor\r\n",
        "\r\n",
        "Gets the body and finds the start of the debate by looking at the first appearance of the word PRESIDENT*, because when someone speaks its name appears in capital letters and in the case of the chamber president the words PRESIDENTE or PRESIDENTA are used. This appearance usually indicates the start of the interventions."
      ],
      "metadata": {
        "nteract": {
          "transient": {
            "deleting": false
          }
        }
      }
    },
    {
      "cell_type": "code",
      "source": [
        "parser=PublicationParser()\r\n",
        "parser.feed(r.data.decode(\"utf-8\"))\r\n",
        "\r\n",
        "def findStart(ls:list)->int:\r\n",
        "    result=[]\r\n",
        "    index=0\r\n",
        "    for line in ls:\r\n",
        "        if \"PRESIDENT\" in line:\r\n",
        "            return index\r\n",
        "        index+=1\r\n",
        "    return -1\r\n",
        "\r\n",
        "index=findStart(parser.lsData)\r\n",
        "if(index>=0):\r\n",
        "    text=' '.join(parser.lsData[index:])\r\n",
        "    print(text[:2500])\r\n",
        "else:\r\n",
        "    \"Error: PRESIDENT not found\""
      ],
      "outputs": [
        {
          "output_type": "stream",
          "name": "stdout",
          "text": "La señora PRESIDENTA: Se reanuda la sesión. Comenzamos con los turnos de intervención de los grupos parlamentarios. Como saben sus señorías, estos intervendrán en orden de mayor a menor, tomando la palabra en último lugar el grupo parlamentario al que pertenece el candidato a la Presidencia del Gobierno. Finalizadas las intervenciones de los grupos parlamentarios, se procederá a la votación, que, como saben, será pública por llamamiento, de acuerdo con los artículos 85 y 86 del Reglamento. Por el Grupo Parlamentario Socialista, tiene la palabra el señor Sánchez Pérez-Castejón. El señor SÁNCHEZ PÉREZ-CASTEJÓN: Gracias, presidenta. Señorías, buenos días. Señor candidato, seré claro y directo. El Grupo Parlamentario Socialista votará en contra de su candidatura a la Presidencia del Gobierno, y lo vamos a hacer con total y absoluto convencimiento, por coherencia con nuestro ideario político, por el compromiso adquirido con nuestros votantes y por el bien de nuestro país (Aplausos), porque España necesita con urgencia un Gobierno, no un mal Gobierno. España necesita con urgencia un Gobierno que haga posible una recuperación económica que sea justa y acabe con el mal Gobierno de los continuados incumplimientos presupuestarios y el agotamiento de los recursos acumulados durante años de esfuerzo de todos los españoles. España necesita un Gobierno que recupere el derecho a un trabajo digno y acabe con el mal Gobierno que ha promulgado una reforma laboral que ha condenado el presente y el futuro de millones de españoles. España necesita un Gobierno que devuelva a la sanidad pública, a la educación, a las pensiones, a la dependencia, el indispensable compromiso público que su mal Gobierno ha despreciado durante estos años. España necesita un Gobierno que persiga, castigue e impida la extendida corrupción política instaurada en torno suyo, señor candidato, y que suma al Gobierno con evidente alevosía, amparado y protegido durante estos años. (Aplausos). Señorías, España necesita un Gobierno que resuelva la crisis territorial que sufrimos; un Gobierno que crea en las instituciones públicas, que les dote de los medios necesarios para desarrollar sus funciones y les garantice la necesaria independencia que su mal Gobierno ha eliminado como práctica cotidiana. En definitiva, señorías, España necesita un Gobierno que recupere los derechos y libertades cercenados por el mal Gobierno que ha impuesto durante estos últimos años un recorte y una amputación de derechos y liberta\n"
        }
      ],
      "execution_count": 4,
      "metadata": {
        "jupyter": {
          "source_hidden": false,
          "outputs_hidden": false
        },
        "nteract": {
          "transient": {
            "deleting": false
          }
        },
        "gather": {
          "logged": 1668039227690
        }
      }
    },
    {
      "cell_type": "code",
      "source": [
        "regexfinder='(?:(?:[A-ZÀ-Ü])(?:-|\\s)?)+:'\r\n",
        "re.findall(regexfinder,text,re.U|re.M)"
      ],
      "outputs": [
        {
          "output_type": "execute_result",
          "execution_count": 5,
          "data": {
            "text/plain": "['PRESIDENTA:',\n 'SÁNCHEZ PÉREZ-CASTEJÓN:',\n 'PRESIDENTA:',\n 'PRESIDENTA:',\n 'SÁNCHEZ PÉREZ-CASTEJÓN:',\n 'PRESIDENTA:',\n 'PRESIDENTA:',\n 'PRESIDENTA:',\n 'SÁNCHEZ PÉREZ-CASTEJÓN:',\n 'PRESIDENTA:',\n 'SÁNCHEZ PÉREZ-CASTEJÓN:',\n 'PRESIDENTA:',\n 'SÁNCHEZ PÉREZ-CASTEJÓN:',\n 'PRESIDENTA:',\n 'PRESIDENTA:',\n 'IGLESIAS TURRIÓN:',\n 'PRESIDENTA:',\n 'IGLESIAS TURRIÓN:',\n 'PRESIDENTA:',\n 'IGLESIAS TURRIÓN:',\n 'PRESIDENTA:',\n 'DOMÈNECH SAMPERE:',\n 'PRESIDENTA:',\n 'GARZÓN ESPINOSA:',\n 'PRESIDENTA:',\n 'FERNÁNDEZ GÓMEZ:',\n 'PRESIDENTA:',\n 'PRESIDENTA:',\n 'IGLESIAS TURRIÓN:',\n 'PRESIDENTA:',\n 'PRESIDENTA:',\n 'IGLESIAS TURRIÓN:',\n 'PRESIDENTA:',\n 'PRESIDENTA:',\n 'PRESIDENTA:',\n 'RIVERA DÍAZ:',\n 'PRESIDENTA:',\n 'RIVERA DÍAZ:',\n 'PRESIDENTA:',\n 'PRESIDENTA:',\n 'RIVERA DÍAZ:',\n 'PRESIDENTA:',\n 'RIVERA DÍAZ:',\n 'PRESIDENTA:',\n 'PRESIDENTA:',\n 'RIVERA DÍAZ:',\n 'PRESIDENTA:',\n 'PRESIDENTA:',\n 'TARDÀ I COMA:',\n 'PSOE:',\n 'PRESIDENTA:',\n 'PRESIDENTA:',\n 'TARDÀ I COMA:',\n 'PRESIDENTA:',\n 'TARDÀ I COMA:',\n 'PRESIDENTA:',\n 'TARDÀ I COMA:',\n 'PRESIDENTA:',\n 'PRESIDENTA:',\n 'TARDÀ I COMA:',\n 'PRESIDENTA:',\n 'PRESIDENTA:',\n 'ESTEBAN BRAVO:',\n 'PRESIDENTA:',\n 'PRESIDENTA:',\n 'ESTEBAN BRAVO:',\n 'PRESIDENTA:',\n 'PRESIDENTA:',\n 'ESTEBAN BRAVO:',\n 'PRESIDENTA:',\n 'PRESIDENTA:',\n 'ESTEBAN BRAVO:',\n 'PRESIDENTA:',\n 'PRESIDENTA:',\n 'HOMS MOLIST:',\n 'PRESIDENTA:',\n 'BALDOVÍ RODA:',\n 'PRESIDENTA:',\n 'BEITIALARRANGOITIA LIZARRALDE:',\n 'PRESIDENTA:',\n 'BEITIALARRANGOITIA LIZARRALDE:',\n 'PRESIDENTA:',\n 'ALLI MARTÍNEZ:',\n 'PRESIDENTA:',\n 'MARTÍNEZ OBLANCA:',\n 'PRESIDENTA:',\n 'ORAMAS GONZÁLEZ-MORO:',\n 'PRESIDENTA:',\n 'QUEVEDO ITURBE:',\n 'PRESIDENTA:',\n 'PRESIDENTA:',\n 'HOMS MOLIST:',\n 'PRESIDENTA:',\n 'BALDOVÍ RODA:',\n 'PRESIDENTA:',\n 'BEITIALARRANGOITIA LIZARRALDE:',\n 'PRESIDENTA:',\n 'ALLI MARTÍNEZ:',\n 'PRESIDENTA:',\n 'MARTÍNEZ OBLANCA:',\n 'PRESIDENTA:',\n 'ORAMAS GONZÁLEZ-MORO:',\n 'PRESIDENTA:',\n 'QUEVEDO ITURBE:',\n 'PRESIDENTA:',\n 'PRESIDENTA:',\n 'HERNANDO FRAILE:',\n 'PRESIDENTA:',\n 'HERNANDO FRAILE:',\n 'PRESIDENTA:',\n 'PRESIDENTA:',\n 'PRESIDENTA:',\n 'PRESIDENTA:',\n 'PRESIDENTA:']"
          },
          "metadata": {}
        }
      ],
      "execution_count": 5,
      "metadata": {
        "jupyter": {
          "source_hidden": false,
          "outputs_hidden": false
        },
        "nteract": {
          "transient": {
            "deleting": false
          }
        },
        "gather": {
          "logged": 1668039227828
        }
      }
    },
    {
      "cell_type": "code",
      "source": [
        "# Gets all the indexes of finding an all-caps name (with spaces and special chars)\r\n",
        "# followed by a colon symbol. This is the indicator a candidate starts talking\r\n",
        "indexes=[(m.start(0),m.end(0)) for m in re.finditer(regexfinder,text, re.U|re.M)]"
      ],
      "outputs": [],
      "execution_count": 6,
      "metadata": {
        "jupyter": {
          "source_hidden": false,
          "outputs_hidden": false
        },
        "nteract": {
          "transient": {
            "deleting": false
          }
        },
        "gather": {
          "logged": 1668039227954
        }
      }
    },
    {
      "cell_type": "code",
      "source": [
        "sentences=pd.DataFrame(columns=['Name','Text'])\r\n",
        "last=len(indexes)-1\r\n",
        "for i in range(len(indexes)):\r\n",
        "    name=text[indexes[i][0]:indexes[i][1]-1]   \r\n",
        "\r\n",
        "    firstIdx=indexes[i][1]+1\r\n",
        "    if(i<last):\r\n",
        "        lastIdx=indexes[i+1][0]\r\n",
        "        while(text[lastIdx]!='.'):\r\n",
        "            lastIdx=lastIdx-1\r\n",
        "            if(lastIdx==-1):\r\n",
        "                break\r\n",
        "    else:\r\n",
        "        lastIdx=len(text)\r\n",
        "    sentence=text[firstIdx:lastIdx]\r\n",
        "    sentences.loc[len(sentences)]=[name,sentence]"
      ],
      "outputs": [],
      "execution_count": 7,
      "metadata": {
        "jupyter": {
          "source_hidden": false,
          "outputs_hidden": false
        },
        "nteract": {
          "transient": {
            "deleting": false
          }
        },
        "gather": {
          "logged": 1668039228291
        }
      }
    },
    {
      "cell_type": "code",
      "source": [
        "sentences.to_csv('../debates.csv',index=False)"
      ],
      "outputs": [],
      "execution_count": 8,
      "metadata": {
        "jupyter": {
          "source_hidden": false,
          "outputs_hidden": false
        },
        "nteract": {
          "transient": {
            "deleting": false
          }
        },
        "gather": {
          "logged": 1668039228435
        }
      }
    },
    {
      "cell_type": "code",
      "source": [
        "sentences"
      ],
      "outputs": [
        {
          "output_type": "execute_result",
          "execution_count": 9,
          "data": {
            "text/plain": "                       Name                                               Text\n0                PRESIDENTA  Se reanuda la sesión. Comenzamos con los turno...\n1    SÁNCHEZ PÉREZ-CASTEJÓN  Gracias, presidenta. Señorías, buenos días. Se...\n2                PRESIDENTA  Tiene la palabra el candidato a la Presidencia...\n3                PRESIDENTA  Por el Grupo Parlamentario Socialista, tiene l...\n4    SÁNCHEZ PÉREZ-CASTEJÓN  Gracias, presidenta. Señor Rajoy, no se confun...\n..                      ...                                                ...\n109              PRESIDENTA  Muchas gracias. Tiene la palabra el candidato ...\n110              PRESIDENTA  Muchas gracias. Señorías, en tres minutos come...\n111              PRESIDENTA  Señorías, ocupen sus escaños. Una vez concluid...\n112              PRESIDENTA  ¿Hay alguna señora o señor diputado que no hay...\n113              PRESIDENTA  No habiendo alcanzado el candidato propuesto l...\n\n[114 rows x 2 columns]",
            "text/html": "<div>\n<style scoped>\n    .dataframe tbody tr th:only-of-type {\n        vertical-align: middle;\n    }\n\n    .dataframe tbody tr th {\n        vertical-align: top;\n    }\n\n    .dataframe thead th {\n        text-align: right;\n    }\n</style>\n<table border=\"1\" class=\"dataframe\">\n  <thead>\n    <tr style=\"text-align: right;\">\n      <th></th>\n      <th>Name</th>\n      <th>Text</th>\n    </tr>\n  </thead>\n  <tbody>\n    <tr>\n      <th>0</th>\n      <td>PRESIDENTA</td>\n      <td>Se reanuda la sesión. Comenzamos con los turno...</td>\n    </tr>\n    <tr>\n      <th>1</th>\n      <td>SÁNCHEZ PÉREZ-CASTEJÓN</td>\n      <td>Gracias, presidenta. Señorías, buenos días. Se...</td>\n    </tr>\n    <tr>\n      <th>2</th>\n      <td>PRESIDENTA</td>\n      <td>Tiene la palabra el candidato a la Presidencia...</td>\n    </tr>\n    <tr>\n      <th>3</th>\n      <td>PRESIDENTA</td>\n      <td>Por el Grupo Parlamentario Socialista, tiene l...</td>\n    </tr>\n    <tr>\n      <th>4</th>\n      <td>SÁNCHEZ PÉREZ-CASTEJÓN</td>\n      <td>Gracias, presidenta. Señor Rajoy, no se confun...</td>\n    </tr>\n    <tr>\n      <th>...</th>\n      <td>...</td>\n      <td>...</td>\n    </tr>\n    <tr>\n      <th>109</th>\n      <td>PRESIDENTA</td>\n      <td>Muchas gracias. Tiene la palabra el candidato ...</td>\n    </tr>\n    <tr>\n      <th>110</th>\n      <td>PRESIDENTA</td>\n      <td>Muchas gracias. Señorías, en tres minutos come...</td>\n    </tr>\n    <tr>\n      <th>111</th>\n      <td>PRESIDENTA</td>\n      <td>Señorías, ocupen sus escaños. Una vez concluid...</td>\n    </tr>\n    <tr>\n      <th>112</th>\n      <td>PRESIDENTA</td>\n      <td>¿Hay alguna señora o señor diputado que no hay...</td>\n    </tr>\n    <tr>\n      <th>113</th>\n      <td>PRESIDENTA</td>\n      <td>No habiendo alcanzado el candidato propuesto l...</td>\n    </tr>\n  </tbody>\n</table>\n<p>114 rows × 2 columns</p>\n</div>"
          },
          "metadata": {}
        }
      ],
      "execution_count": 9,
      "metadata": {
        "jupyter": {
          "source_hidden": false,
          "outputs_hidden": false
        },
        "nteract": {
          "transient": {
            "deleting": false
          }
        },
        "gather": {
          "logged": 1668039228598
        }
      }
    }
  ],
  "metadata": {
    "kernelspec": {
      "name": "python38-azureml",
      "language": "python",
      "display_name": "Python 3.8 - AzureML"
    },
    "language_info": {
      "name": "python",
      "version": "3.8.5",
      "mimetype": "text/x-python",
      "codemirror_mode": {
        "name": "ipython",
        "version": 3
      },
      "pygments_lexer": "ipython3",
      "nbconvert_exporter": "python",
      "file_extension": ".py"
    },
    "nteract": {
      "version": "nteract-front-end@1.0.0"
    },
    "microsoft": {
      "host": {
        "AzureML": {
          "notebookHasBeenCompleted": true
        }
      }
    },
    "kernel_info": {
      "name": "python38-azureml"
    }
  },
  "nbformat": 4,
  "nbformat_minor": 2
}