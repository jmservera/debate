{
 "cells": [
  {
   "cell_type": "code",
   "execution_count": 6,
   "metadata": {},
   "outputs": [],
   "source": [
    "import io\n",
    "import json\n",
    "\n",
    "list_file=io.open('data/full_term_14.json')\n",
    "\n",
    "list=json.load(list_file)\n"
   ]
  },
  {
   "cell_type": "code",
   "execution_count": 31,
   "metadata": {},
   "outputs": [
    {
     "name": "stdout",
     "output_type": "stream",
     "text": [
      "legislatura: XIV\n",
      "paginaActual: 1\n",
      "publicaciones_encontradas: 221\n",
      "paginacion: {'opdef': 'Y', 'url_base': '/wc/servidorCGI', 'query': '(D).PUBL.+Y+(Congreso).SECC.+Y+(Pleno-y-Diputacion-Permanente).ORSE.', 'docs_ini': '1', 'cmd': 'VERLST', 'docorder': 'FIFO', 'docs_fin': '20', 'ftm': 'PUWTZLST', 'base': 'PU14'}\n",
      "1\n"
     ]
    }
   ],
   "source": [
    "import pandas as pd\n",
    "\n",
    "def get_df_from_congress_json(list)->pd.DataFrame:\n",
    "    \"\"\"\n",
    "    get_df_from_pubmed_json(list) takes a list of json objects from the congress\n",
    "    and returns a pandas dataframe with the list of documents and the link to\n",
    "    the file in the `url` field.\n",
    "    \"\"\"\n",
    "    temp = []\n",
    "    page_base = 'https://www.congreso.es/busqueda-de-publicaciones?p_p_id=publicaciones&p_p_lifecycle=0&p_p_state=normal&p_p_mode=view&_publicaciones_mode=mostrarTextoIntegro&_publicaciones_legislatura={}&_publicaciones_texto=&_publicaciones_id_texto={}'\n",
    "\n",
    "    for s in list:\n",
    "        if(s.startswith('documento')):\n",
    "            temp.append(list[s])\n",
    "        else:\n",
    "            print(str(s) + \": \" + str(list[s]))\n",
    "\n",
    "    page_no = list['paginaActual']\n",
    "    #doc_len = list['publicaciones_encontradas']\n",
    "    term = list['legislatura']\n",
    "\n",
    "    print(page_no)\n",
    "\n",
    "    df = pd.DataFrame(temp)\n",
    "\n",
    "    df['url'] = df.apply(lambda x: page_base.format(term,x['cve']),axis=1)\n",
    "\n",
    "    return df\n",
    "\n",
    "df = get_df_from_congress_json(list)\n"
   ]
  },
  {
   "cell_type": "code",
   "execution_count": 33,
   "metadata": {},
   "outputs": [
    {
     "name": "stdout",
     "output_type": "stream",
     "text": [
      "20\n"
     ]
    }
   ],
   "source": [
    "print(int(list['paginacion']['docs_fin']))"
   ]
  },
  {
   "cell_type": "code",
   "execution_count": 4,
   "metadata": {},
   "outputs": [
    {
     "name": "stdout",
     "output_type": "stream",
     "text": [
      "https://www.congreso.es/busqueda-de-publicaciones?p_p_id=publicaciones&p_p_lifecycle=0&p_p_state=normal&p_p_mode=view&_publicaciones_mode=mostrarTextoIntegro&_publicaciones_legislatura=V&_publicaciones_texto=&_publicaciones_id_texto=CDP199309150010.CODI.#1\n",
      "https://www.congreso.es/busqueda-de-publicaciones?p_p_id=publicaciones&p_p_lifecycle=0&p_p_state=normal&p_p_mode=view&_publicaciones_mode=mostrarTextoIntegro&_publicaciones_legislatura=V&_publicaciones_texto=&_publicaciones_id_texto=CDP199310260020.CODI.#1\n",
      "https://www.congreso.es/busqueda-de-publicaciones?p_p_id=publicaciones&p_p_lifecycle=0&p_p_state=normal&p_p_mode=view&_publicaciones_mode=mostrarTextoIntegro&_publicaciones_legislatura=V&_publicaciones_texto=&_publicaciones_id_texto=CDP199309230014.CODI.#1\n"
     ]
    }
   ],
   "source": [
    "import pandas as pd\n",
    "term5 = pd.read_csv('data/terms/term_5.csv')\n",
    "term5.head()\n",
    "\n",
    "for i, row in term5.iterrows():\n",
    "    print(row['url'])\n",
    "    if(i>1):\n",
    "        break"
   ]
  },
  {
   "cell_type": "code",
   "execution_count": 9,
   "metadata": {},
   "outputs": [
    {
     "name": "stdout",
     "output_type": "stream",
     "text": [
      "PRESIDENTE\n",
      "SECRETARIA (Frías Navarrete)\n",
      "PRESIDENTE\n",
      "GONZALEZ MARQUEZ (Candidato a la Presidencia del Gobierno)\n",
      "PRESIDENTE\n",
      "PRESIDENTE\n",
      "AZNAR LOPEZ\n",
      "PRESIDENTE\n",
      "AZNAR LOPEZ\n",
      "PRESIDENTE\n",
      "GONZALEZ MARQUEZ (Candidato a la Presidencia del Gobierno)\n",
      "PRESIDENTE\n",
      "AZNAR LOPEZ\n",
      "PRESIDENTE\n",
      "AZNAR LOPEZ\n",
      "PRESIDENTE\n",
      "GONZALEZ MARQUEZ (candidato a la Presidencia del Gobierno)\n",
      "PRESIDENTE\n",
      "AZNAR LOPEZ\n",
      "PRESIDENTE\n",
      "GONZALEZ MARQUEZ (Candidato a la Presidencia del Gobierno)\n",
      "PRESIDENTE\n",
      "RIBO MASSO\n",
      "PRESIDENTE\n",
      "RIBO MASSO\n",
      "PRESIDENTE\n",
      "GONZALEZ MARQUEZ (candidato a la Presidencia del Gobierno)\n",
      "PRESIDENTE\n",
      "RIBO MASSO\n",
      "PRESIDENTE\n",
      "RIBO MASSO\n",
      "PRESIDENTE\n",
      "GONZALEZ MARQUEZ (Candidato a la Presidencia del Gobierno)\n",
      "PRESIDENTE\n",
      "RIBO MASSO\n",
      "PRESIDENTE\n",
      "RIBO MASSO\n",
      "PRESIDENTE\n",
      "GONZALEZ MARQUEZ (Candidato a la Presidencia del Gobierno)\n",
      "PRESIDENTE\n",
      "ROCA I JUNYENT\n",
      "PRESIDENTE\n",
      "ROCA I JUNYENT\n",
      "PRESIDENTE\n",
      "GONZALEZ MARQUEZ (candidato a la Presidencia del Gobierno)\n",
      "PRESIDENTE\n",
      "ROCA I JUNYENT\n",
      "GONZALEZ MARQUEZ (candidato a la presidencia del Gobierno)\n",
      "PRESIDENTE\n",
      "PRESIDENTE\n",
      "ANASAGASTI OLABEAGA\n",
      "PRESIDENTE\n",
      "GONZALEZ MARQUEZ (candidato a la Presidencia del Gobierno)\n",
      "PRESIDENTE\n"
     ]
    }
   ],
   "source": [
    "#open /data/pagecache/V/19930708.txt\n",
    "import re\n",
    "\n",
    "with open('data/pagecache/V/19930708.txt') as f:\n",
    "    content = f.read()\n",
    "    regexfinder='(?:(?:[A-ZÀ-Ü])(?:-|\\s)?)+(?:\\s*\\((?:[A-ZÀ-Ü-a-z-à-ü]*\\s?)*\\))?:'\n",
    "    indexes=[(m.start(0),m.end(0)) for m in re.finditer(regexfinder,content, re.U|re.M)]\n",
    "    for i in indexes:\n",
    "        print(content[i[0]:i[1]-1])"
   ]
  }
 ],
 "metadata": {
  "kernelspec": {
   "display_name": "Python 3.10.5 ('.venv': venv)",
   "language": "python",
   "name": "python3"
  },
  "language_info": {
   "codemirror_mode": {
    "name": "ipython",
    "version": 3
   },
   "file_extension": ".py",
   "mimetype": "text/x-python",
   "name": "python",
   "nbconvert_exporter": "python",
   "pygments_lexer": "ipython3",
   "version": "3.10.5"
  },
  "orig_nbformat": 4,
  "vscode": {
   "interpreter": {
    "hash": "77df4a96c0be8bd891423502f384941e461f81b0e784fdbc8bb136153927d3d2"
   }
  }
 },
 "nbformat": 4,
 "nbformat_minor": 2
}
