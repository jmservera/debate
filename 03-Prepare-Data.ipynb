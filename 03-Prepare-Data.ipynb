{
  "cells": [
    {
      "cell_type": "code",
      "source": [
        "import pandas as pd\r\n",
        "import re\r\n",
        "\r\n",
        "files = !ls data/debates/*.csv\r\n",
        "\r\n",
        "full = pd.concat([pd.read_csv(f) for f in files])"
      ],
      "outputs": [],
      "execution_count": 93,
      "metadata": {
        "gather": {
          "logged": 1668775631289
        }
      }
    },
    {
      "cell_type": "code",
      "source": [
        "# constants\r\n",
        "title_pat=r'(.*)\\((.*)\\)'"
      ],
      "outputs": [],
      "execution_count": 94,
      "metadata": {
        "jupyter": {
          "source_hidden": false,
          "outputs_hidden": false
        },
        "nteract": {
          "transient": {
            "deleting": false
          }
        },
        "gather": {
          "logged": 1668775631454
        }
      }
    },
    {
      "cell_type": "code",
      "source": [
        "# find patterns like PRESIDENTE DEL GOBIERNO (Mariano Rajoy)\r\n",
        "\r\n",
        "# extract title, ex: \"PRESDIENTE DEL GOBIERNO\"\r\n",
        "full[\"Title\"]=full[\"Name\"].apply(lambda x: re.match(title_pat, x).groups()[0] if re.match(title_pat, x)!=None else None)\r\n",
        "# extract name, ex: \"Mariano Rajoy\"\r\n",
        "full[\"Name\"]=full[\"Name\"].apply(lambda x: re.match(title_pat, x).groups()[1].upper() if re.match(title_pat, x)!=None else x)\r\n",
        "full[full.Title.notnull()].head()"
      ],
      "outputs": [
        {
          "output_type": "execute_result",
          "execution_count": 95,
          "data": {
            "text/plain": "                    Name                                               Text  \\\n37         BELOKI GUERRA  Propuesta de transacción. Extender las relacio...   \n89           SOLBES MIRA  Señor presidente, señorías, comparezco de nuev...   \n102  CUNILLERA I MESTRES  Muchas gracias, señor Azpiazu. Tiene la palabr...   \n104  CUNILLERA I MESTRES                  Señor Sánchez i Llibre, por favor   \n106  CUNILLERA I MESTRES  Gracias a usted, señor Sánchez. Tiene ahora la...   \n\n         Date Term                                              Title  \n37   20080527   IX                                        SECRETARIO   \n89   20080626   IX  VICEPRESIDENTE SEGUNDO DEL GOBIERNO Y MINISTRO...  \n102  20080626   IX                                    VICEPRESIDENTA   \n104  20080626   IX                                    VICEPRESIDENTA   \n106  20080626   IX                                    VICEPRESIDENTA   ",
            "text/html": "<div>\n<style scoped>\n    .dataframe tbody tr th:only-of-type {\n        vertical-align: middle;\n    }\n\n    .dataframe tbody tr th {\n        vertical-align: top;\n    }\n\n    .dataframe thead th {\n        text-align: right;\n    }\n</style>\n<table border=\"1\" class=\"dataframe\">\n  <thead>\n    <tr style=\"text-align: right;\">\n      <th></th>\n      <th>Name</th>\n      <th>Text</th>\n      <th>Date</th>\n      <th>Term</th>\n      <th>Title</th>\n    </tr>\n  </thead>\n  <tbody>\n    <tr>\n      <th>37</th>\n      <td>BELOKI GUERRA</td>\n      <td>Propuesta de transacción. Extender las relacio...</td>\n      <td>20080527</td>\n      <td>IX</td>\n      <td>SECRETARIO</td>\n    </tr>\n    <tr>\n      <th>89</th>\n      <td>SOLBES MIRA</td>\n      <td>Señor presidente, señorías, comparezco de nuev...</td>\n      <td>20080626</td>\n      <td>IX</td>\n      <td>VICEPRESIDENTE SEGUNDO DEL GOBIERNO Y MINISTRO...</td>\n    </tr>\n    <tr>\n      <th>102</th>\n      <td>CUNILLERA I MESTRES</td>\n      <td>Muchas gracias, señor Azpiazu. Tiene la palabr...</td>\n      <td>20080626</td>\n      <td>IX</td>\n      <td>VICEPRESIDENTA</td>\n    </tr>\n    <tr>\n      <th>104</th>\n      <td>CUNILLERA I MESTRES</td>\n      <td>Señor Sánchez i Llibre, por favor</td>\n      <td>20080626</td>\n      <td>IX</td>\n      <td>VICEPRESIDENTA</td>\n    </tr>\n    <tr>\n      <th>106</th>\n      <td>CUNILLERA I MESTRES</td>\n      <td>Gracias a usted, señor Sánchez. Tiene ahora la...</td>\n      <td>20080626</td>\n      <td>IX</td>\n      <td>VICEPRESIDENTA</td>\n    </tr>\n  </tbody>\n</table>\n</div>"
          },
          "metadata": {}
        }
      ],
      "execution_count": 95,
      "metadata": {
        "jupyter": {
          "source_hidden": false,
          "outputs_hidden": false
        },
        "nteract": {
          "transient": {
            "deleting": false
          }
        },
        "gather": {
          "logged": 1668775632292
        }
      }
    },
    {
      "cell_type": "code",
      "source": [
        "# find paranthesized values and sort them by occurence\r\n",
        "parenthesized_pat=r'.*(\\(.+?\\))'\r\n",
        "# can also use negative matching instead of non-greedy parenthesized_pat=r'.*(\\([^\\)]+\\))'\r\n",
        "l=full[\"Text\"].apply(lambda t: re.search(parenthesized_pat,str(t)).groups() if re.match(parenthesized_pat,str(t))!=None else None).dropna()\r\n",
        "l=[item for tup in l for item in tup]\r\n",
        "pd.DataFrame({'test':l}).groupby(['test']).size().reset_index().sort_values(0,ascending=False).head(20)"
      ],
      "outputs": [
        {
          "output_type": "execute_result",
          "execution_count": 96,
          "data": {
            "text/plain": "                                                    test      0\n9606                                            (Pausa.)  24913\n641                                           (Aplausos)  24235\n9598                                             (Pausa)  10018\n1638                               (Convergència i Unió)   6260\n10520                                         (Rumores.)   5187\n9682   (Pausa.-Una trabajadora del servicio de limpie...   4616\n10509                                          (Rumores)   4054\n662                                          (Aplausos.)   3200\n1720                                           (EAJ-PNV)   2883\n9510                                               (PNV)   1158\n1238                                     (Asentimiento.)    834\n10313                                           (Risas.)    801\n3675         (El señor presidente ocupa la Presidencia.)    646\n476    (Aplausos de las señoras y los señores diputad...    524\n4956   (La señora vicepresidenta, Cunillera i Mestres...    449\n10058                                       (Protestas.)    423\n1377                               (CONVERGÈNCIA I UNIÓ)    419\n1592                            (Continúan los rumores.)    352\n10054                                        (Protestas)    317\n12195                                        (VOTACIÓN.)    310",
            "text/html": "<div>\n<style scoped>\n    .dataframe tbody tr th:only-of-type {\n        vertical-align: middle;\n    }\n\n    .dataframe tbody tr th {\n        vertical-align: top;\n    }\n\n    .dataframe thead th {\n        text-align: right;\n    }\n</style>\n<table border=\"1\" class=\"dataframe\">\n  <thead>\n    <tr style=\"text-align: right;\">\n      <th></th>\n      <th>test</th>\n      <th>0</th>\n    </tr>\n  </thead>\n  <tbody>\n    <tr>\n      <th>9606</th>\n      <td>(Pausa.)</td>\n      <td>24913</td>\n    </tr>\n    <tr>\n      <th>641</th>\n      <td>(Aplausos)</td>\n      <td>24235</td>\n    </tr>\n    <tr>\n      <th>9598</th>\n      <td>(Pausa)</td>\n      <td>10018</td>\n    </tr>\n    <tr>\n      <th>1638</th>\n      <td>(Convergència i Unió)</td>\n      <td>6260</td>\n    </tr>\n    <tr>\n      <th>10520</th>\n      <td>(Rumores.)</td>\n      <td>5187</td>\n    </tr>\n    <tr>\n      <th>9682</th>\n      <td>(Pausa.-Una trabajadora del servicio de limpie...</td>\n      <td>4616</td>\n    </tr>\n    <tr>\n      <th>10509</th>\n      <td>(Rumores)</td>\n      <td>4054</td>\n    </tr>\n    <tr>\n      <th>662</th>\n      <td>(Aplausos.)</td>\n      <td>3200</td>\n    </tr>\n    <tr>\n      <th>1720</th>\n      <td>(EAJ-PNV)</td>\n      <td>2883</td>\n    </tr>\n    <tr>\n      <th>9510</th>\n      <td>(PNV)</td>\n      <td>1158</td>\n    </tr>\n    <tr>\n      <th>1238</th>\n      <td>(Asentimiento.)</td>\n      <td>834</td>\n    </tr>\n    <tr>\n      <th>10313</th>\n      <td>(Risas.)</td>\n      <td>801</td>\n    </tr>\n    <tr>\n      <th>3675</th>\n      <td>(El señor presidente ocupa la Presidencia.)</td>\n      <td>646</td>\n    </tr>\n    <tr>\n      <th>476</th>\n      <td>(Aplausos de las señoras y los señores diputad...</td>\n      <td>524</td>\n    </tr>\n    <tr>\n      <th>4956</th>\n      <td>(La señora vicepresidenta, Cunillera i Mestres...</td>\n      <td>449</td>\n    </tr>\n    <tr>\n      <th>10058</th>\n      <td>(Protestas.)</td>\n      <td>423</td>\n    </tr>\n    <tr>\n      <th>1377</th>\n      <td>(CONVERGÈNCIA I UNIÓ)</td>\n      <td>419</td>\n    </tr>\n    <tr>\n      <th>1592</th>\n      <td>(Continúan los rumores.)</td>\n      <td>352</td>\n    </tr>\n    <tr>\n      <th>10054</th>\n      <td>(Protestas)</td>\n      <td>317</td>\n    </tr>\n    <tr>\n      <th>12195</th>\n      <td>(VOTACIÓN.)</td>\n      <td>310</td>\n    </tr>\n  </tbody>\n</table>\n</div>"
          },
          "metadata": {}
        }
      ],
      "execution_count": 96,
      "metadata": {
        "jupyter": {
          "source_hidden": false,
          "outputs_hidden": false
        },
        "nteract": {
          "transient": {
            "deleting": false
          }
        },
        "gather": {
          "logged": 1668775636882
        }
      }
    },
    {
      "cell_type": "code",
      "source": [
        "# now remove parenthesized sentences\r\n",
        "parenthesized_pat=r'\\(.+?\\)' # replace does not need groups like in the example above, will replace all the found regex\r\n",
        "full[\"Text\"]=full[\"Text\"].str.replace(parenthesized_pat,'',regex=True)\r\n",
        "full.head()\r\n"
      ],
      "outputs": [
        {
          "output_type": "execute_result",
          "execution_count": 97,
          "data": {
            "text/plain": "               Name                                               Text  \\\n0        PRESIDENTE  Señorías, se inicia la sesión. Tenemos como as...   \n1      SECO REVILLA                            Sí, prometo. (Aplausos.   \n2        PRESIDENTE  Don Óscar Seco Revilla ha adquirido la condici...   \n3        PRESIDENTE  Pasamos a examinar el punto I del orden del dí...   \n4  LLAMAZARES TRIGO  Gracias, señor presidente. Señorías, con volun...   \n\n       Date Term Title  \n0  20080527   IX  None  \n1  20080527   IX  None  \n2  20080527   IX  None  \n3  20080527   IX  None  \n4  20080527   IX  None  ",
            "text/html": "<div>\n<style scoped>\n    .dataframe tbody tr th:only-of-type {\n        vertical-align: middle;\n    }\n\n    .dataframe tbody tr th {\n        vertical-align: top;\n    }\n\n    .dataframe thead th {\n        text-align: right;\n    }\n</style>\n<table border=\"1\" class=\"dataframe\">\n  <thead>\n    <tr style=\"text-align: right;\">\n      <th></th>\n      <th>Name</th>\n      <th>Text</th>\n      <th>Date</th>\n      <th>Term</th>\n      <th>Title</th>\n    </tr>\n  </thead>\n  <tbody>\n    <tr>\n      <th>0</th>\n      <td>PRESIDENTE</td>\n      <td>Señorías, se inicia la sesión. Tenemos como as...</td>\n      <td>20080527</td>\n      <td>IX</td>\n      <td>None</td>\n    </tr>\n    <tr>\n      <th>1</th>\n      <td>SECO REVILLA</td>\n      <td>Sí, prometo. (Aplausos.</td>\n      <td>20080527</td>\n      <td>IX</td>\n      <td>None</td>\n    </tr>\n    <tr>\n      <th>2</th>\n      <td>PRESIDENTE</td>\n      <td>Don Óscar Seco Revilla ha adquirido la condici...</td>\n      <td>20080527</td>\n      <td>IX</td>\n      <td>None</td>\n    </tr>\n    <tr>\n      <th>3</th>\n      <td>PRESIDENTE</td>\n      <td>Pasamos a examinar el punto I del orden del dí...</td>\n      <td>20080527</td>\n      <td>IX</td>\n      <td>None</td>\n    </tr>\n    <tr>\n      <th>4</th>\n      <td>LLAMAZARES TRIGO</td>\n      <td>Gracias, señor presidente. Señorías, con volun...</td>\n      <td>20080527</td>\n      <td>IX</td>\n      <td>None</td>\n    </tr>\n  </tbody>\n</table>\n</div>"
          },
          "metadata": {}
        }
      ],
      "execution_count": 97,
      "metadata": {
        "jupyter": {
          "source_hidden": false,
          "outputs_hidden": false
        },
        "nteract": {
          "transient": {
            "deleting": false
          }
        },
        "gather": {
          "logged": 1668775637770
        }
      }
    },
    {
      "cell_type": "code",
      "source": [
        "full.to_parquet('../debates.parquet', index=False)"
      ],
      "outputs": [],
      "execution_count": 98,
      "metadata": {
        "jupyter": {
          "source_hidden": false,
          "outputs_hidden": false
        },
        "nteract": {
          "transient": {
            "deleting": false
          }
        },
        "gather": {
          "logged": 1668775643422
        }
      }
    },
    {
      "cell_type": "code",
      "source": [
        "full[full['Name'].str.contains('EZ ZAPATERO')].to_csv('../zapatero.csv', index=False)\r\n",
        "full[full['Name'].str.contains('RAJOY')].to_csv('../rajoy.csv',index=False)"
      ],
      "outputs": [],
      "execution_count": 99,
      "metadata": {
        "jupyter": {
          "source_hidden": false,
          "outputs_hidden": false
        },
        "nteract": {
          "transient": {
            "deleting": false
          }
        },
        "gather": {
          "logged": 1668775644563
        }
      }
    },
    {
      "cell_type": "code",
      "source": [
        "full.to_csv('../debates.csv', index=False)"
      ],
      "outputs": [],
      "execution_count": 100,
      "metadata": {
        "jupyter": {
          "source_hidden": false,
          "outputs_hidden": false
        },
        "nteract": {
          "transient": {
            "deleting": false
          }
        },
        "gather": {
          "logged": 1668775659265
        }
      }
    }
  ],
  "metadata": {
    "kernelspec": {
      "name": "python38-azureml",
      "language": "python",
      "display_name": "Python 3.8 - AzureML"
    },
    "language_info": {
      "name": "python",
      "version": "3.8.5",
      "mimetype": "text/x-python",
      "codemirror_mode": {
        "name": "ipython",
        "version": 3
      },
      "pygments_lexer": "ipython3",
      "nbconvert_exporter": "python",
      "file_extension": ".py"
    },
    "kernel_info": {
      "name": "python38-azureml"
    },
    "nteract": {
      "version": "nteract-front-end@1.0.0"
    },
    "microsoft": {
      "host": {
        "AzureML": {
          "notebookHasBeenCompleted": true
        }
      }
    }
  },
  "nbformat": 4,
  "nbformat_minor": 2
}