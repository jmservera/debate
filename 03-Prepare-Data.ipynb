{
  "cells": [
    {
      "cell_type": "markdown",
      "source": [
        "# Step 03: Data preparation\r\n",
        "\r\n",
        "In this step we enrich the dataset with some information we can find in the text, like:\r\n",
        "\r\n",
        "* When a person has a special position in the government or in the congress (President of the congress, President of the nation, Minister,...), they usually have the position name written in ALL CAPS and then their name follows it between parens. Like this: `PRESIDENTE DEL GOBIERNO (Mariano Rajoy)`\r\n",
        "* There's also a process to enrich the dataset with additional information based on paranthesized text.\r\n"
      ],
      "metadata": {
        "nteract": {
          "transient": {
            "deleting": false
          }
        }
      }
    },
    {
      "cell_type": "code",
      "source": [
        "import pandas as pd\r\n",
        "import re\r\n",
        "\r\n",
        "files = !ls data/debates/*.csv\r\n",
        "\r\n",
        "full = pd.concat([pd.read_csv(f) for f in files])"
      ],
      "outputs": [],
      "execution_count": 1,
      "metadata": {
        "gather": {
          "logged": 1670541241150
        }
      }
    },
    {
      "cell_type": "code",
      "source": [
        "# constants\r\n",
        "title_pat=r'(.*)\\((.*)\\)'"
      ],
      "outputs": [],
      "execution_count": 2,
      "metadata": {
        "jupyter": {
          "source_hidden": false,
          "outputs_hidden": false
        },
        "nteract": {
          "transient": {
            "deleting": false
          }
        },
        "gather": {
          "logged": 1670541241243
        }
      }
    },
    {
      "cell_type": "code",
      "source": [
        "# find patterns like PRESIDENTE DEL GOBIERNO (Mariano Rajoy)\r\n",
        "\r\n",
        "# extract title, ex: \"PRESIDENTE DEL GOBIERNO\"\r\n",
        "full[\"Title\"]=full[\"Name\"].apply(lambda x: re.match(title_pat, x).groups()[0] if re.match(title_pat, x)!=None else None)\r\n",
        "# extract name, ex: \"Mariano Rajoy\"\r\n",
        "full[\"Name\"]=full[\"Name\"].apply(lambda x: re.match(title_pat, x).groups()[1].upper() if re.match(title_pat, x)!=None else x)\r\n",
        "full[full.Title.notnull()].head()"
      ],
      "outputs": [
        {
          "output_type": "execute_result",
          "execution_count": 3,
          "data": {
            "text/plain": "                    Name                                               Text  \\\n37         BELOKI GUERRA  Propuesta de transacción. Extender las relacio...   \n89           SOLBES MIRA  Señor presidente, señorías, comparezco de nuev...   \n102  CUNILLERA I MESTRES  Muchas gracias, señor Azpiazu. Tiene la palabr...   \n104  CUNILLERA I MESTRES                  Señor Sánchez i Llibre, por favor   \n106  CUNILLERA I MESTRES  Gracias a usted, señor Sánchez. Tiene ahora la...   \n\n         Date Term                                              Title  \n37   20080527   IX                                        SECRETARIO   \n89   20080626   IX  VICEPRESIDENTE SEGUNDO DEL GOBIERNO Y MINISTRO...  \n102  20080626   IX                                    VICEPRESIDENTA   \n104  20080626   IX                                    VICEPRESIDENTA   \n106  20080626   IX                                    VICEPRESIDENTA   ",
            "text/html": "<div>\n<style scoped>\n    .dataframe tbody tr th:only-of-type {\n        vertical-align: middle;\n    }\n\n    .dataframe tbody tr th {\n        vertical-align: top;\n    }\n\n    .dataframe thead th {\n        text-align: right;\n    }\n</style>\n<table border=\"1\" class=\"dataframe\">\n  <thead>\n    <tr style=\"text-align: right;\">\n      <th></th>\n      <th>Name</th>\n      <th>Text</th>\n      <th>Date</th>\n      <th>Term</th>\n      <th>Title</th>\n    </tr>\n  </thead>\n  <tbody>\n    <tr>\n      <th>37</th>\n      <td>BELOKI GUERRA</td>\n      <td>Propuesta de transacción. Extender las relacio...</td>\n      <td>20080527</td>\n      <td>IX</td>\n      <td>SECRETARIO</td>\n    </tr>\n    <tr>\n      <th>89</th>\n      <td>SOLBES MIRA</td>\n      <td>Señor presidente, señorías, comparezco de nuev...</td>\n      <td>20080626</td>\n      <td>IX</td>\n      <td>VICEPRESIDENTE SEGUNDO DEL GOBIERNO Y MINISTRO...</td>\n    </tr>\n    <tr>\n      <th>102</th>\n      <td>CUNILLERA I MESTRES</td>\n      <td>Muchas gracias, señor Azpiazu. Tiene la palabr...</td>\n      <td>20080626</td>\n      <td>IX</td>\n      <td>VICEPRESIDENTA</td>\n    </tr>\n    <tr>\n      <th>104</th>\n      <td>CUNILLERA I MESTRES</td>\n      <td>Señor Sánchez i Llibre, por favor</td>\n      <td>20080626</td>\n      <td>IX</td>\n      <td>VICEPRESIDENTA</td>\n    </tr>\n    <tr>\n      <th>106</th>\n      <td>CUNILLERA I MESTRES</td>\n      <td>Gracias a usted, señor Sánchez. Tiene ahora la...</td>\n      <td>20080626</td>\n      <td>IX</td>\n      <td>VICEPRESIDENTA</td>\n    </tr>\n  </tbody>\n</table>\n</div>"
          },
          "metadata": {}
        }
      ],
      "execution_count": 3,
      "metadata": {
        "jupyter": {
          "source_hidden": false,
          "outputs_hidden": false
        },
        "nteract": {
          "transient": {
            "deleting": false
          }
        },
        "gather": {
          "logged": 1670541242290
        }
      }
    },
    {
      "cell_type": "code",
      "source": [
        "# find paranthesized values and sort them by occurence\r\n",
        "parenthesized_pat=r'(\\(.+?\\))'\r\n",
        "# can also use negative matching instead of non-greedy parenthesized_pat=r'.*(\\([^\\)]+\\))'\r\n",
        "l=full[\"Text\"].apply(lambda t: \",\".join(re.findall(parenthesized_pat,str(t))))\r\n",
        "pd.DataFrame({'test':l}).groupby(['test']).size().reset_index().sort_values(0,ascending=False).head(20)"
      ],
      "outputs": [
        {
          "output_type": "execute_result",
          "execution_count": 4,
          "data": {
            "text/plain": "                                                    test       0\n0                                                         229854\n17132                                           (Pausa.)   20707\n634                                           (Aplausos)   14816\n16867                                            (Pausa)    8988\n6392                               (Convergència i Unió)    5055\n17483  (Pausa.-Una trabajadora del servicio de limpie...    4559\n20530                                         (Rumores.)    3129\n19743                                          (Rumores)    2426\n7112                                           (EAJ-PNV)    2181\n682                                (Aplausos),(Aplausos)    2020\n3464                                         (Aplausos.)    1705\n17257                                  (Pausa.),(Pausa.)     935\n16644                                              (PNV)     916\n6718                      (Convergència i Unió),(Pausa.)     886\n709                     (Aplausos),(Aplausos),(Aplausos)     708\n5336                                     (Asentimiento.)     659\n9754         (El señor presidente ocupa la Presidencia.)     547\n19025                                           (Risas.)     530\n11764  (La señora vicepresidenta, Cunillera i Mestres...     420\n17497  (Pausa.-Una trabajadora del servicio de limpie...     419",
            "text/html": "<div>\n<style scoped>\n    .dataframe tbody tr th:only-of-type {\n        vertical-align: middle;\n    }\n\n    .dataframe tbody tr th {\n        vertical-align: top;\n    }\n\n    .dataframe thead th {\n        text-align: right;\n    }\n</style>\n<table border=\"1\" class=\"dataframe\">\n  <thead>\n    <tr style=\"text-align: right;\">\n      <th></th>\n      <th>test</th>\n      <th>0</th>\n    </tr>\n  </thead>\n  <tbody>\n    <tr>\n      <th>0</th>\n      <td></td>\n      <td>229854</td>\n    </tr>\n    <tr>\n      <th>17132</th>\n      <td>(Pausa.)</td>\n      <td>20707</td>\n    </tr>\n    <tr>\n      <th>634</th>\n      <td>(Aplausos)</td>\n      <td>14816</td>\n    </tr>\n    <tr>\n      <th>16867</th>\n      <td>(Pausa)</td>\n      <td>8988</td>\n    </tr>\n    <tr>\n      <th>6392</th>\n      <td>(Convergència i Unió)</td>\n      <td>5055</td>\n    </tr>\n    <tr>\n      <th>17483</th>\n      <td>(Pausa.-Una trabajadora del servicio de limpie...</td>\n      <td>4559</td>\n    </tr>\n    <tr>\n      <th>20530</th>\n      <td>(Rumores.)</td>\n      <td>3129</td>\n    </tr>\n    <tr>\n      <th>19743</th>\n      <td>(Rumores)</td>\n      <td>2426</td>\n    </tr>\n    <tr>\n      <th>7112</th>\n      <td>(EAJ-PNV)</td>\n      <td>2181</td>\n    </tr>\n    <tr>\n      <th>682</th>\n      <td>(Aplausos),(Aplausos)</td>\n      <td>2020</td>\n    </tr>\n    <tr>\n      <th>3464</th>\n      <td>(Aplausos.)</td>\n      <td>1705</td>\n    </tr>\n    <tr>\n      <th>17257</th>\n      <td>(Pausa.),(Pausa.)</td>\n      <td>935</td>\n    </tr>\n    <tr>\n      <th>16644</th>\n      <td>(PNV)</td>\n      <td>916</td>\n    </tr>\n    <tr>\n      <th>6718</th>\n      <td>(Convergència i Unió),(Pausa.)</td>\n      <td>886</td>\n    </tr>\n    <tr>\n      <th>709</th>\n      <td>(Aplausos),(Aplausos),(Aplausos)</td>\n      <td>708</td>\n    </tr>\n    <tr>\n      <th>5336</th>\n      <td>(Asentimiento.)</td>\n      <td>659</td>\n    </tr>\n    <tr>\n      <th>9754</th>\n      <td>(El señor presidente ocupa la Presidencia.)</td>\n      <td>547</td>\n    </tr>\n    <tr>\n      <th>19025</th>\n      <td>(Risas.)</td>\n      <td>530</td>\n    </tr>\n    <tr>\n      <th>11764</th>\n      <td>(La señora vicepresidenta, Cunillera i Mestres...</td>\n      <td>420</td>\n    </tr>\n    <tr>\n      <th>17497</th>\n      <td>(Pausa.-Una trabajadora del servicio de limpie...</td>\n      <td>419</td>\n    </tr>\n  </tbody>\n</table>\n</div>"
          },
          "metadata": {}
        }
      ],
      "execution_count": 4,
      "metadata": {
        "jupyter": {
          "source_hidden": false,
          "outputs_hidden": false
        },
        "nteract": {
          "transient": {
            "deleting": false
          }
        },
        "gather": {
          "logged": 1670541243157
        }
      }
    },
    {
      "cell_type": "code",
      "source": [
        "parenthesized_pat=r'\\(.+?\\)'\r\n",
        "unclosed_parenthesized_pat=r'(\\(.+?\\.)'\r\n",
        "m=full[\"Text\"].str.replace(parenthesized_pat,'',regex=True).str.strip()\r\n",
        "l=m.apply(lambda t: \",\".join([par+\")\" for par in re.findall(unclosed_parenthesized_pat,str(t))]))\r\n",
        "#pd.DataFrame({'test':l}).groupby(['test']).size().reset_index().sort_values(0,ascending=False).head(20)\r\n",
        "tdf=pd.DataFrame({'m':l})\r\n",
        "tdf[\"m\"].apply(lambda m: m.replace(\".)\",\")\") ).iloc[6065]\r\n",
        "\r\n"
      ],
      "outputs": [
        {
          "output_type": "execute_result",
          "execution_count": 5,
          "data": {
            "text/plain": "'(ANTES DENOMINADO PROYECTO DE LEY ORGÁNICA DE MODIFICACIÓN DE LA LEY ORGÁNICA 6/1985, DE 1 DE JULIO, DEL PODER JUDICIAL Y COMPLEMENTARIA A LA LEY PARA LA EJECUCIÓN EN LA UNIÓN EUROPEA DE RESOLUCIONES QUE IMPONGAN SANCIONES PECUNIARIAS),(Número de expediente 121/000003)'"
          },
          "metadata": {}
        }
      ],
      "execution_count": 5,
      "metadata": {
        "jupyter": {
          "source_hidden": false,
          "outputs_hidden": false
        },
        "nteract": {
          "transient": {
            "deleting": false
          }
        },
        "gather": {
          "logged": 1670541245203
        }
      }
    },
    {
      "cell_type": "code",
      "source": [
        "t=\"this (is a unclosed. or more (things. whatever\"\r\n",
        "[t+\")\" for t in re.findall(unclosed_parenthesized_pat,str(t))]"
      ],
      "outputs": [
        {
          "output_type": "execute_result",
          "execution_count": 6,
          "data": {
            "text/plain": "['(is a unclosed.)', '(things.)']"
          },
          "metadata": {}
        }
      ],
      "execution_count": 6,
      "metadata": {
        "jupyter": {
          "source_hidden": false,
          "outputs_hidden": false
        },
        "nteract": {
          "transient": {
            "deleting": false
          }
        },
        "gather": {
          "logged": 1670541245317
        }
      }
    },
    {
      "cell_type": "code",
      "source": [
        "parenthesized_pat=r'\\(.+?\\)'\r\n",
        "unclosed_parenthesized_pat=r'(\\(.+?\\.)'\r\n",
        "\r\n",
        "full[\"infos\"]=full[\"Text\"].apply(lambda t: \",\".join(re.findall(parenthesized_pat,str(t))).strip())\r\n",
        "# now remove parenthesized sentences\r\n",
        "full[\"Text\"]=full[\"Text\"].str.replace(parenthesized_pat,'',regex=True).str.strip()\r\n",
        "full[\"infos2\"]=full[\"Text\"].apply( lambda t: \",\".join([par+\")\" for par in re.findall(unclosed_parenthesized_pat,str(t))]))\r\n",
        "full[\"Text\"]=full[\"Text\"].str.replace(unclosed_parenthesized_pat,'',regex=True).str.strip()\r\n",
        "full[\"infos\"]=full[[\"infos\",\"infos2\"]].apply( lambda row: row[\"infos\"] if len(row[\"infos2\"])==0 else row[\"infos2\"] if len(row[\"infos\"])==0 else \",\".join([row[\"infos\"],row[\"infos2\"]]),axis=1)\r\n",
        "full[\"infos\"]=full[\"infos\"].str.replace(\".)\",\")\",regex=False)\r\n",
        "del full[\"infos2\"]\r\n",
        "full"
      ],
      "outputs": [
        {
          "output_type": "execute_result",
          "execution_count": 7,
          "data": {
            "text/plain": "                   Name                                               Text  \\\n0            PRESIDENTE  Señorías, se inicia la sesión. Tenemos como as...   \n1          SECO REVILLA                                       Sí, prometo.   \n2            PRESIDENTE  Don Óscar Seco Revilla ha adquirido la condici...   \n3            PRESIDENTE  Pasamos a examinar el punto I del orden del dí...   \n4      LLAMAZARES TRIGO  Gracias, señor presidente. Señorías, con volun...   \n...                 ...                                                ...   \n41341        PRESIDENTA  En consecuencia, queda aprobado el dictamen. -...   \n41342        PRESIDENTA  Acuerdo entre el Gobierno del Reino de España ...   \n41343        PRESIDENTA  En consecuencia, no queda aprobado el dictamen...   \n41344        PRESIDENTA  Votación de la solicitud de avocación por el P...   \n41345        PRESIDENTA  En consecuencia, queda avocado por el Pleno el...   \n\n           Date Term Title                                              infos  \n0      20080527   IX  None                                                     \n1      20080527   IX  None                                         (Aplausos)  \n2      20080527   IX  None                  (Número de expediente 162/000025)  \n3      20080527   IX  None                                                     \n4      20080527   IX  None                                                     \n...         ...  ...   ...                                                ...  \n41341  20221103  XIV  None                  (Número de expediente 110/000107)  \n41342  20221103  XIV  None                                            (Pausa)  \n41343  20221103  XIV  None  (VOTACIÓN),(PROCEDENTE DEL REAL DECRETO-LEY 16...  \n41344  20221103  XIV  None                                            (Pausa)  \n41345  20221103  XIV  None                                                     \n\n[355618 rows x 6 columns]",
            "text/html": "<div>\n<style scoped>\n    .dataframe tbody tr th:only-of-type {\n        vertical-align: middle;\n    }\n\n    .dataframe tbody tr th {\n        vertical-align: top;\n    }\n\n    .dataframe thead th {\n        text-align: right;\n    }\n</style>\n<table border=\"1\" class=\"dataframe\">\n  <thead>\n    <tr style=\"text-align: right;\">\n      <th></th>\n      <th>Name</th>\n      <th>Text</th>\n      <th>Date</th>\n      <th>Term</th>\n      <th>Title</th>\n      <th>infos</th>\n    </tr>\n  </thead>\n  <tbody>\n    <tr>\n      <th>0</th>\n      <td>PRESIDENTE</td>\n      <td>Señorías, se inicia la sesión. Tenemos como as...</td>\n      <td>20080527</td>\n      <td>IX</td>\n      <td>None</td>\n      <td></td>\n    </tr>\n    <tr>\n      <th>1</th>\n      <td>SECO REVILLA</td>\n      <td>Sí, prometo.</td>\n      <td>20080527</td>\n      <td>IX</td>\n      <td>None</td>\n      <td>(Aplausos)</td>\n    </tr>\n    <tr>\n      <th>2</th>\n      <td>PRESIDENTE</td>\n      <td>Don Óscar Seco Revilla ha adquirido la condici...</td>\n      <td>20080527</td>\n      <td>IX</td>\n      <td>None</td>\n      <td>(Número de expediente 162/000025)</td>\n    </tr>\n    <tr>\n      <th>3</th>\n      <td>PRESIDENTE</td>\n      <td>Pasamos a examinar el punto I del orden del dí...</td>\n      <td>20080527</td>\n      <td>IX</td>\n      <td>None</td>\n      <td></td>\n    </tr>\n    <tr>\n      <th>4</th>\n      <td>LLAMAZARES TRIGO</td>\n      <td>Gracias, señor presidente. Señorías, con volun...</td>\n      <td>20080527</td>\n      <td>IX</td>\n      <td>None</td>\n      <td></td>\n    </tr>\n    <tr>\n      <th>...</th>\n      <td>...</td>\n      <td>...</td>\n      <td>...</td>\n      <td>...</td>\n      <td>...</td>\n      <td>...</td>\n    </tr>\n    <tr>\n      <th>41341</th>\n      <td>PRESIDENTA</td>\n      <td>En consecuencia, queda aprobado el dictamen. -...</td>\n      <td>20221103</td>\n      <td>XIV</td>\n      <td>None</td>\n      <td>(Número de expediente 110/000107)</td>\n    </tr>\n    <tr>\n      <th>41342</th>\n      <td>PRESIDENTA</td>\n      <td>Acuerdo entre el Gobierno del Reino de España ...</td>\n      <td>20221103</td>\n      <td>XIV</td>\n      <td>None</td>\n      <td>(Pausa)</td>\n    </tr>\n    <tr>\n      <th>41343</th>\n      <td>PRESIDENTA</td>\n      <td>En consecuencia, no queda aprobado el dictamen...</td>\n      <td>20221103</td>\n      <td>XIV</td>\n      <td>None</td>\n      <td>(VOTACIÓN),(PROCEDENTE DEL REAL DECRETO-LEY 16...</td>\n    </tr>\n    <tr>\n      <th>41344</th>\n      <td>PRESIDENTA</td>\n      <td>Votación de la solicitud de avocación por el P...</td>\n      <td>20221103</td>\n      <td>XIV</td>\n      <td>None</td>\n      <td>(Pausa)</td>\n    </tr>\n    <tr>\n      <th>41345</th>\n      <td>PRESIDENTA</td>\n      <td>En consecuencia, queda avocado por el Pleno el...</td>\n      <td>20221103</td>\n      <td>XIV</td>\n      <td>None</td>\n      <td></td>\n    </tr>\n  </tbody>\n</table>\n<p>355618 rows × 6 columns</p>\n</div>"
          },
          "metadata": {}
        }
      ],
      "execution_count": 7,
      "metadata": {
        "jupyter": {
          "source_hidden": false,
          "outputs_hidden": false
        },
        "nteract": {
          "transient": {
            "deleting": false
          }
        },
        "gather": {
          "logged": 1670541252977
        }
      }
    },
    {
      "cell_type": "code",
      "source": [
        "full[(full[\"infos\"].str.len()>0) & (full[\"Title\"].str.len()>0)].head(20)"
      ],
      "outputs": [
        {
          "output_type": "execute_result",
          "execution_count": 8,
          "data": {
            "text/plain": "                          Name  \\\n89                 SOLBES MIRA   \n102        CUNILLERA I MESTRES   \n127          MORATINOS CUYAUBÉ   \n142        CUNILLERA I MESTRES   \n153          MORATINOS CUYAUBÉ   \n247        CUNILLERA I MESTRES   \n299         RODRÍGUEZ ZAPATERO   \n303         RODRÍGUEZ ZAPATERO   \n308         RODRÍGUEZ ZAPATERO   \n312         RODRÍGUEZ ZAPATERO   \n318         RODRÍGUEZ ZAPATERO   \n322         RODRÍGUEZ ZAPATERO   \n328  FERNÁNDEZ DE LA VEGA SANZ   \n332  FERNÁNDEZ DE LA VEGA SANZ   \n340             SALGADO MÉNDEZ   \n346             SALGADO MÉNDEZ   \n356             SALGADO MÉNDEZ   \n362            PÉREZ RUBALCABA   \n366            PÉREZ RUBALCABA   \n372            PÉREZ RUBALCABA   \n\n                                                  Text      Date Term  \\\n89   Señor presidente, señorías, comparezco de nuev...  20080626   IX   \n102  Muchas gracias, señor Azpiazu. Tiene la palabr...  20080626   IX   \n127  Gracias, señor presidente. Señorías, quiero sa...  20080626   IX   \n142  Gracias a usted. Por el Grupo Parlamentario Va...  20080626   IX   \n153  Gracias, señor presidente. Señorías, interveng...  20080626   IX   \n247  Gracias, señor Beloki. Tiene la palabra, por e...  20080610   IX   \n299  Muchas gracias, señor presidente. Señor Erkore...  20080604   IX   \n303  Muchas gracias, señor presidente. Señor Erkore...  20080604   IX   \n308  Gracias, señor presidente. Señor Duran, compar...  20080604   IX   \n312  Muchas gracias, señor presidente. Señor Duran,...  20080604   IX   \n318  Muchas gracias, señor presidente. Señor Rajoy,...  20080604   IX   \n322  Muchas gracias, señor presidente. Señor Rajoy,...  20080604   IX   \n328  Señoría, la posición del Gobierno en relación ...  20080604   IX   \n332  Señoría, el Gobierno ha dado una respuesta cla...  20080604   IX   \n340  Muchas gracias, señor presidente. El Gobierno ...  20080604   IX   \n346  Muchas gracias, señor presidente. Señoría, la ...  20080604   IX   \n356  Muchas gracias, señor presidente. Señoría, com...  20080604   IX   \n362  Muchas gracias, señor presidente. Con carácter...  20080604   IX   \n366  Muchas gracias, señor presidente. No es exacta...  20080604   IX   \n372  Gracias, señor presidente. Tuve ocasión de exp...  20080604   IX   \n\n                                                 Title  \\\n89   VICEPRESIDENTE SEGUNDO DEL GOBIERNO Y MINISTRO...   \n102                                    VICEPRESIDENTA    \n127   MINISTRO DE ASUNTOS EXTERIORES Y DE COOPERACIÓN    \n142                                    VICEPRESIDENTA    \n153   MINISTRO DE ASUNTOS EXTERIORES Y DE COOPERACIÓN    \n247                                    VICEPRESIDENTA    \n299                           PRESIDENTE DEL GOBIERNO    \n303                           PRESIDENTE DEL GOBIERNO    \n308                           PRESIDENTE DEL GOBIERNO    \n312                           PRESIDENTE DEL GOBIERNO    \n318                           PRESIDENTE DEL GOBIERNO    \n322                           PRESIDENTE DEL GOBIERNO    \n328  VICEPRESIDENTA PRIMERA DEL GOBIERNO, MINISTRA ...   \n332  VICEPRESIDENTA PRIMERA DEL GOBIERNO, MINISTRA ...   \n340             MINISTRA DE ADMINISTRACIONES PÚBLICAS    \n346             MINISTRA DE ADMINISTRACIONES PÚBLICAS    \n356             MINISTRA DE ADMINISTRACIONES PÚBLICAS    \n362                             MINISTRO DEL INTERIOR    \n366                             MINISTRO DEL INTERIOR    \n372                             MINISTRO DEL INTERIOR    \n\n                                                 infos  \n89                                          (Aplausos)  \n102                              (Convergència i Unió)  \n127                                         (Aplausos)  \n142                                          (EAJ-PNV)  \n153                                         (Aplausos)  \n247  (Convergència i Unió),(El señor presidente ocu...  \n299                              (Aplausos),(Aplausos)  \n303                                         (Aplausos)  \n308                                         (Aplausos)  \n312                                         (Aplausos)  \n318  (Varios señores diputados: ¡Oh! ¡Oh!),(Rumores...  \n322                               (Rumores),(Aplausos)  \n328                                         (Aplausos)  \n332                              (Aplausos),(Aplausos)  \n340                                         (Aplausos)  \n346                                         (Aplausos)  \n356                                         (Aplausos)  \n362                                         (Aplausos)  \n366                                         (Aplausos)  \n372                                         (Aplausos)  ",
            "text/html": "<div>\n<style scoped>\n    .dataframe tbody tr th:only-of-type {\n        vertical-align: middle;\n    }\n\n    .dataframe tbody tr th {\n        vertical-align: top;\n    }\n\n    .dataframe thead th {\n        text-align: right;\n    }\n</style>\n<table border=\"1\" class=\"dataframe\">\n  <thead>\n    <tr style=\"text-align: right;\">\n      <th></th>\n      <th>Name</th>\n      <th>Text</th>\n      <th>Date</th>\n      <th>Term</th>\n      <th>Title</th>\n      <th>infos</th>\n    </tr>\n  </thead>\n  <tbody>\n    <tr>\n      <th>89</th>\n      <td>SOLBES MIRA</td>\n      <td>Señor presidente, señorías, comparezco de nuev...</td>\n      <td>20080626</td>\n      <td>IX</td>\n      <td>VICEPRESIDENTE SEGUNDO DEL GOBIERNO Y MINISTRO...</td>\n      <td>(Aplausos)</td>\n    </tr>\n    <tr>\n      <th>102</th>\n      <td>CUNILLERA I MESTRES</td>\n      <td>Muchas gracias, señor Azpiazu. Tiene la palabr...</td>\n      <td>20080626</td>\n      <td>IX</td>\n      <td>VICEPRESIDENTA</td>\n      <td>(Convergència i Unió)</td>\n    </tr>\n    <tr>\n      <th>127</th>\n      <td>MORATINOS CUYAUBÉ</td>\n      <td>Gracias, señor presidente. Señorías, quiero sa...</td>\n      <td>20080626</td>\n      <td>IX</td>\n      <td>MINISTRO DE ASUNTOS EXTERIORES Y DE COOPERACIÓN</td>\n      <td>(Aplausos)</td>\n    </tr>\n    <tr>\n      <th>142</th>\n      <td>CUNILLERA I MESTRES</td>\n      <td>Gracias a usted. Por el Grupo Parlamentario Va...</td>\n      <td>20080626</td>\n      <td>IX</td>\n      <td>VICEPRESIDENTA</td>\n      <td>(EAJ-PNV)</td>\n    </tr>\n    <tr>\n      <th>153</th>\n      <td>MORATINOS CUYAUBÉ</td>\n      <td>Gracias, señor presidente. Señorías, interveng...</td>\n      <td>20080626</td>\n      <td>IX</td>\n      <td>MINISTRO DE ASUNTOS EXTERIORES Y DE COOPERACIÓN</td>\n      <td>(Aplausos)</td>\n    </tr>\n    <tr>\n      <th>247</th>\n      <td>CUNILLERA I MESTRES</td>\n      <td>Gracias, señor Beloki. Tiene la palabra, por e...</td>\n      <td>20080610</td>\n      <td>IX</td>\n      <td>VICEPRESIDENTA</td>\n      <td>(Convergència i Unió),(El señor presidente ocu...</td>\n    </tr>\n    <tr>\n      <th>299</th>\n      <td>RODRÍGUEZ ZAPATERO</td>\n      <td>Muchas gracias, señor presidente. Señor Erkore...</td>\n      <td>20080604</td>\n      <td>IX</td>\n      <td>PRESIDENTE DEL GOBIERNO</td>\n      <td>(Aplausos),(Aplausos)</td>\n    </tr>\n    <tr>\n      <th>303</th>\n      <td>RODRÍGUEZ ZAPATERO</td>\n      <td>Muchas gracias, señor presidente. Señor Erkore...</td>\n      <td>20080604</td>\n      <td>IX</td>\n      <td>PRESIDENTE DEL GOBIERNO</td>\n      <td>(Aplausos)</td>\n    </tr>\n    <tr>\n      <th>308</th>\n      <td>RODRÍGUEZ ZAPATERO</td>\n      <td>Gracias, señor presidente. Señor Duran, compar...</td>\n      <td>20080604</td>\n      <td>IX</td>\n      <td>PRESIDENTE DEL GOBIERNO</td>\n      <td>(Aplausos)</td>\n    </tr>\n    <tr>\n      <th>312</th>\n      <td>RODRÍGUEZ ZAPATERO</td>\n      <td>Muchas gracias, señor presidente. Señor Duran,...</td>\n      <td>20080604</td>\n      <td>IX</td>\n      <td>PRESIDENTE DEL GOBIERNO</td>\n      <td>(Aplausos)</td>\n    </tr>\n    <tr>\n      <th>318</th>\n      <td>RODRÍGUEZ ZAPATERO</td>\n      <td>Muchas gracias, señor presidente. Señor Rajoy,...</td>\n      <td>20080604</td>\n      <td>IX</td>\n      <td>PRESIDENTE DEL GOBIERNO</td>\n      <td>(Varios señores diputados: ¡Oh! ¡Oh!),(Rumores...</td>\n    </tr>\n    <tr>\n      <th>322</th>\n      <td>RODRÍGUEZ ZAPATERO</td>\n      <td>Muchas gracias, señor presidente. Señor Rajoy,...</td>\n      <td>20080604</td>\n      <td>IX</td>\n      <td>PRESIDENTE DEL GOBIERNO</td>\n      <td>(Rumores),(Aplausos)</td>\n    </tr>\n    <tr>\n      <th>328</th>\n      <td>FERNÁNDEZ DE LA VEGA SANZ</td>\n      <td>Señoría, la posición del Gobierno en relación ...</td>\n      <td>20080604</td>\n      <td>IX</td>\n      <td>VICEPRESIDENTA PRIMERA DEL GOBIERNO, MINISTRA ...</td>\n      <td>(Aplausos)</td>\n    </tr>\n    <tr>\n      <th>332</th>\n      <td>FERNÁNDEZ DE LA VEGA SANZ</td>\n      <td>Señoría, el Gobierno ha dado una respuesta cla...</td>\n      <td>20080604</td>\n      <td>IX</td>\n      <td>VICEPRESIDENTA PRIMERA DEL GOBIERNO, MINISTRA ...</td>\n      <td>(Aplausos),(Aplausos)</td>\n    </tr>\n    <tr>\n      <th>340</th>\n      <td>SALGADO MÉNDEZ</td>\n      <td>Muchas gracias, señor presidente. El Gobierno ...</td>\n      <td>20080604</td>\n      <td>IX</td>\n      <td>MINISTRA DE ADMINISTRACIONES PÚBLICAS</td>\n      <td>(Aplausos)</td>\n    </tr>\n    <tr>\n      <th>346</th>\n      <td>SALGADO MÉNDEZ</td>\n      <td>Muchas gracias, señor presidente. Señoría, la ...</td>\n      <td>20080604</td>\n      <td>IX</td>\n      <td>MINISTRA DE ADMINISTRACIONES PÚBLICAS</td>\n      <td>(Aplausos)</td>\n    </tr>\n    <tr>\n      <th>356</th>\n      <td>SALGADO MÉNDEZ</td>\n      <td>Muchas gracias, señor presidente. Señoría, com...</td>\n      <td>20080604</td>\n      <td>IX</td>\n      <td>MINISTRA DE ADMINISTRACIONES PÚBLICAS</td>\n      <td>(Aplausos)</td>\n    </tr>\n    <tr>\n      <th>362</th>\n      <td>PÉREZ RUBALCABA</td>\n      <td>Muchas gracias, señor presidente. Con carácter...</td>\n      <td>20080604</td>\n      <td>IX</td>\n      <td>MINISTRO DEL INTERIOR</td>\n      <td>(Aplausos)</td>\n    </tr>\n    <tr>\n      <th>366</th>\n      <td>PÉREZ RUBALCABA</td>\n      <td>Muchas gracias, señor presidente. No es exacta...</td>\n      <td>20080604</td>\n      <td>IX</td>\n      <td>MINISTRO DEL INTERIOR</td>\n      <td>(Aplausos)</td>\n    </tr>\n    <tr>\n      <th>372</th>\n      <td>PÉREZ RUBALCABA</td>\n      <td>Gracias, señor presidente. Tuve ocasión de exp...</td>\n      <td>20080604</td>\n      <td>IX</td>\n      <td>MINISTRO DEL INTERIOR</td>\n      <td>(Aplausos)</td>\n    </tr>\n  </tbody>\n</table>\n</div>"
          },
          "metadata": {}
        }
      ],
      "execution_count": 8,
      "metadata": {
        "jupyter": {
          "source_hidden": false,
          "outputs_hidden": false
        },
        "nteract": {
          "transient": {
            "deleting": false
          }
        },
        "gather": {
          "logged": 1670541253249
        }
      }
    },
    {
      "cell_type": "code",
      "source": [
        "full.to_parquet('../debates.parquet', index=False)"
      ],
      "outputs": [],
      "execution_count": 9,
      "metadata": {
        "jupyter": {
          "source_hidden": false,
          "outputs_hidden": false
        },
        "nteract": {
          "transient": {
            "deleting": false
          }
        },
        "gather": {
          "logged": 1670541260144
        }
      }
    },
    {
      "cell_type": "code",
      "source": [
        "full[full['Name'].str.contains('EZ ZAPATERO')].to_csv('../zapatero.csv', index=False)\r\n",
        "full[full['Name'].str.contains('RAJOY')].to_csv('../rajoy.csv',index=False)"
      ],
      "outputs": [],
      "execution_count": 10,
      "metadata": {
        "jupyter": {
          "source_hidden": false,
          "outputs_hidden": false
        },
        "nteract": {
          "transient": {
            "deleting": false
          }
        },
        "gather": {
          "logged": 1670541260971
        }
      }
    },
    {
      "cell_type": "code",
      "source": [
        "full.to_csv('../debates.csv', index=False)"
      ],
      "outputs": [],
      "execution_count": 11,
      "metadata": {
        "jupyter": {
          "source_hidden": false,
          "outputs_hidden": false
        },
        "nteract": {
          "transient": {
            "deleting": false
          }
        },
        "gather": {
          "logged": 1670541275687
        }
      }
    },
    {
      "cell_type": "code",
      "source": [
        "full[full['Name'].str.contains('RAJOY')].iloc[1][\"Text\"]"
      ],
      "outputs": [
        {
          "output_type": "execute_result",
          "execution_count": 12,
          "data": {
            "text/plain": "'Señor presidente, hace siete días le pregunté aquí sobre la situación de la economía española y las medidas que usted iba a tomar. No me respondió gran cosa, salvo que estábamos preparados mejor que nadie. Yo le voy a dar algunos datos que hemos conocido esta semana, esto es, desde el miércoles pasado: el IPC está en el 4,7 es decir 0,5 puntos más que en abril; el diferencial de inflación con la Unión Europea en el 1,1 es decir 0,2 puntos más que en abril; el dato de paro registrado del mes de mayo es el peor desde 1979; el déficit exterior aumentó en el primer trimestre el 19,1 y hoy es el 11,3 del PIB. Hoy dice la OCDE en sus previsiones que España crecerá el 1,6 este año, menos de la media de la Unión Europea, y hay muchos más datos en estos siete días: sobre ventas minoristas, ventas de automóviles, constituciones de hipotecas, el sector turístico. No voy a entrar en ellos porque no hay tiempo, pero le diré una cosa: la confianza de las empresas y de las familias españolas está en mínimos, y usted parece no darse por enterado, y por eso yo le tengo que preguntar qué hace, qué va a hacer, qué piensa de todo esto, porque parece que a usted no le importa, pero a los españoles sí, porque estamos hablando de su vida y eso es muy importante.'"
          },
          "metadata": {}
        }
      ],
      "execution_count": 12,
      "metadata": {
        "jupyter": {
          "source_hidden": false,
          "outputs_hidden": false
        },
        "nteract": {
          "transient": {
            "deleting": false
          }
        },
        "gather": {
          "logged": 1670541275830
        }
      }
    },
    {
      "cell_type": "code",
      "source": [],
      "outputs": [],
      "execution_count": null,
      "metadata": {
        "jupyter": {
          "source_hidden": false,
          "outputs_hidden": false
        },
        "nteract": {
          "transient": {
            "deleting": false
          }
        }
      }
    }
  ],
  "metadata": {
    "kernelspec": {
      "name": "python38-azureml",
      "language": "python",
      "display_name": "Python 3.8 - AzureML"
    },
    "language_info": {
      "name": "python",
      "version": "3.8.5",
      "mimetype": "text/x-python",
      "codemirror_mode": {
        "name": "ipython",
        "version": 3
      },
      "pygments_lexer": "ipython3",
      "nbconvert_exporter": "python",
      "file_extension": ".py"
    },
    "kernel_info": {
      "name": "python38-azureml"
    },
    "nteract": {
      "version": "nteract-front-end@1.0.0"
    },
    "microsoft": {
      "host": {
        "AzureML": {
          "notebookHasBeenCompleted": true
        }
      }
    }
  },
  "nbformat": 4,
  "nbformat_minor": 2
}