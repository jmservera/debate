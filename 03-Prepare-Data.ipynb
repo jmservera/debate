{
  "cells": [
    {
      "cell_type": "markdown",
      "source": [
        "# Step 03: Data preparation\r\n",
        "\r\n",
        "In this step we enrich the dataset with some information we can find in the text, like:\r\n",
        "\r\n",
        "* When a person has a special position in the government or in the congress (President of the congress, President of the nation, Minister,...), they usually have the position name written in ALL CAPS and then their name follows it between parens. Like this: `PRESIDENTE DEL GOBIERNO (Mariano Rajoy)`\r\n",
        "* There's also a process to enrich the dataset with additional information based on paranthesized text.\r\n"
      ],
      "metadata": {
        "nteract": {
          "transient": {
            "deleting": false
          }
        }
      }
    },
    {
      "cell_type": "code",
      "source": [
        "import pandas as pd\r\n",
        "import re\r\n",
        "\r\n",
        "files = !ls data/debates/*.csv\r\n",
        "\r\n",
        "full = pd.concat([pd.read_csv(f) for f in files],ignore_index=True)"
      ],
      "outputs": [],
      "execution_count": 245,
      "metadata": {
        "gather": {
          "logged": 1670800768483
        }
      }
    },
    {
      "cell_type": "code",
      "source": [
        "# constants\r\n",
        "title_pat=r'(.*)\\((.*)\\)'"
      ],
      "outputs": [],
      "execution_count": 246,
      "metadata": {
        "jupyter": {
          "source_hidden": false,
          "outputs_hidden": false
        },
        "nteract": {
          "transient": {
            "deleting": false
          }
        },
        "gather": {
          "logged": 1670800768640
        }
      }
    },
    {
      "cell_type": "code",
      "source": [
        "# find patterns like PRESIDENTE DEL GOBIERNO (Mariano Rajoy)\r\n",
        "\r\n",
        "# extract title, ex: \"PRESIDENTE DEL GOBIERNO\"\r\n",
        "full[\"Title\"]=full[\"Name\"].apply(lambda x: re.match(title_pat, x).groups()[0] if re.match(title_pat, x)!=None else None)\r\n",
        "# extract name, ex: \"Mariano Rajoy\"\r\n",
        "full[\"Name\"]=full[\"Name\"].apply(lambda x: re.match(title_pat, x).groups()[1].upper() if re.match(title_pat, x)!=None else x)\r\n",
        "full[full.Title.notnull()].head()"
      ],
      "outputs": [
        {
          "output_type": "execute_result",
          "execution_count": 247,
          "data": {
            "text/plain": "                    Name                                               Text  \\\n37         BELOKI GUERRA  Propuesta de transacción. Extender las relacio...   \n89           SOLBES MIRA  Señor presidente, señorías, comparezco de nuev...   \n102  CUNILLERA I MESTRES  Muchas gracias, señor Azpiazu. Tiene la palabr...   \n104  CUNILLERA I MESTRES                  Señor Sánchez i Llibre, por favor   \n106  CUNILLERA I MESTRES  Gracias a usted, señor Sánchez. Tiene ahora la...   \n\n         Date Term                                              Title  \n37   20080527   IX                                        SECRETARIO   \n89   20080626   IX  VICEPRESIDENTE SEGUNDO DEL GOBIERNO Y MINISTRO...  \n102  20080626   IX                                    VICEPRESIDENTA   \n104  20080626   IX                                    VICEPRESIDENTA   \n106  20080626   IX                                    VICEPRESIDENTA   ",
            "text/html": "<div>\n<style scoped>\n    .dataframe tbody tr th:only-of-type {\n        vertical-align: middle;\n    }\n\n    .dataframe tbody tr th {\n        vertical-align: top;\n    }\n\n    .dataframe thead th {\n        text-align: right;\n    }\n</style>\n<table border=\"1\" class=\"dataframe\">\n  <thead>\n    <tr style=\"text-align: right;\">\n      <th></th>\n      <th>Name</th>\n      <th>Text</th>\n      <th>Date</th>\n      <th>Term</th>\n      <th>Title</th>\n    </tr>\n  </thead>\n  <tbody>\n    <tr>\n      <th>37</th>\n      <td>BELOKI GUERRA</td>\n      <td>Propuesta de transacción. Extender las relacio...</td>\n      <td>20080527</td>\n      <td>IX</td>\n      <td>SECRETARIO</td>\n    </tr>\n    <tr>\n      <th>89</th>\n      <td>SOLBES MIRA</td>\n      <td>Señor presidente, señorías, comparezco de nuev...</td>\n      <td>20080626</td>\n      <td>IX</td>\n      <td>VICEPRESIDENTE SEGUNDO DEL GOBIERNO Y MINISTRO...</td>\n    </tr>\n    <tr>\n      <th>102</th>\n      <td>CUNILLERA I MESTRES</td>\n      <td>Muchas gracias, señor Azpiazu. Tiene la palabr...</td>\n      <td>20080626</td>\n      <td>IX</td>\n      <td>VICEPRESIDENTA</td>\n    </tr>\n    <tr>\n      <th>104</th>\n      <td>CUNILLERA I MESTRES</td>\n      <td>Señor Sánchez i Llibre, por favor</td>\n      <td>20080626</td>\n      <td>IX</td>\n      <td>VICEPRESIDENTA</td>\n    </tr>\n    <tr>\n      <th>106</th>\n      <td>CUNILLERA I MESTRES</td>\n      <td>Gracias a usted, señor Sánchez. Tiene ahora la...</td>\n      <td>20080626</td>\n      <td>IX</td>\n      <td>VICEPRESIDENTA</td>\n    </tr>\n  </tbody>\n</table>\n</div>"
          },
          "metadata": {}
        }
      ],
      "execution_count": 247,
      "metadata": {
        "jupyter": {
          "source_hidden": false,
          "outputs_hidden": false
        },
        "nteract": {
          "transient": {
            "deleting": false
          }
        },
        "gather": {
          "logged": 1670800769572
        }
      }
    },
    {
      "cell_type": "code",
      "source": [
        "import datetime\r\n",
        "# convert to proper date\r\n",
        "full[\"Date\"]=full[\"Date\"].apply(lambda f: str(f))\r\n",
        "full.Date=full.Date.apply(lambda d: datetime.date(int(d[0:4]),int(d[4:6]),int(d[6:8])))\r\n"
      ],
      "outputs": [],
      "execution_count": 248,
      "metadata": {
        "jupyter": {
          "source_hidden": false,
          "outputs_hidden": false
        },
        "nteract": {
          "transient": {
            "deleting": false
          }
        },
        "gather": {
          "logged": 1670800770075
        }
      }
    },
    {
      "cell_type": "code",
      "source": [
        "# find special one \"CANDIDATO\" because it is shifted and we have to unshift it\r\n",
        "full[\"temp\"]=full[full.Name.str.contains(\"CANDIDATO\")].Name\r\n",
        "full.loc[full[\"temp\"].str.contains(\"CANDIDATO\",na=False),\"Name\"]=full[full.Name.str.contains(\"CANDIDATO\")].Title\r\n",
        "full.loc[full[\"temp\"].str.contains(\"CANDIDATO\",na=False),\"Title\"]=full[\"temp\"]\r\n",
        "del full[\"temp\"]\r\n",
        "full.head(20)"
      ],
      "outputs": [
        {
          "output_type": "execute_result",
          "execution_count": 249,
          "data": {
            "text/plain": "                  Name                                               Text  \\\n0           PRESIDENTE  Señorías, se inicia la sesión. Tenemos como as...   \n1         SECO REVILLA                            Sí, prometo. (Aplausos.   \n2           PRESIDENTE  Don Óscar Seco Revilla ha adquirido la condici...   \n3           PRESIDENTE  Pasamos a examinar el punto I del orden del dí...   \n4     LLAMAZARES TRIGO  Gracias, señor presidente. Señorías, con volun...   \n5           PRESIDENTE  Muchas gracias, señor Llamazares. Se ha presen...   \n6        ESTEBAN BRAVO  Gracias, señor presidente. El Grupo Vasco enti...   \n7           PRESIDENTE  Muchas gracias, señor Esteban. Para fijar posi...   \n8     JORQUERA CASELAS  Gracias, señor presidente. Muy brevemente. En ...   \n9           PRESIDENTE  Muchas gracias, señor Jorquera. Para fijar la ...   \n10       XUCLÀ I COSTA  Muchas gracias, señor presidente. Señor Llamaz...   \n11          PRESIDENTE  Muchas gracias, señor Xuclà. Para defender la ...   \n12  NASARRE GOICOECHEA  Me pregunto, señor presidente, qué podrán pens...   \n13          PRESIDENTE  Muchas gracias, señor Nasarre. Para defender l...   \n14     JÁUREGUI ATONDO  Señorías, señor presidente, mi argumentación v...   \n15          PRESIDENTE  Muchas gracias, señor Jáuregui. Las votaciones...   \n16          PRESIDENTE  Pasamos a la proposición no de ley del Grupo P...   \n17    JORQUERA CASELAS  Gracias, señor presidente. Señorías, en primer...   \n18          PRESIDENTE  Muchas gracias, señor Jorquera. Se han present...   \n19        TARDÀ I COMA  Gracias, señor presidente. En primer lugar, de...   \n\n          Date Term Title  \n0   2008-05-27   IX  None  \n1   2008-05-27   IX  None  \n2   2008-05-27   IX  None  \n3   2008-05-27   IX  None  \n4   2008-05-27   IX  None  \n5   2008-05-27   IX  None  \n6   2008-05-27   IX  None  \n7   2008-05-27   IX  None  \n8   2008-05-27   IX  None  \n9   2008-05-27   IX  None  \n10  2008-05-27   IX  None  \n11  2008-05-27   IX  None  \n12  2008-05-27   IX  None  \n13  2008-05-27   IX  None  \n14  2008-05-27   IX  None  \n15  2008-05-27   IX  None  \n16  2008-05-27   IX  None  \n17  2008-05-27   IX  None  \n18  2008-05-27   IX  None  \n19  2008-05-27   IX  None  ",
            "text/html": "<div>\n<style scoped>\n    .dataframe tbody tr th:only-of-type {\n        vertical-align: middle;\n    }\n\n    .dataframe tbody tr th {\n        vertical-align: top;\n    }\n\n    .dataframe thead th {\n        text-align: right;\n    }\n</style>\n<table border=\"1\" class=\"dataframe\">\n  <thead>\n    <tr style=\"text-align: right;\">\n      <th></th>\n      <th>Name</th>\n      <th>Text</th>\n      <th>Date</th>\n      <th>Term</th>\n      <th>Title</th>\n    </tr>\n  </thead>\n  <tbody>\n    <tr>\n      <th>0</th>\n      <td>PRESIDENTE</td>\n      <td>Señorías, se inicia la sesión. Tenemos como as...</td>\n      <td>2008-05-27</td>\n      <td>IX</td>\n      <td>None</td>\n    </tr>\n    <tr>\n      <th>1</th>\n      <td>SECO REVILLA</td>\n      <td>Sí, prometo. (Aplausos.</td>\n      <td>2008-05-27</td>\n      <td>IX</td>\n      <td>None</td>\n    </tr>\n    <tr>\n      <th>2</th>\n      <td>PRESIDENTE</td>\n      <td>Don Óscar Seco Revilla ha adquirido la condici...</td>\n      <td>2008-05-27</td>\n      <td>IX</td>\n      <td>None</td>\n    </tr>\n    <tr>\n      <th>3</th>\n      <td>PRESIDENTE</td>\n      <td>Pasamos a examinar el punto I del orden del dí...</td>\n      <td>2008-05-27</td>\n      <td>IX</td>\n      <td>None</td>\n    </tr>\n    <tr>\n      <th>4</th>\n      <td>LLAMAZARES TRIGO</td>\n      <td>Gracias, señor presidente. Señorías, con volun...</td>\n      <td>2008-05-27</td>\n      <td>IX</td>\n      <td>None</td>\n    </tr>\n    <tr>\n      <th>5</th>\n      <td>PRESIDENTE</td>\n      <td>Muchas gracias, señor Llamazares. Se ha presen...</td>\n      <td>2008-05-27</td>\n      <td>IX</td>\n      <td>None</td>\n    </tr>\n    <tr>\n      <th>6</th>\n      <td>ESTEBAN BRAVO</td>\n      <td>Gracias, señor presidente. El Grupo Vasco enti...</td>\n      <td>2008-05-27</td>\n      <td>IX</td>\n      <td>None</td>\n    </tr>\n    <tr>\n      <th>7</th>\n      <td>PRESIDENTE</td>\n      <td>Muchas gracias, señor Esteban. Para fijar posi...</td>\n      <td>2008-05-27</td>\n      <td>IX</td>\n      <td>None</td>\n    </tr>\n    <tr>\n      <th>8</th>\n      <td>JORQUERA CASELAS</td>\n      <td>Gracias, señor presidente. Muy brevemente. En ...</td>\n      <td>2008-05-27</td>\n      <td>IX</td>\n      <td>None</td>\n    </tr>\n    <tr>\n      <th>9</th>\n      <td>PRESIDENTE</td>\n      <td>Muchas gracias, señor Jorquera. Para fijar la ...</td>\n      <td>2008-05-27</td>\n      <td>IX</td>\n      <td>None</td>\n    </tr>\n    <tr>\n      <th>10</th>\n      <td>XUCLÀ I COSTA</td>\n      <td>Muchas gracias, señor presidente. Señor Llamaz...</td>\n      <td>2008-05-27</td>\n      <td>IX</td>\n      <td>None</td>\n    </tr>\n    <tr>\n      <th>11</th>\n      <td>PRESIDENTE</td>\n      <td>Muchas gracias, señor Xuclà. Para defender la ...</td>\n      <td>2008-05-27</td>\n      <td>IX</td>\n      <td>None</td>\n    </tr>\n    <tr>\n      <th>12</th>\n      <td>NASARRE GOICOECHEA</td>\n      <td>Me pregunto, señor presidente, qué podrán pens...</td>\n      <td>2008-05-27</td>\n      <td>IX</td>\n      <td>None</td>\n    </tr>\n    <tr>\n      <th>13</th>\n      <td>PRESIDENTE</td>\n      <td>Muchas gracias, señor Nasarre. Para defender l...</td>\n      <td>2008-05-27</td>\n      <td>IX</td>\n      <td>None</td>\n    </tr>\n    <tr>\n      <th>14</th>\n      <td>JÁUREGUI ATONDO</td>\n      <td>Señorías, señor presidente, mi argumentación v...</td>\n      <td>2008-05-27</td>\n      <td>IX</td>\n      <td>None</td>\n    </tr>\n    <tr>\n      <th>15</th>\n      <td>PRESIDENTE</td>\n      <td>Muchas gracias, señor Jáuregui. Las votaciones...</td>\n      <td>2008-05-27</td>\n      <td>IX</td>\n      <td>None</td>\n    </tr>\n    <tr>\n      <th>16</th>\n      <td>PRESIDENTE</td>\n      <td>Pasamos a la proposición no de ley del Grupo P...</td>\n      <td>2008-05-27</td>\n      <td>IX</td>\n      <td>None</td>\n    </tr>\n    <tr>\n      <th>17</th>\n      <td>JORQUERA CASELAS</td>\n      <td>Gracias, señor presidente. Señorías, en primer...</td>\n      <td>2008-05-27</td>\n      <td>IX</td>\n      <td>None</td>\n    </tr>\n    <tr>\n      <th>18</th>\n      <td>PRESIDENTE</td>\n      <td>Muchas gracias, señor Jorquera. Se han present...</td>\n      <td>2008-05-27</td>\n      <td>IX</td>\n      <td>None</td>\n    </tr>\n    <tr>\n      <th>19</th>\n      <td>TARDÀ I COMA</td>\n      <td>Gracias, señor presidente. En primer lugar, de...</td>\n      <td>2008-05-27</td>\n      <td>IX</td>\n      <td>None</td>\n    </tr>\n  </tbody>\n</table>\n</div>"
          },
          "metadata": {}
        }
      ],
      "execution_count": 249,
      "metadata": {
        "jupyter": {
          "source_hidden": false,
          "outputs_hidden": false
        },
        "nteract": {
          "transient": {
            "deleting": false
          }
        },
        "gather": {
          "logged": 1670800770680
        }
      }
    },
    {
      "cell_type": "code",
      "source": [
        "# find paranthesized values and sort them by occurence\r\n",
        "parenthesized_pat=r'(\\(.+?\\))'\r\n",
        "# can also use negative matching instead of non-greedy parenthesized_pat=r'.*(\\([^\\)]+\\))'\r\n",
        "l=full[\"Text\"].apply(lambda t: \",\".join(re.findall(parenthesized_pat,str(t))))\r\n",
        "pd.DataFrame({'test':l}).groupby(['test']).size().reset_index().sort_values(0,ascending=False).head(20)"
      ],
      "outputs": [
        {
          "output_type": "execute_result",
          "execution_count": 250,
          "data": {
            "text/plain": "                                                    test       0\n0                                                         229879\n17119                                           (Pausa.)   20707\n633                                           (Aplausos)   14816\n16854                                            (Pausa)    8988\n6390                               (Convergència i Unió)    5055\n17469  (Pausa.-Una trabajadora del servicio de limpie...    4559\n20516                                         (Rumores.)    3129\n19729                                          (Rumores)    2426\n7110                                           (EAJ-PNV)    2181\n681                                (Aplausos),(Aplausos)    2020\n3463                                         (Aplausos.)    1705\n17244                                  (Pausa.),(Pausa.)     936\n16631                                              (PNV)     916\n6716                      (Convergència i Unió),(Pausa.)     886\n708                     (Aplausos),(Aplausos),(Aplausos)     708\n5334                                     (Asentimiento.)     659\n9752         (El señor presidente ocupa la Presidencia.)     547\n19011                                           (Risas.)     530\n11762  (La señora vicepresidenta, Cunillera i Mestres...     420\n17483  (Pausa.-Una trabajadora del servicio de limpie...     419",
            "text/html": "<div>\n<style scoped>\n    .dataframe tbody tr th:only-of-type {\n        vertical-align: middle;\n    }\n\n    .dataframe tbody tr th {\n        vertical-align: top;\n    }\n\n    .dataframe thead th {\n        text-align: right;\n    }\n</style>\n<table border=\"1\" class=\"dataframe\">\n  <thead>\n    <tr style=\"text-align: right;\">\n      <th></th>\n      <th>test</th>\n      <th>0</th>\n    </tr>\n  </thead>\n  <tbody>\n    <tr>\n      <th>0</th>\n      <td></td>\n      <td>229879</td>\n    </tr>\n    <tr>\n      <th>17119</th>\n      <td>(Pausa.)</td>\n      <td>20707</td>\n    </tr>\n    <tr>\n      <th>633</th>\n      <td>(Aplausos)</td>\n      <td>14816</td>\n    </tr>\n    <tr>\n      <th>16854</th>\n      <td>(Pausa)</td>\n      <td>8988</td>\n    </tr>\n    <tr>\n      <th>6390</th>\n      <td>(Convergència i Unió)</td>\n      <td>5055</td>\n    </tr>\n    <tr>\n      <th>17469</th>\n      <td>(Pausa.-Una trabajadora del servicio de limpie...</td>\n      <td>4559</td>\n    </tr>\n    <tr>\n      <th>20516</th>\n      <td>(Rumores.)</td>\n      <td>3129</td>\n    </tr>\n    <tr>\n      <th>19729</th>\n      <td>(Rumores)</td>\n      <td>2426</td>\n    </tr>\n    <tr>\n      <th>7110</th>\n      <td>(EAJ-PNV)</td>\n      <td>2181</td>\n    </tr>\n    <tr>\n      <th>681</th>\n      <td>(Aplausos),(Aplausos)</td>\n      <td>2020</td>\n    </tr>\n    <tr>\n      <th>3463</th>\n      <td>(Aplausos.)</td>\n      <td>1705</td>\n    </tr>\n    <tr>\n      <th>17244</th>\n      <td>(Pausa.),(Pausa.)</td>\n      <td>936</td>\n    </tr>\n    <tr>\n      <th>16631</th>\n      <td>(PNV)</td>\n      <td>916</td>\n    </tr>\n    <tr>\n      <th>6716</th>\n      <td>(Convergència i Unió),(Pausa.)</td>\n      <td>886</td>\n    </tr>\n    <tr>\n      <th>708</th>\n      <td>(Aplausos),(Aplausos),(Aplausos)</td>\n      <td>708</td>\n    </tr>\n    <tr>\n      <th>5334</th>\n      <td>(Asentimiento.)</td>\n      <td>659</td>\n    </tr>\n    <tr>\n      <th>9752</th>\n      <td>(El señor presidente ocupa la Presidencia.)</td>\n      <td>547</td>\n    </tr>\n    <tr>\n      <th>19011</th>\n      <td>(Risas.)</td>\n      <td>530</td>\n    </tr>\n    <tr>\n      <th>11762</th>\n      <td>(La señora vicepresidenta, Cunillera i Mestres...</td>\n      <td>420</td>\n    </tr>\n    <tr>\n      <th>17483</th>\n      <td>(Pausa.-Una trabajadora del servicio de limpie...</td>\n      <td>419</td>\n    </tr>\n  </tbody>\n</table>\n</div>"
          },
          "metadata": {}
        }
      ],
      "execution_count": 250,
      "metadata": {
        "jupyter": {
          "source_hidden": false,
          "outputs_hidden": false
        },
        "nteract": {
          "transient": {
            "deleting": false
          }
        },
        "gather": {
          "logged": 1670800771539
        }
      }
    },
    {
      "cell_type": "code",
      "source": [
        "# This is a test to check the paranthesized test it founds\r\n",
        "parenthesized_pat=r'\\(.+?\\)'\r\n",
        "unclosed_parenthesized_pat=r'(\\(.+?\\.)'\r\n",
        "m=full[\"Text\"].str.replace(parenthesized_pat,'',regex=True).str.strip()\r\n",
        "l=m.apply(lambda t: \",\".join([par+\")\" for par in re.findall(unclosed_parenthesized_pat,str(t))]))\r\n",
        "#pd.DataFrame({'test':l}).groupby(['test']).size().reset_index().sort_values(0,ascending=False).head(20)\r\n",
        "tdf=pd.DataFrame({'m':l})\r\n",
        "tdf[\"m\"].apply(lambda m: m.replace(\".)\",\")\") ).iloc[6065]\r\n",
        "\r\n"
      ],
      "outputs": [
        {
          "output_type": "execute_result",
          "execution_count": 251,
          "data": {
            "text/plain": "'(ANTES DENOMINADO PROYECTO DE LEY ORGÁNICA DE MODIFICACIÓN DE LA LEY ORGÁNICA 6/1985, DE 1 DE JULIO, DEL PODER JUDICIAL Y COMPLEMENTARIA A LA LEY PARA LA EJECUCIÓN EN LA UNIÓN EUROPEA DE RESOLUCIONES QUE IMPONGAN SANCIONES PECUNIARIAS),(Número de expediente 121/000003)'"
          },
          "metadata": {}
        }
      ],
      "execution_count": 251,
      "metadata": {
        "jupyter": {
          "source_hidden": false,
          "outputs_hidden": false
        },
        "nteract": {
          "transient": {
            "deleting": false
          }
        },
        "gather": {
          "logged": 1670800774477
        }
      }
    },
    {
      "cell_type": "code",
      "source": [
        "# find paranthesized values and sort them by occurence\r\n",
        "parenthesized_pat=r'(\\(.+?\\))'\r\n",
        "unclosed_parenthesized_pat=r'(\\(.+?\\.)'\r\n",
        "\r\n",
        "t=[]\r\n",
        "# can also use negative matching instead of non-greedy parenthesized_pat=r'.*(\\([^\\)]+\\))'\r\n",
        "for item in full[\"Text\"]:\r\n",
        "    items=re.findall(parenthesized_pat,str(item))\r\n",
        "    if(len(items)>0):\r\n",
        "        t.append(items)\r\n",
        "\r\n",
        "for item in full[\"Text\"].str.replace(parenthesized_pat,'',regex=True).str.strip():\r\n",
        "    items=re.findall(unclosed_parenthesized_pat,str(item))\r\n",
        "    if(len(items)>0):\r\n",
        "        t.append(items)\r\n",
        "\r\n",
        "flattened_list = [value for sub_list in t for value in sub_list]\r\n"
      ],
      "outputs": [],
      "execution_count": 252,
      "metadata": {
        "jupyter": {
          "source_hidden": false,
          "outputs_hidden": false
        },
        "nteract": {
          "transient": {
            "deleting": false
          }
        },
        "gather": {
          "logged": 1670800776976
        }
      }
    },
    {
      "cell_type": "code",
      "source": [
        "parens=pd.DataFrame(flattened_list, columns=[\"Text\"])\r\n",
        "parens[\"Text\"]=parens[\"Text\"].str.replace(r\"\\.$\",\")\")\r\n",
        "parens[\"Text\"]=parens[\"Text\"].str.replace(r\"\\.\\)\",\")\")\r\n",
        "parens[\"Text\"]=parens[\"Text\"].str.lower()\r\n",
        "p=parens.groupby(\"Text\").size().reset_index().sort_values(0,ascending=False)\r\n",
        "p[:40]"
      ],
      "outputs": [
        {
          "output_type": "execute_result",
          "execution_count": 253,
          "data": {
            "text/plain": "                                                    Text      0\n1367                                          (aplausos)  78403\n21555                                            (pausa)  38264\n24399                                          (rumores)  25518\n3753                               (convergència i unió)  10246\n21661  (pausa.-una trabajadora del servicio de limpie...   5744\n4487                                           (eaj-pnv)   4008\n24028                                            (risas)   3480\n22783                                        (protestas)   2761\n8426          (el señor presidente ocupa la presidencia)   2017\n30794                                         (votación)   1853\n2682                                      (asentimiento)   1792\n21854                                              (pnv)   1735\n3666                             (continúan los rumores)   1324\n12956        (la señora presidenta ocupa la presidencia)   1017\n2099                                 (aplausos.-rumores)    930\n24712                                (rumores.-aplausos)    847\n24304                              (rumores y protestas)    843\n13444  (la señora vicepresidenta, cunillera i mestres...    591\n22613                             (prolongados aplausos)    557\n1107   (aplausos de las señoras y los señores diputad...    549\n24086                                  (risas.-aplausos)    456\n22862                              (protestas.-aplausos)    455\n13464  (la señora vicepresidenta, villalobos talero, ...    435\n30372    (varios señores diputados: ¡muy bien!-aplausos)    418\n9190   (el señor vicepresidente, beviá pastor, ocupa ...    388\n9213   (el señor vicepresidente, fernández-miranda y ...    377\n2019                               (aplausos.-protestas)    373\n24004                                 (risas y aplausos)    356\n28075                    (un señor diputado: ¡muy bien!)    348\n1289          (aplausos en los bancos del grupo popular)    324\n13452  (la señora vicepresidenta, mariscal de gante m...    305\n14702                             (muestra un documento)    303\n9240   (el señor vicepresidente, rodríguez gómez de c...    283\n27080  (un señor diputado pronuncia palabras que no s...    267\n15457                                            (nueva)    247\n10529                                  (fuertes rumores)    246\n4200                                      (denegaciones)    235\n3505                                      (continuación)    232\n28095           (un señor diputado: ¡muy bien!-aplausos)    228\n9195   (el señor vicepresidente, camps ortiz, ocupa l...    226",
            "text/html": "<div>\n<style scoped>\n    .dataframe tbody tr th:only-of-type {\n        vertical-align: middle;\n    }\n\n    .dataframe tbody tr th {\n        vertical-align: top;\n    }\n\n    .dataframe thead th {\n        text-align: right;\n    }\n</style>\n<table border=\"1\" class=\"dataframe\">\n  <thead>\n    <tr style=\"text-align: right;\">\n      <th></th>\n      <th>Text</th>\n      <th>0</th>\n    </tr>\n  </thead>\n  <tbody>\n    <tr>\n      <th>1367</th>\n      <td>(aplausos)</td>\n      <td>78403</td>\n    </tr>\n    <tr>\n      <th>21555</th>\n      <td>(pausa)</td>\n      <td>38264</td>\n    </tr>\n    <tr>\n      <th>24399</th>\n      <td>(rumores)</td>\n      <td>25518</td>\n    </tr>\n    <tr>\n      <th>3753</th>\n      <td>(convergència i unió)</td>\n      <td>10246</td>\n    </tr>\n    <tr>\n      <th>21661</th>\n      <td>(pausa.-una trabajadora del servicio de limpie...</td>\n      <td>5744</td>\n    </tr>\n    <tr>\n      <th>4487</th>\n      <td>(eaj-pnv)</td>\n      <td>4008</td>\n    </tr>\n    <tr>\n      <th>24028</th>\n      <td>(risas)</td>\n      <td>3480</td>\n    </tr>\n    <tr>\n      <th>22783</th>\n      <td>(protestas)</td>\n      <td>2761</td>\n    </tr>\n    <tr>\n      <th>8426</th>\n      <td>(el señor presidente ocupa la presidencia)</td>\n      <td>2017</td>\n    </tr>\n    <tr>\n      <th>30794</th>\n      <td>(votación)</td>\n      <td>1853</td>\n    </tr>\n    <tr>\n      <th>2682</th>\n      <td>(asentimiento)</td>\n      <td>1792</td>\n    </tr>\n    <tr>\n      <th>21854</th>\n      <td>(pnv)</td>\n      <td>1735</td>\n    </tr>\n    <tr>\n      <th>3666</th>\n      <td>(continúan los rumores)</td>\n      <td>1324</td>\n    </tr>\n    <tr>\n      <th>12956</th>\n      <td>(la señora presidenta ocupa la presidencia)</td>\n      <td>1017</td>\n    </tr>\n    <tr>\n      <th>2099</th>\n      <td>(aplausos.-rumores)</td>\n      <td>930</td>\n    </tr>\n    <tr>\n      <th>24712</th>\n      <td>(rumores.-aplausos)</td>\n      <td>847</td>\n    </tr>\n    <tr>\n      <th>24304</th>\n      <td>(rumores y protestas)</td>\n      <td>843</td>\n    </tr>\n    <tr>\n      <th>13444</th>\n      <td>(la señora vicepresidenta, cunillera i mestres...</td>\n      <td>591</td>\n    </tr>\n    <tr>\n      <th>22613</th>\n      <td>(prolongados aplausos)</td>\n      <td>557</td>\n    </tr>\n    <tr>\n      <th>1107</th>\n      <td>(aplausos de las señoras y los señores diputad...</td>\n      <td>549</td>\n    </tr>\n    <tr>\n      <th>24086</th>\n      <td>(risas.-aplausos)</td>\n      <td>456</td>\n    </tr>\n    <tr>\n      <th>22862</th>\n      <td>(protestas.-aplausos)</td>\n      <td>455</td>\n    </tr>\n    <tr>\n      <th>13464</th>\n      <td>(la señora vicepresidenta, villalobos talero, ...</td>\n      <td>435</td>\n    </tr>\n    <tr>\n      <th>30372</th>\n      <td>(varios señores diputados: ¡muy bien!-aplausos)</td>\n      <td>418</td>\n    </tr>\n    <tr>\n      <th>9190</th>\n      <td>(el señor vicepresidente, beviá pastor, ocupa ...</td>\n      <td>388</td>\n    </tr>\n    <tr>\n      <th>9213</th>\n      <td>(el señor vicepresidente, fernández-miranda y ...</td>\n      <td>377</td>\n    </tr>\n    <tr>\n      <th>2019</th>\n      <td>(aplausos.-protestas)</td>\n      <td>373</td>\n    </tr>\n    <tr>\n      <th>24004</th>\n      <td>(risas y aplausos)</td>\n      <td>356</td>\n    </tr>\n    <tr>\n      <th>28075</th>\n      <td>(un señor diputado: ¡muy bien!)</td>\n      <td>348</td>\n    </tr>\n    <tr>\n      <th>1289</th>\n      <td>(aplausos en los bancos del grupo popular)</td>\n      <td>324</td>\n    </tr>\n    <tr>\n      <th>13452</th>\n      <td>(la señora vicepresidenta, mariscal de gante m...</td>\n      <td>305</td>\n    </tr>\n    <tr>\n      <th>14702</th>\n      <td>(muestra un documento)</td>\n      <td>303</td>\n    </tr>\n    <tr>\n      <th>9240</th>\n      <td>(el señor vicepresidente, rodríguez gómez de c...</td>\n      <td>283</td>\n    </tr>\n    <tr>\n      <th>27080</th>\n      <td>(un señor diputado pronuncia palabras que no s...</td>\n      <td>267</td>\n    </tr>\n    <tr>\n      <th>15457</th>\n      <td>(nueva)</td>\n      <td>247</td>\n    </tr>\n    <tr>\n      <th>10529</th>\n      <td>(fuertes rumores)</td>\n      <td>246</td>\n    </tr>\n    <tr>\n      <th>4200</th>\n      <td>(denegaciones)</td>\n      <td>235</td>\n    </tr>\n    <tr>\n      <th>3505</th>\n      <td>(continuación)</td>\n      <td>232</td>\n    </tr>\n    <tr>\n      <th>28095</th>\n      <td>(un señor diputado: ¡muy bien!-aplausos)</td>\n      <td>228</td>\n    </tr>\n    <tr>\n      <th>9195</th>\n      <td>(el señor vicepresidente, camps ortiz, ocupa l...</td>\n      <td>226</td>\n    </tr>\n  </tbody>\n</table>\n</div>"
          },
          "metadata": {}
        }
      ],
      "execution_count": 253,
      "metadata": {
        "jupyter": {
          "source_hidden": false,
          "outputs_hidden": false
        },
        "nteract": {
          "transient": {
            "deleting": false
          }
        },
        "gather": {
          "logged": 1670800777712
        }
      }
    },
    {
      "cell_type": "code",
      "source": [
        "# There are two types of parantesized text, the closed and the unclosed.\r\n",
        "# We will extract  the closed ones first\r\n",
        "parenthesized_pat=r'\\(.+?\\)'\r\n",
        "# And after removing the closed we will seek for unclosed ones\r\n",
        "unclosed_parenthesized_pat=r'(\\(.+?\\.)'\r\n",
        "\r\n",
        "# Add the paranthesized text to the infos\r\n",
        "full[\"infos\"]=full[\"Text\"].apply(lambda t: \",\".join(re.findall(parenthesized_pat,str(t))).strip())\r\n",
        "# now remove parenthesized sentences\r\n",
        "full[\"Text\"]=full[\"Text\"].str.replace(parenthesized_pat,'',regex=True).str.strip()\r\n",
        "# Add the unclosed sentences\r\n",
        "full[\"infos2\"]=full[\"Text\"].apply( lambda t: \",\".join([par+\")\" for par in re.findall(unclosed_parenthesized_pat,str(t))]))\r\n",
        "# remove them\r\n",
        "full[\"Text\"]=full[\"Text\"].str.replace(unclosed_parenthesized_pat,'',regex=True).str.strip()\r\n",
        "# join the two results with comma separated ones into the infos column\r\n",
        "full[\"infos\"]=full[[\"infos\",\"infos2\"]].apply( lambda row: row[\"infos\"] if len(row[\"infos2\"])==0 else row[\"infos2\"] if len(row[\"infos\"])==0 else \",\".join([row[\"infos\"],row[\"infos2\"]]),axis=1)\r\n",
        "full[\"infos\"]=full[\"infos\"].str.replace(\".)\",\")\",regex=False)\r\n",
        "del full[\"infos2\"]\r\n",
        "full[\"TextLen\"]=full.Text.str.len()\r\n",
        "full.describe()"
      ],
      "outputs": [
        {
          "output_type": "execute_result",
          "execution_count": 254,
          "data": {
            "text/plain": "             TextLen\ncount  355529.000000\nmean     1470.331863\nstd      3122.847285\nmin         0.000000\n25%        76.000000\n50%       200.000000\n75%      1360.000000\nmax    101263.000000",
            "text/html": "<div>\n<style scoped>\n    .dataframe tbody tr th:only-of-type {\n        vertical-align: middle;\n    }\n\n    .dataframe tbody tr th {\n        vertical-align: top;\n    }\n\n    .dataframe thead th {\n        text-align: right;\n    }\n</style>\n<table border=\"1\" class=\"dataframe\">\n  <thead>\n    <tr style=\"text-align: right;\">\n      <th></th>\n      <th>TextLen</th>\n    </tr>\n  </thead>\n  <tbody>\n    <tr>\n      <th>count</th>\n      <td>355529.000000</td>\n    </tr>\n    <tr>\n      <th>mean</th>\n      <td>1470.331863</td>\n    </tr>\n    <tr>\n      <th>std</th>\n      <td>3122.847285</td>\n    </tr>\n    <tr>\n      <th>min</th>\n      <td>0.000000</td>\n    </tr>\n    <tr>\n      <th>25%</th>\n      <td>76.000000</td>\n    </tr>\n    <tr>\n      <th>50%</th>\n      <td>200.000000</td>\n    </tr>\n    <tr>\n      <th>75%</th>\n      <td>1360.000000</td>\n    </tr>\n    <tr>\n      <th>max</th>\n      <td>101263.000000</td>\n    </tr>\n  </tbody>\n</table>\n</div>"
          },
          "metadata": {}
        }
      ],
      "execution_count": 254,
      "metadata": {
        "jupyter": {
          "source_hidden": false,
          "outputs_hidden": false
        },
        "nteract": {
          "transient": {
            "deleting": false
          }
        },
        "gather": {
          "logged": 1670800786493
        }
      }
    },
    {
      "cell_type": "code",
      "source": [
        "# extract records\r\n",
        "full[\"Data\"]=full[\"infos\"].apply( lambda f: re.search(r\"mero de expediente (\\d+/\\d+)\",f).groups()[0] if re.search(r\"mero de expediente (\\d+/\\d+)\",f) else None)\r\n",
        "full[\"InterventionType\"]=full[\"infos\"].apply( lambda f: \"Record\" if re.search(r\"mero de expediente (\\d+/\\d+)\",f) else None)\r\n"
      ],
      "outputs": [],
      "execution_count": 255,
      "metadata": {
        "jupyter": {
          "source_hidden": false,
          "outputs_hidden": false
        },
        "nteract": {
          "transient": {
            "deleting": false
          }
        },
        "gather": {
          "logged": 1670800786875
        }
      }
    },
    {
      "cell_type": "code",
      "source": [
        "# extract congress sentiment from interjections\r\n",
        "\r\n",
        "full[\"Positive\"]=0\r\n",
        "full[\"Negative\"]=0\r\n",
        "full[\"Surprise\"]=0\r\n",
        "\r\n",
        "positives=[r\"aplauso\", r\"risa\", r\"muy bien\",r\"si+!\",r\"sí\",r\"asentimiento\"]\r\n",
        "negatives=[r\"rumore\",r\"no+!\",r\"protesta\",r\"denegaciones\",r\"qué barbaridad\",r\"mentira\"]\r\n",
        "surprise=[r\"hala\",r\"oh!\",r\"ah!\"]\r\n",
        "\r\n",
        "for pos in positives:\r\n",
        "    full[\"Positive\"]+= full[\"infos\"].apply( lambda f: len(re.findall(pos,f.lower())) if re.search(pos,f.lower()) else 0)\r\n",
        "\r\n",
        "for pos in negatives:\r\n",
        "    full[\"Negative\"]+= full[\"infos\"].apply( lambda f: len(re.findall(pos,f.lower())) if re.search(pos,f.lower()) else 0)\r\n",
        "\r\n",
        "for pos in surprise:\r\n",
        "    full[\"Surprise\"]+= full[\"infos\"].apply( lambda f: len(re.findall(pos,f.lower())) if re.search(pos,f.lower()) else 0)\r\n",
        "\r\n",
        "\r\n",
        "full.sort_values(\"Positive\", ascending=False)\r\n"
      ],
      "outputs": [
        {
          "output_type": "execute_result",
          "execution_count": 256,
          "data": {
            "text/plain": "                              Name  \\\n323820               ABASCAL CONDE   \n281455     SÁNCHEZ PÉREZ-CASTEJÓN    \n323818     GARRIGA VAZ DE CONCICAO   \n221737          RODRÍGUEZ ZAPATERO   \n221754          RODRÍGUEZ ZAPATERO   \n...                            ...   \n124973  FERNÁNDEZ-MIRANDA Y LOZANA   \n124971  FERNÁNDEZ-MIRANDA Y LOZANA   \n124970   ÁLVAREZ- CASCOS FERNÁNDEZ   \n124969  FERNÁNDEZ-MIRANDA Y LOZANA   \n355625                  PRESIDENTA   \n\n                                                     Text        Date  Term  \\\n323820  Muchas gracias, señora presidenta. Señorías, b...  2020-10-21   XIV   \n281455  Señor presidente, señorías, nos encontramos aq...  2016-03-01    XI   \n323818  Gracias, señora presidenta. Señorías, tengo el...  2020-10-21   XIV   \n221737  Señor presidente, señorías, quiero que mis pri...  2007-07-03  VIII   \n221754  Muchas gracias, señor presidente. Por eso le d...  2007-07-03  VIII   \n...                                                   ...         ...   ...   \n124973  Muchas gracias, señor vicepresidente. Para la ...  1999-11-17    VI   \n124971               Señorías, les ruego guarden silencio  1999-11-17    VI   \n124970  Señor presidente, señorías, el presupuesto de ...  1999-11-17    VI   \n124969  Se reanuda la sesión. Corresponde, según el or...  1999-11-17    VI   \n355625  En consecuencia, queda avocado por el Pleno el...  2022-11-03   XIV   \n\n                                                    Title  \\\n323820                                               None   \n281455            CANDIDATO A LA PRESIDENCIA DEL GOBIERNO   \n323818                                               None   \n221737                           PRESIDENTE DEL GOBIERNO    \n221754                           PRESIDENTE DEL GOBIERNO    \n...                                                   ...   \n124973                                    VICEPRESIDENTE    \n124971                                    VICEPRESIDENTE    \n124970  VICEPRESIDENTE PRIMERO DEL GOBIERNO Y MINISTRO...   \n124969                                    VICEPRESIDENTE    \n355625                                               None   \n\n                                                    infos   TextLen  Data  \\\n323820  (aplausos),(Aplausos),(Aplausos),(Aplausos),(A...  101263.0  None   \n281455  (Aplausos),(Aplausos),(Aplausos),(Protestas),(...   83525.0  None   \n323818  (Aplausos),(Aplausos),(Aplausos),(Aplausos),(r...   56511.0  None   \n221737  (Aplausos),(Rumores),(Rumores),(Aplausos),(Apl...   59227.0  None   \n221754  (Aplausos.-Rumores),(Protestas),(El señor Mart...   34169.0  None   \n...                                                   ...       ...   ...   \n124973                                                        246.0  None   \n124971                                                         36.0  None   \n124970  (Feder),(El señor Aguiriano Forniés: Dos años)...    7444.0  None   \n124969                                                        378.0  None   \n355625                                                        426.0  None   \n\n       InterventionType  Positive  Negative  Surprise  \n323820             None       105         9         0  \n281455             None        63        46         1  \n323818             None        50         6         0  \n221737             None        50        14         0  \n221754             None        50        19         1  \n...                 ...       ...       ...       ...  \n124973             None         0         0         0  \n124971             None         0         0         0  \n124970             None         0         0         0  \n124969             None         0         0         0  \n355625             None         0         0         0  \n\n[355626 rows x 12 columns]",
            "text/html": "<div>\n<style scoped>\n    .dataframe tbody tr th:only-of-type {\n        vertical-align: middle;\n    }\n\n    .dataframe tbody tr th {\n        vertical-align: top;\n    }\n\n    .dataframe thead th {\n        text-align: right;\n    }\n</style>\n<table border=\"1\" class=\"dataframe\">\n  <thead>\n    <tr style=\"text-align: right;\">\n      <th></th>\n      <th>Name</th>\n      <th>Text</th>\n      <th>Date</th>\n      <th>Term</th>\n      <th>Title</th>\n      <th>infos</th>\n      <th>TextLen</th>\n      <th>Data</th>\n      <th>InterventionType</th>\n      <th>Positive</th>\n      <th>Negative</th>\n      <th>Surprise</th>\n    </tr>\n  </thead>\n  <tbody>\n    <tr>\n      <th>323820</th>\n      <td>ABASCAL CONDE</td>\n      <td>Muchas gracias, señora presidenta. Señorías, b...</td>\n      <td>2020-10-21</td>\n      <td>XIV</td>\n      <td>None</td>\n      <td>(aplausos),(Aplausos),(Aplausos),(Aplausos),(A...</td>\n      <td>101263.0</td>\n      <td>None</td>\n      <td>None</td>\n      <td>105</td>\n      <td>9</td>\n      <td>0</td>\n    </tr>\n    <tr>\n      <th>281455</th>\n      <td>SÁNCHEZ PÉREZ-CASTEJÓN</td>\n      <td>Señor presidente, señorías, nos encontramos aq...</td>\n      <td>2016-03-01</td>\n      <td>XI</td>\n      <td>CANDIDATO A LA PRESIDENCIA DEL GOBIERNO</td>\n      <td>(Aplausos),(Aplausos),(Aplausos),(Protestas),(...</td>\n      <td>83525.0</td>\n      <td>None</td>\n      <td>None</td>\n      <td>63</td>\n      <td>46</td>\n      <td>1</td>\n    </tr>\n    <tr>\n      <th>323818</th>\n      <td>GARRIGA VAZ DE CONCICAO</td>\n      <td>Gracias, señora presidenta. Señorías, tengo el...</td>\n      <td>2020-10-21</td>\n      <td>XIV</td>\n      <td>None</td>\n      <td>(Aplausos),(Aplausos),(Aplausos),(Aplausos),(r...</td>\n      <td>56511.0</td>\n      <td>None</td>\n      <td>None</td>\n      <td>50</td>\n      <td>6</td>\n      <td>0</td>\n    </tr>\n    <tr>\n      <th>221737</th>\n      <td>RODRÍGUEZ ZAPATERO</td>\n      <td>Señor presidente, señorías, quiero que mis pri...</td>\n      <td>2007-07-03</td>\n      <td>VIII</td>\n      <td>PRESIDENTE DEL GOBIERNO</td>\n      <td>(Aplausos),(Rumores),(Rumores),(Aplausos),(Apl...</td>\n      <td>59227.0</td>\n      <td>None</td>\n      <td>None</td>\n      <td>50</td>\n      <td>14</td>\n      <td>0</td>\n    </tr>\n    <tr>\n      <th>221754</th>\n      <td>RODRÍGUEZ ZAPATERO</td>\n      <td>Muchas gracias, señor presidente. Por eso le d...</td>\n      <td>2007-07-03</td>\n      <td>VIII</td>\n      <td>PRESIDENTE DEL GOBIERNO</td>\n      <td>(Aplausos.-Rumores),(Protestas),(El señor Mart...</td>\n      <td>34169.0</td>\n      <td>None</td>\n      <td>None</td>\n      <td>50</td>\n      <td>19</td>\n      <td>1</td>\n    </tr>\n    <tr>\n      <th>...</th>\n      <td>...</td>\n      <td>...</td>\n      <td>...</td>\n      <td>...</td>\n      <td>...</td>\n      <td>...</td>\n      <td>...</td>\n      <td>...</td>\n      <td>...</td>\n      <td>...</td>\n      <td>...</td>\n      <td>...</td>\n    </tr>\n    <tr>\n      <th>124973</th>\n      <td>FERNÁNDEZ-MIRANDA Y LOZANA</td>\n      <td>Muchas gracias, señor vicepresidente. Para la ...</td>\n      <td>1999-11-17</td>\n      <td>VI</td>\n      <td>VICEPRESIDENTE</td>\n      <td></td>\n      <td>246.0</td>\n      <td>None</td>\n      <td>None</td>\n      <td>0</td>\n      <td>0</td>\n      <td>0</td>\n    </tr>\n    <tr>\n      <th>124971</th>\n      <td>FERNÁNDEZ-MIRANDA Y LOZANA</td>\n      <td>Señorías, les ruego guarden silencio</td>\n      <td>1999-11-17</td>\n      <td>VI</td>\n      <td>VICEPRESIDENTE</td>\n      <td></td>\n      <td>36.0</td>\n      <td>None</td>\n      <td>None</td>\n      <td>0</td>\n      <td>0</td>\n      <td>0</td>\n    </tr>\n    <tr>\n      <th>124970</th>\n      <td>ÁLVAREZ- CASCOS FERNÁNDEZ</td>\n      <td>Señor presidente, señorías, el presupuesto de ...</td>\n      <td>1999-11-17</td>\n      <td>VI</td>\n      <td>VICEPRESIDENTE PRIMERO DEL GOBIERNO Y MINISTRO...</td>\n      <td>(Feder),(El señor Aguiriano Forniés: Dos años)...</td>\n      <td>7444.0</td>\n      <td>None</td>\n      <td>None</td>\n      <td>0</td>\n      <td>0</td>\n      <td>0</td>\n    </tr>\n    <tr>\n      <th>124969</th>\n      <td>FERNÁNDEZ-MIRANDA Y LOZANA</td>\n      <td>Se reanuda la sesión. Corresponde, según el or...</td>\n      <td>1999-11-17</td>\n      <td>VI</td>\n      <td>VICEPRESIDENTE</td>\n      <td></td>\n      <td>378.0</td>\n      <td>None</td>\n      <td>None</td>\n      <td>0</td>\n      <td>0</td>\n      <td>0</td>\n    </tr>\n    <tr>\n      <th>355625</th>\n      <td>PRESIDENTA</td>\n      <td>En consecuencia, queda avocado por el Pleno el...</td>\n      <td>2022-11-03</td>\n      <td>XIV</td>\n      <td>None</td>\n      <td></td>\n      <td>426.0</td>\n      <td>None</td>\n      <td>None</td>\n      <td>0</td>\n      <td>0</td>\n      <td>0</td>\n    </tr>\n  </tbody>\n</table>\n<p>355626 rows × 12 columns</p>\n</div>"
          },
          "metadata": {}
        }
      ],
      "execution_count": 256,
      "metadata": {
        "jupyter": {
          "source_hidden": false,
          "outputs_hidden": false
        },
        "nteract": {
          "transient": {
            "deleting": false
          }
        },
        "gather": {
          "logged": 1670800793478
        }
      }
    },
    {
      "cell_type": "code",
      "source": [
        "full.describe()"
      ],
      "outputs": [
        {
          "output_type": "execute_result",
          "execution_count": 257,
          "data": {
            "text/plain": "             TextLen       Positive       Negative       Surprise\ncount  355529.000000  355626.000000  355626.000000  355626.000000\nmean     1470.331863       0.294152       0.124912       0.002041\nstd      3122.847285       1.056537       0.617666       0.052348\nmin         0.000000       0.000000       0.000000       0.000000\n25%        76.000000       0.000000       0.000000       0.000000\n50%       200.000000       0.000000       0.000000       0.000000\n75%      1360.000000       0.000000       0.000000       0.000000\nmax    101263.000000     105.000000      46.000000       7.000000",
            "text/html": "<div>\n<style scoped>\n    .dataframe tbody tr th:only-of-type {\n        vertical-align: middle;\n    }\n\n    .dataframe tbody tr th {\n        vertical-align: top;\n    }\n\n    .dataframe thead th {\n        text-align: right;\n    }\n</style>\n<table border=\"1\" class=\"dataframe\">\n  <thead>\n    <tr style=\"text-align: right;\">\n      <th></th>\n      <th>TextLen</th>\n      <th>Positive</th>\n      <th>Negative</th>\n      <th>Surprise</th>\n    </tr>\n  </thead>\n  <tbody>\n    <tr>\n      <th>count</th>\n      <td>355529.000000</td>\n      <td>355626.000000</td>\n      <td>355626.000000</td>\n      <td>355626.000000</td>\n    </tr>\n    <tr>\n      <th>mean</th>\n      <td>1470.331863</td>\n      <td>0.294152</td>\n      <td>0.124912</td>\n      <td>0.002041</td>\n    </tr>\n    <tr>\n      <th>std</th>\n      <td>3122.847285</td>\n      <td>1.056537</td>\n      <td>0.617666</td>\n      <td>0.052348</td>\n    </tr>\n    <tr>\n      <th>min</th>\n      <td>0.000000</td>\n      <td>0.000000</td>\n      <td>0.000000</td>\n      <td>0.000000</td>\n    </tr>\n    <tr>\n      <th>25%</th>\n      <td>76.000000</td>\n      <td>0.000000</td>\n      <td>0.000000</td>\n      <td>0.000000</td>\n    </tr>\n    <tr>\n      <th>50%</th>\n      <td>200.000000</td>\n      <td>0.000000</td>\n      <td>0.000000</td>\n      <td>0.000000</td>\n    </tr>\n    <tr>\n      <th>75%</th>\n      <td>1360.000000</td>\n      <td>0.000000</td>\n      <td>0.000000</td>\n      <td>0.000000</td>\n    </tr>\n    <tr>\n      <th>max</th>\n      <td>101263.000000</td>\n      <td>105.000000</td>\n      <td>46.000000</td>\n      <td>7.000000</td>\n    </tr>\n  </tbody>\n</table>\n</div>"
          },
          "metadata": {}
        }
      ],
      "execution_count": 257,
      "metadata": {
        "jupyter": {
          "source_hidden": false,
          "outputs_hidden": false
        },
        "nteract": {
          "transient": {
            "deleting": false
          }
        },
        "gather": {
          "logged": 1670800793700
        }
      }
    },
    {
      "cell_type": "code",
      "source": [
        "# Store the full debates to a parquet file\r\n",
        "full.to_parquet('../debates.parquet', index=False)"
      ],
      "outputs": [],
      "execution_count": 258,
      "metadata": {
        "jupyter": {
          "source_hidden": false,
          "outputs_hidden": false
        },
        "nteract": {
          "transient": {
            "deleting": false
          }
        },
        "gather": {
          "logged": 1670800801375
        }
      }
    },
    {
      "cell_type": "code",
      "source": [
        "# Find specific politicians and store them as CSV\r\n",
        "full[full['Name'].str.contains('EZ ZAPATERO')].to_csv('../zapatero.csv', index=False)\r\n",
        "full[full['Name'].str.contains('RAJOY')].to_csv('../rajoy.csv',index=False)"
      ],
      "outputs": [],
      "execution_count": 259,
      "metadata": {
        "jupyter": {
          "source_hidden": false,
          "outputs_hidden": false
        },
        "nteract": {
          "transient": {
            "deleting": false
          }
        },
        "gather": {
          "logged": 1670800802399
        }
      }
    },
    {
      "cell_type": "code",
      "source": [
        "full[full['Name'].str.contains('RAJOY')].iloc[1][\"Text\"]"
      ],
      "outputs": [
        {
          "output_type": "execute_result",
          "execution_count": 260,
          "data": {
            "text/plain": "'Señor presidente, hace siete días le pregunté aquí sobre la situación de la economía española y las medidas que usted iba a tomar. No me respondió gran cosa, salvo que estábamos preparados mejor que nadie. Yo le voy a dar algunos datos que hemos conocido esta semana, esto es, desde el miércoles pasado: el IPC está en el 4,7 es decir 0,5 puntos más que en abril; el diferencial de inflación con la Unión Europea en el 1,1 es decir 0,2 puntos más que en abril; el dato de paro registrado del mes de mayo es el peor desde 1979; el déficit exterior aumentó en el primer trimestre el 19,1 y hoy es el 11,3 del PIB. Hoy dice la OCDE en sus previsiones que España crecerá el 1,6 este año, menos de la media de la Unión Europea, y hay muchos más datos en estos siete días: sobre ventas minoristas, ventas de automóviles, constituciones de hipotecas, el sector turístico. No voy a entrar en ellos porque no hay tiempo, pero le diré una cosa: la confianza de las empresas y de las familias españolas está en mínimos, y usted parece no darse por enterado, y por eso yo le tengo que preguntar qué hace, qué va a hacer, qué piensa de todo esto, porque parece que a usted no le importa, pero a los españoles sí, porque estamos hablando de su vida y eso es muy importante.'"
          },
          "metadata": {}
        }
      ],
      "execution_count": 260,
      "metadata": {
        "jupyter": {
          "source_hidden": false,
          "outputs_hidden": false
        },
        "nteract": {
          "transient": {
            "deleting": false
          }
        },
        "gather": {
          "logged": 1670800802585
        }
      }
    },
    {
      "cell_type": "code",
      "source": [
        "full[full[\"Name\"].str.contains(\"RAJOY\")].describe()"
      ],
      "outputs": [
        {
          "output_type": "execute_result",
          "execution_count": 261,
          "data": {
            "text/plain": "            TextLen     Positive     Negative     Surprise\ncount   2123.000000  2123.000000  2123.000000  2123.000000\nmean    3701.005652     2.113990     0.740462     0.026849\nstd     7683.510591     4.321462     1.791697     0.188588\nmin        2.000000     0.000000     0.000000     0.000000\n25%      517.000000     0.000000     0.000000     0.000000\n50%     1268.000000     1.000000     0.000000     0.000000\n75%     2211.000000     2.000000     1.000000     0.000000\nmax    74996.000000    48.000000    23.000000     3.000000",
            "text/html": "<div>\n<style scoped>\n    .dataframe tbody tr th:only-of-type {\n        vertical-align: middle;\n    }\n\n    .dataframe tbody tr th {\n        vertical-align: top;\n    }\n\n    .dataframe thead th {\n        text-align: right;\n    }\n</style>\n<table border=\"1\" class=\"dataframe\">\n  <thead>\n    <tr style=\"text-align: right;\">\n      <th></th>\n      <th>TextLen</th>\n      <th>Positive</th>\n      <th>Negative</th>\n      <th>Surprise</th>\n    </tr>\n  </thead>\n  <tbody>\n    <tr>\n      <th>count</th>\n      <td>2123.000000</td>\n      <td>2123.000000</td>\n      <td>2123.000000</td>\n      <td>2123.000000</td>\n    </tr>\n    <tr>\n      <th>mean</th>\n      <td>3701.005652</td>\n      <td>2.113990</td>\n      <td>0.740462</td>\n      <td>0.026849</td>\n    </tr>\n    <tr>\n      <th>std</th>\n      <td>7683.510591</td>\n      <td>4.321462</td>\n      <td>1.791697</td>\n      <td>0.188588</td>\n    </tr>\n    <tr>\n      <th>min</th>\n      <td>2.000000</td>\n      <td>0.000000</td>\n      <td>0.000000</td>\n      <td>0.000000</td>\n    </tr>\n    <tr>\n      <th>25%</th>\n      <td>517.000000</td>\n      <td>0.000000</td>\n      <td>0.000000</td>\n      <td>0.000000</td>\n    </tr>\n    <tr>\n      <th>50%</th>\n      <td>1268.000000</td>\n      <td>1.000000</td>\n      <td>0.000000</td>\n      <td>0.000000</td>\n    </tr>\n    <tr>\n      <th>75%</th>\n      <td>2211.000000</td>\n      <td>2.000000</td>\n      <td>1.000000</td>\n      <td>0.000000</td>\n    </tr>\n    <tr>\n      <th>max</th>\n      <td>74996.000000</td>\n      <td>48.000000</td>\n      <td>23.000000</td>\n      <td>3.000000</td>\n    </tr>\n  </tbody>\n</table>\n</div>"
          },
          "metadata": {}
        }
      ],
      "execution_count": 261,
      "metadata": {
        "jupyter": {
          "source_hidden": false,
          "outputs_hidden": false
        },
        "nteract": {
          "transient": {
            "deleting": false
          }
        },
        "gather": {
          "logged": 1670800802757
        }
      }
    }
  ],
  "metadata": {
    "kernelspec": {
      "name": "python38-azureml",
      "language": "python",
      "display_name": "Python 3.8 - AzureML"
    },
    "language_info": {
      "name": "python",
      "version": "3.8.5",
      "mimetype": "text/x-python",
      "codemirror_mode": {
        "name": "ipython",
        "version": 3
      },
      "pygments_lexer": "ipython3",
      "nbconvert_exporter": "python",
      "file_extension": ".py"
    },
    "kernel_info": {
      "name": "python38-azureml"
    },
    "nteract": {
      "version": "nteract-front-end@1.0.0"
    },
    "microsoft": {
      "host": {
        "AzureML": {
          "notebookHasBeenCompleted": true
        }
      }
    }
  },
  "nbformat": 4,
  "nbformat_minor": 2
}